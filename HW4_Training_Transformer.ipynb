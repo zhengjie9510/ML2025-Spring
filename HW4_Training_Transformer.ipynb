{
 "nbformat": 4,
 "nbformat_minor": 0,
 "metadata": {
  "colab": {
   "provenance": []
  },
  "kernelspec": {
   "name": "python3",
   "display_name": "Python 3"
  },
  "language_info": {
   "name": "python"
  }
 },
 "cells": [
  {
   "cell_type": "markdown",
   "source": [
    "# Training Transformer\n",
    "\n",
    "### TA's Slide\n",
    "[Slide](https://docs.google.com/presentation/d/1ga0d43mWyrfHjdkp7FG3iWcEKTGr8CdkifYhhi4LBY8/edit?usp=sharing)\n",
    "\n",
    "### Description\n",
    "In this assignment, we are tasked with utilizing a transformer decoder-only architecture for pretraining, with a focus on next-token prediction, applied to Pokémon images.\n",
    "\n",
    "Please feel free to mail us if you have any questions.\n",
    "\n",
    "ntu-ml-2025-spring-ta@googlegroups.com"
   ],
   "metadata": {
    "id": "QUwfibz3pw_R"
   }
  },
  {
   "cell_type": "markdown",
   "source": [
    "# Utilities"
   ],
   "metadata": {
    "id": "8TSNIY5SAZUR"
   }
  },
  {
   "cell_type": "markdown",
   "source": [
    "### Download packages"
   ],
   "metadata": {
    "id": "LlFjd2Jya7Me"
   }
  },
  {
   "cell_type": "code",
   "source": "# !pip install datasets==3.3.2, torchinfo",
   "metadata": {
    "colab": {
     "base_uri": "https://localhost:8080/"
    },
    "id": "fLdY0QcGsfii",
    "outputId": "bb8b3c7b-4a5e-430b-beea-e1ef255b07a1",
    "ExecuteTime": {
     "end_time": "2025-04-04T13:52:41.119378Z",
     "start_time": "2025-04-04T13:52:41.113854Z"
    }
   },
   "outputs": [],
   "execution_count": 2
  },
  {
   "cell_type": "markdown",
   "source": [
    "### Import Packages"
   ],
   "metadata": {
    "id": "kY7XIt-Msf5K"
   }
  },
  {
   "cell_type": "code",
   "source": [
    "import os\n",
    "from datetime import datetime\n",
    "import matplotlib.pyplot as plt\n",
    "import numpy as np\n",
    "import torch\n",
    "import torch.optim as optim\n",
    "from PIL import Image\n",
    "from torch import nn\n",
    "from torch.utils.data import DataLoader, Dataset\n",
    "from tqdm import tqdm\n",
    "from torch.utils.tensorboard import SummaryWriter\n",
    "from transformers import AutoModelForCausalLM, GPT2Config, set_seed, Qwen2Config\n",
    "from datasets import load_dataset, load_from_disk\n",
    "from typing import Dict, Any, Optional"
   ],
   "metadata": {
    "id": "OJ_4mAauKFu1",
    "ExecuteTime": {
     "end_time": "2025-04-04T13:52:46.580708Z",
     "start_time": "2025-04-04T13:52:44.121291Z"
    }
   },
   "outputs": [],
   "execution_count": 3
  },
  {
   "cell_type": "markdown",
   "source": [
    "### Check Devices"
   ],
   "metadata": {
    "id": "WixuPQuGbG_z"
   }
  },
  {
   "cell_type": "code",
   "source": [
    "!nvidia-smi"
   ],
   "metadata": {
    "colab": {
     "base_uri": "https://localhost:8080/"
    },
    "id": "9COb5XCNbJA_",
    "outputId": "940352f2-4535-4df9-fae5-a8695824cc43",
    "ExecuteTime": {
     "end_time": "2025-04-04T13:52:47.420082Z",
     "start_time": "2025-04-04T13:52:46.599734Z"
    }
   },
   "outputs": [
    {
     "name": "stdout",
     "output_type": "stream",
     "text": [
      "/bin/bash: warning: setlocale: LC_ALL: cannot change locale (en_US.UTF-8)\r\n",
      "Fri Apr  4 13:52:46 2025       \r\n",
      "+-----------------------------------------------------------------------------------------+\r\n",
      "| NVIDIA-SMI 550.144.03             Driver Version: 550.144.03     CUDA Version: 12.4     |\r\n",
      "|-----------------------------------------+------------------------+----------------------+\r\n",
      "| GPU  Name                 Persistence-M | Bus-Id          Disp.A | Volatile Uncorr. ECC |\r\n",
      "| Fan  Temp   Perf          Pwr:Usage/Cap |           Memory-Usage | GPU-Util  Compute M. |\r\n",
      "|                                         |                        |               MIG M. |\r\n",
      "|=========================================+========================+======================|\r\n",
      "|   0  NVIDIA A100-SXM4-80GB          Off |   00000000:25:00.0 Off |                    0 |\r\n",
      "| N/A   25C    P0             36W /  400W |       1MiB /  81920MiB |      0%      Default |\r\n",
      "|                                         |                        |             Disabled |\r\n",
      "+-----------------------------------------+------------------------+----------------------+\r\n",
      "                                                                                         \r\n",
      "+-----------------------------------------------------------------------------------------+\r\n",
      "| Processes:                                                                              |\r\n",
      "|  GPU   GI   CI        PID   Type   Process name                              GPU Memory |\r\n",
      "|        ID   ID                                                               Usage      |\r\n",
      "|=========================================================================================|\r\n",
      "|  No running processes found                                                             |\r\n",
      "+-----------------------------------------------------------------------------------------+\r\n"
     ]
    }
   ],
   "execution_count": 4
  },
  {
   "cell_type": "markdown",
   "source": [
    "### Set Random Seed"
   ],
   "metadata": {
    "id": "plHUxP_oeh2U"
   }
  },
  {
   "cell_type": "code",
   "source": [
    "set_seed(0)"
   ],
   "metadata": {
    "id": "Z3YIraV3ehgv",
    "ExecuteTime": {
     "end_time": "2025-04-04T13:52:47.453851Z",
     "start_time": "2025-04-04T13:52:47.444143Z"
    }
   },
   "outputs": [],
   "execution_count": 5
  },
  {
   "cell_type": "markdown",
   "source": [
    "# Prepare Data"
   ],
   "metadata": {
    "id": "w4p3ErI1AaYq"
   }
  },
  {
   "cell_type": "markdown",
   "source": [
    "### Define Dataset"
   ],
   "metadata": {
    "id": "1J0xr161bREA"
   }
  },
  {
   "cell_type": "code",
   "source": [
    "from typing import List, Tuple, Union\n",
    "import torch\n",
    "from torch.utils.data import Dataset\n",
    "\n",
    "\n",
    "class PixelSequenceDataset(Dataset):\n",
    "    def __init__(self, data: List[List[int]], mode: str = \"train\"):\n",
    "        \"\"\"\n",
    "        A dataset class for handling pixel sequences.\n",
    "\n",
    "        Args:\n",
    "            data (List[List[int]]): A list of sequences, where each sequence is a list of integers.\n",
    "            mode (str): The mode of operation, either \"train\", \"dev\", or \"test\".\n",
    "                - \"train\": Returns (input_ids, labels) where input_ids are sequence[:-1] and labels are sequence[1:].\n",
    "                - \"dev\": Returns (input_ids, labels) where input_ids are sequence[:-160] and labels are sequence[-160:].\n",
    "                - \"test\": Returns only input_ids, as labels are not available.\n",
    "        \"\"\"\n",
    "        self.data = data\n",
    "        self.mode = mode\n",
    "\n",
    "    def __len__(self) -> int:\n",
    "        \"\"\"Returns the total number of sequences in the dataset.\"\"\"\n",
    "        return len(self.data)\n",
    "\n",
    "    def __getitem__(self, idx: int) -> Union[Tuple[torch.Tensor, torch.Tensor], torch.Tensor]:\n",
    "        \"\"\"\n",
    "        Fetches a sequence from the dataset and processes it based on the mode.\n",
    "\n",
    "        Args:\n",
    "            idx (int): The index of the sequence.\n",
    "\n",
    "        Returns:\n",
    "            - If mode == \"train\": Tuple[torch.Tensor, torch.Tensor] -> (input_ids, labels)\n",
    "            - If mode == \"dev\": Tuple[torch.Tensor, torch.Tensor] -> (input_ids, labels)\n",
    "            - If mode == \"test\": torch.Tensor -> input_ids\n",
    "        \"\"\"\n",
    "        sequence = self.data[idx]\n",
    "\n",
    "        if self.mode == \"train\":\n",
    "            input_ids = torch.tensor(sequence[:-1], dtype=torch.long)\n",
    "            labels = torch.tensor(sequence[1:], dtype=torch.long)\n",
    "            return input_ids, labels\n",
    "\n",
    "        elif self.mode == \"dev\":\n",
    "            input_ids = torch.tensor(sequence[:-160], dtype=torch.long)\n",
    "            labels = torch.tensor(sequence[-160:], dtype=torch.long)\n",
    "            return input_ids, labels\n",
    "\n",
    "        elif self.mode == \"test\":\n",
    "            input_ids = torch.tensor(sequence, dtype=torch.long)\n",
    "            return input_ids\n",
    "\n",
    "        raise ValueError(f\"Invalid mode: {self.mode}. Choose from 'train', 'dev', or 'test'.\")"
   ],
   "metadata": {
    "id": "Bi9YvYn3uD32",
    "ExecuteTime": {
     "end_time": "2025-04-04T13:52:49.567633Z",
     "start_time": "2025-04-04T13:52:49.549490Z"
    }
   },
   "outputs": [],
   "execution_count": 6
  },
  {
   "cell_type": "markdown",
   "source": [
    "### Download Dataset & Prepare Dataloader"
   ],
   "metadata": {
    "id": "zY6TJDuNbdTr"
   }
  },
  {
   "cell_type": "code",
   "source": [
    "# Load the pokemon dataset from disk\n",
    "pokemon_dataset = load_from_disk(\"dataset/ml2025-hw4-pokemon\")\n",
    "\n",
    "# Load the colormap from disk\n",
    "colormap = list(load_from_disk(\"dataset/ml2025-hw4-colormap\")[\"train\"][\"color\"])\n",
    "\n",
    "# Define number of classes\n",
    "num_classes = len(colormap)\n",
    "\n",
    "# Define batch size\n",
    "batch_size = 16\n",
    "\n",
    "# === Prepare Dataset and DataLoader for Training ===\n",
    "train_dataset: PixelSequenceDataset = PixelSequenceDataset(\n",
    "    pokemon_dataset[\"train\"][\"pixel_color\"], mode=\"train\"\n",
    ")\n",
    "train_dataloader: DataLoader = DataLoader(\n",
    "    train_dataset, batch_size=batch_size, shuffle=True\n",
    ")\n",
    "\n",
    "# === Prepare Dataset and DataLoader for Validation ===\n",
    "dev_dataset: PixelSequenceDataset = PixelSequenceDataset(\n",
    "    pokemon_dataset[\"dev\"][\"pixel_color\"], mode=\"dev\"\n",
    ")\n",
    "dev_dataloader: DataLoader = DataLoader(\n",
    "    dev_dataset, batch_size=batch_size, shuffle=False\n",
    ")\n",
    "\n",
    "# === Prepare Dataset and DataLoader for Testing ===\n",
    "test_dataset: PixelSequenceDataset = PixelSequenceDataset(\n",
    "    pokemon_dataset[\"test\"][\"pixel_color\"], mode=\"test\"\n",
    ")\n",
    "test_dataloader: DataLoader = DataLoader(\n",
    "    test_dataset, batch_size=batch_size, shuffle=False\n",
    ")"
   ],
   "metadata": {
    "id": "lHXfCPXoBEUD",
    "ExecuteTime": {
     "end_time": "2025-04-04T13:52:52.036601Z",
     "start_time": "2025-04-04T13:52:51.867369Z"
    }
   },
   "outputs": [],
   "execution_count": 7
  },
  {
   "cell_type": "markdown",
   "source": [
    "### Visualization"
   ],
   "metadata": {
    "id": "Ink91WB5BGxv"
   }
  },
  {
   "cell_type": "code",
   "source": [
    "def pixel_to_image(pixel_color: List[int], colormap: List[List[int]]) -> Image.Image:\n",
    "    \"\"\"\n",
    "    Converts a list of pixel indices into a 20x20 RGB image using a colormap.\n",
    "\n",
    "    Args:\n",
    "        pixel_color (List[int]): A list of pixel indices representing colors.\n",
    "        colormap (List[List[int]]): A list where each index maps to an RGB color [R, G, B].\n",
    "\n",
    "    Returns:\n",
    "        Image.Image: A PIL Image object representing the reconstructed image.\n",
    "    \"\"\"\n",
    "    # Ensure the pixel_color list has at least 400 elements (pad with 0s if needed)\n",
    "    while len(pixel_color) < 400:\n",
    "        pixel_color.append(0)\n",
    "\n",
    "    # Map pixel indices to actual RGB colors using the colormap\n",
    "    pixel_data = [colormap[pixel] for pixel in pixel_color]\n",
    "\n",
    "    # Convert to numpy array and reshape to 20x20x3 (RGB image)\n",
    "    image_array = np.array(pixel_data, dtype=np.uint8).reshape(20, 20, 3)\n",
    "\n",
    "    # Create a PIL Image from the array\n",
    "    image = Image.fromarray(image_array)\n",
    "\n",
    "    return image\n",
    "\n",
    "\n",
    "def show_images(images: List[Image.Image]) -> None:\n",
    "    \"\"\"\n",
    "    Displays a grid of up to 96 images using Matplotlib.\n",
    "\n",
    "    Args:\n",
    "        images (List[Image.Image]): A list of PIL Image objects to display.\n",
    "\n",
    "    Returns:\n",
    "        None\n",
    "    \"\"\"\n",
    "    num_images = min(96, len(images))  # Limit to 96 images\n",
    "\n",
    "    # Set up the figure size and grid layout (6 rows, 16 columns)\n",
    "    fig, axes = plt.subplots(6, 16, figsize=(16, 6))\n",
    "    axes = axes.flatten()  # Flatten to make iteration easier\n",
    "\n",
    "    # Loop through images and display each one in the grid\n",
    "    for i, ax in enumerate(axes):\n",
    "        if i < num_images:\n",
    "            ax.imshow(images[i])\n",
    "            ax.axis('off')  # Hide axis\n",
    "        else:\n",
    "            ax.axis('off')  # Hide unused subplots\n",
    "\n",
    "    plt.tight_layout()  # Adjust layout to prevent overlap\n",
    "    plt.show()"
   ],
   "metadata": {
    "id": "ARCMjCUfBGV9",
    "ExecuteTime": {
     "end_time": "2025-04-04T13:52:56.245416Z",
     "start_time": "2025-04-04T13:52:56.229373Z"
    }
   },
   "outputs": [],
   "execution_count": 8
  },
  {
   "cell_type": "code",
   "source": [
    "# Visualize train images\n",
    "train_images = [pixel_to_image(data[\"pixel_color\"], colormap) for data in pokemon_dataset[\"train\"]]\n",
    "show_images(train_images)"
   ],
   "metadata": {
    "colab": {
     "base_uri": "https://localhost:8080/",
     "height": 511
    },
    "id": "706fqI8NBJGm",
    "outputId": "d1ca284f-0a73-4e41-f1c5-1e221d96226d",
    "ExecuteTime": {
     "end_time": "2025-04-04T13:53:00.218993Z",
     "start_time": "2025-04-04T13:52:58.818563Z"
    }
   },
   "outputs": [
    {
     "data": {
      "text/plain": [
       "<Figure size 1600x600 with 96 Axes>"
      ],
      "image/png": "[encoded data removed]"
     },
     "metadata": {},
     "output_type": "display_data"
    }
   ],
   "execution_count": 9
  },
  {
   "cell_type": "code",
   "source": [
    "# Visualize test images\n",
    "test_images = [pixel_to_image(data[\"pixel_color\"], colormap) for data in pokemon_dataset[\"test\"]]\n",
    "show_images(test_images)"
   ],
   "metadata": {
    "colab": {
     "base_uri": "https://localhost:8080/",
     "height": 511
    },
    "id": "QtllXoTLBKXk",
    "outputId": "42e90db5-8d63-4e4d-9f35-aa23febae447",
    "ExecuteTime": {
     "end_time": "2025-04-04T13:53:01.678698Z",
     "start_time": "2025-04-04T13:53:00.582476Z"
    }
   },
   "outputs": [
    {
     "data": {
      "text/plain": [
       "<Figure size 1600x600 with 96 Axes>"
      ],
      "image/png": "[encoded data removed]"
     },
     "metadata": {},
     "output_type": "display_data"
    }
   ],
   "execution_count": 10
  },
  {
   "cell_type": "markdown",
   "source": [
    "# Prepare Model"
   ],
   "metadata": {
    "id": "wjbJUIxzBNEH"
   }
  },
  {
   "cell_type": "markdown",
   "source": [
    "### Model Configuration\n",
    "Here, we define the model configuration, including the architecture and key hyperparameters such as the number of attention heads, layers, embedding size, and more.\n",
    "*   Hint 1: Adjust hyperparameters here for improved performance.\n",
    "*   Hint 2: Experiment with different model architectures, such as Llama, Mistral, or Qwen, to enhance performance.\n",
    "  * [LlamaConfig](https://huggingface.co/docs/transformers/model_doc/llama#transformers.LlamaConfig)\n",
    "  * [MistralConfig](https://huggingface.co/docs/transformers/model_doc/mistral#transformers.MistralConfig)\n",
    "  * [Qwen2Config](https://huggingface.co/docs/transformers/model_doc/qwen2#transformers.Qwen2Config)\n"
   ],
   "metadata": {
    "id": "o541odctzSc9"
   }
  },
  {
   "cell_type": "code",
   "source": [
    "# Define GPT-2 model configuration as a dictionary\n",
    "gpt2_config = {\n",
    "    \"activation_function\": \"gelu_new\",  # Activation function used in the model\n",
    "    \"architectures\": [\"GPT2LMHeadModel\"],  # Specifies the model type\n",
    "    \"attn_pdrop\": 0.1,  # Dropout rate for attention layers\n",
    "    \"embd_pdrop\": 0.1,  # Dropout rate for embeddings\n",
    "    \"initializer_range\": 0.02,  # Standard deviation for weight initialization\n",
    "    \"layer_norm_epsilon\": 1e-05,  # Small constant to improve numerical stability in layer norm\n",
    "    \"model_type\": \"gpt2\",  # Type of model\n",
    "    \"n_ctx\": 128 * 2,  # Context size (maximum sequence length)\n",
    "    \"n_embd\": 64 * 2,  # Embedding size\n",
    "    \"n_head\": 2,  # Number of attention heads\n",
    "    \"n_layer\": 2,  # Number of transformer layers\n",
    "    \"n_positions\": 400,  # Maximum number of token positions\n",
    "    \"resid_pdrop\": 0.1,  # Dropout rate for residual connections\n",
    "    \"vocab_size\": num_classes,  # Number of unique tokens in vocabulary\n",
    "    \"pad_token_id\": None,  # Padding token ID (None means no padding token)\n",
    "    \"eos_token_id\": None,  # End-of-sequence token ID (None means not explicitly defined)\n",
    "}\n",
    "\n",
    "# Load GPT-2 model configuration from dictionary\n",
    "config = GPT2Config.from_dict(gpt2_config)\n",
    "\n",
    "# Define Qwen2 model configuration as a dictionary\n",
    "qwen2_config = {\n",
    "    \"attention_dropout\": 0.0,\n",
    "    \"hidden_act\": \"silu\",\n",
    "    \"hidden_size\": 256,\n",
    "    \"initializer_range\": 0.02,\n",
    "    \"intermediate_size\": 1025,\n",
    "    \"max_position_embeddings\": 400,\n",
    "    \"max_window_layers\": 28,\n",
    "    \"model_type\": \"qwen2\",\n",
    "    \"num_attention_heads\": 2,\n",
    "    \"num_hidden_layers\": 2,\n",
    "    \"num_key_value_heads\": 2,\n",
    "    \"rms_norm_eps\": 1e-06,\n",
    "    \"rope_scaling\": None,\n",
    "    \"rope_theta\": 10000.0,\n",
    "    \"sliding_window\": None,\n",
    "    \"tie_word_embeddings\": False,\n",
    "    \"transformers_version\": \"4.47.0\",\n",
    "    \"use_cache\": True,\n",
    "    \"use_sliding_window\": False,\n",
    "    \"vocab_size\": num_classes\n",
    "}\n",
    "config = Qwen2Config.from_dict(qwen2_config)"
   ],
   "metadata": {
    "id": "pDpLtOZBzU3o",
    "ExecuteTime": {
     "end_time": "2025-04-04T13:59:45.173101Z",
     "start_time": "2025-04-04T13:59:45.154264Z"
    }
   },
   "outputs": [],
   "execution_count": 14
  },
  {
   "cell_type": "markdown",
   "source": [
    "### Load Model"
   ],
   "metadata": {
    "id": "JCOELUm4ujej"
   }
  },
  {
   "cell_type": "code",
   "source": [
    "# Load the model using the configuration defined above\n",
    "model = AutoModelForCausalLM.from_config(config)\n",
    "\n",
    "print(model)\n",
    "\n",
    "# Count trainable parameters\n",
    "trainable_params = sum(p.numel() for p in model.parameters() if p.requires_grad)\n",
    "\n",
    "print(f\"Trainable Parameters: {trainable_params:,}\")"
   ],
   "metadata": {
    "colab": {
     "base_uri": "https://localhost:8080/"
    },
    "id": "4U4JxNF5CFG6",
    "outputId": "cd84722e-12c3-42c0-840d-bee6e9c4ebc6",
    "ExecuteTime": {
     "end_time": "2025-04-04T14:01:53.145925Z",
     "start_time": "2025-04-04T14:01:53.090549Z"
    }
   },
   "outputs": [
    {
     "name": "stdout",
     "output_type": "stream",
     "text": [
      "Qwen2ForCausalLM(\n",
      "  (model): Qwen2Model(\n",
      "    (embed_tokens): Embedding(167, 256)\n",
      "    (layers): ModuleList(\n",
      "      (0-1): 2 x Qwen2DecoderLayer(\n",
      "        (self_attn): Qwen2SdpaAttention(\n",
      "          (q_proj): Linear(in_features=256, out_features=256, bias=True)\n",
      "          (k_proj): Linear(in_features=256, out_features=256, bias=True)\n",
      "          (v_proj): Linear(in_features=256, out_features=256, bias=True)\n",
      "          (o_proj): Linear(in_features=256, out_features=256, bias=False)\n",
      "          (rotary_emb): Qwen2RotaryEmbedding()\n",
      "        )\n",
      "        (mlp): Qwen2MLP(\n",
      "          (gate_proj): Linear(in_features=256, out_features=1025, bias=False)\n",
      "          (up_proj): Linear(in_features=256, out_features=1025, bias=False)\n",
      "          (down_proj): Linear(in_features=1025, out_features=256, bias=False)\n",
      "          (act_fn): SiLU()\n",
      "        )\n",
      "        (input_layernorm): Qwen2RMSNorm((256,), eps=1e-06)\n",
      "        (post_attention_layernorm): Qwen2RMSNorm((256,), eps=1e-06)\n",
      "      )\n",
      "    )\n",
      "    (norm): Qwen2RMSNorm((256,), eps=1e-06)\n",
      "    (rotary_emb): Qwen2RotaryEmbedding()\n",
      "  )\n",
      "  (lm_head): Linear(in_features=256, out_features=167, bias=False)\n",
      ")\n",
      "Trainable Parameters: 2,187,008\n"
     ]
    }
   ],
   "execution_count": 25
  },
  {
   "cell_type": "code",
   "source": [
    "from torchinfo import summary\n",
    "\n",
    "# summary(model, input_data=(input_ids,))\n",
    "summary(model, input_size=torch.Size([batch_size, 399]), dtypes=[torch.long],\n",
    "        col_names=[\"input_size\",\n",
    "                   \"output_size\",\n",
    "                   \"num_params\", \"kernel_size\"])"
   ],
   "metadata": {
    "colab": {
     "base_uri": "https://localhost:8080/"
    },
    "id": "z9UWyuCE0H5I",
    "outputId": "94d910e5-2e91-4f9e-81f5-742d0eadead1",
    "ExecuteTime": {
     "end_time": "2025-04-04T14:01:39.331616Z",
     "start_time": "2025-04-04T14:01:39.299955Z"
    }
   },
   "outputs": [
    {
     "data": {
      "text/plain": [
       "=================================================================================================================================================\n",
       "Layer (type:depth-idx)                        Input Shape               Output Shape              Param #                   Kernel Shape\n",
       "=================================================================================================================================================\n",
       "Qwen2ForCausalLM                              [16, 399]                 [16, 2, 399, 128]         --                        --\n",
       "├─Qwen2Model: 1-1                             --                        [16, 2, 399, 128]         --                        --\n",
       "│    └─Embedding: 2-1                         [16, 399]                 [16, 399, 256]            42,752                    --\n",
       "│    └─Qwen2RotaryEmbedding: 2-2              [16, 399, 256]            [1, 399, 128]             --                        --\n",
       "│    └─ModuleList: 2-3                        --                        --                        --                        --\n",
       "│    │    └─Qwen2DecoderLayer: 3-1            [16, 399, 256]            [16, 399, 256]            1,050,624                 --\n",
       "│    │    └─Qwen2DecoderLayer: 3-2            [16, 399, 256]            [16, 399, 256]            1,050,624                 --\n",
       "│    └─Qwen2RMSNorm: 2-4                      [16, 399, 256]            [16, 399, 256]            256                       --\n",
       "├─Linear: 1-2                                 [16, 399, 256]            [16, 399, 167]            42,752                    --\n",
       "=================================================================================================================================================\n",
       "Total params: 2,187,008\n",
       "Trainable params: 2,187,008\n",
       "Non-trainable params: 0\n",
       "Total mult-adds (M): 34.99\n",
       "=================================================================================================================================================\n",
       "Input size (MB): 0.05\n",
       "Forward/backward pass size (MB): 427.12\n",
       "Params size (MB): 8.75\n",
       "Estimated Total Size (MB): 435.91\n",
       "================================================================================================================================================="
      ]
     },
     "execution_count": 24,
     "metadata": {},
     "output_type": "execute_result"
    }
   ],
   "execution_count": 24
  },
  {
   "cell_type": "markdown",
   "source": [
    "# Train and Inference"
   ],
   "metadata": {
    "id": "flJizztpCT01"
   }
  },
  {
   "cell_type": "markdown",
   "source": [
    "### Training Arguments\n",
    "Here, we define the number of epochs for training, the learning rate, the optimizer, and the loss function.\n",
    "*   Hint 3: Adjust the number of epochs and learning rate here to improve performance."
   ],
   "metadata": {
    "id": "d63rxnsCeHa9"
   }
  },
  {
   "cell_type": "code",
   "source": [
    "# Training Parameters\n",
    "epochs = 50  # Number of training epochs\n",
    "learning_rate = 1e-3  # Learning rate for optimizer\n",
    "device = torch.device(\"cuda\" if torch.cuda.is_available() else \"cpu\")  # Check if CUDA is available for GPU\n",
    "save_dir = \"checkpoints\"  # Directory to save model checkpoints\n",
    "\n",
    "# Loss function and optimizer\n",
    "criterion = nn.CrossEntropyLoss()  # Loss function for classification tasks\n",
    "optimizer = optim.AdamW(model.parameters(), lr=learning_rate, weight_decay=0.1)  # AdamW optimizer with weight decay"
   ],
   "metadata": {
    "id": "oJu31QhHeKBj",
    "ExecuteTime": {
     "end_time": "2025-04-04T14:01:56.981997Z",
     "start_time": "2025-04-04T14:01:56.972608Z"
    }
   },
   "outputs": [],
   "execution_count": 26
  },
  {
   "cell_type": "markdown",
   "source": [
    "### Save Model Function"
   ],
   "metadata": {
    "id": "Xs2kjoD4d_bJ"
   }
  },
  {
   "cell_type": "code",
   "source": [
    "def save_model(model: torch.nn.Module, optimizer: torch.optim.Optimizer, epoch: int, loss: float, save_dir: str,\n",
    "               filename: str = \"best_model.pth\") -> None:\n",
    "    \"\"\"\n",
    "    Saves the model state, optimizer state, current epoch, and loss to a specified directory.\n",
    "\n",
    "    Args:\n",
    "        model (torch.nn.Module): The PyTorch model to be saved.\n",
    "        optimizer (torch.optim.Optimizer): The optimizer whose state will be saved.\n",
    "        epoch (int): The current epoch number (used for checkpointing).\n",
    "        loss (float): The current loss value to track model performance.\n",
    "        save_dir (str): The directory where the model checkpoint will be saved.\n",
    "        filename (str, optional): The name of the file to save the model. Defaults to \"best_model.pth\".\n",
    "\n",
    "    Returns:\n",
    "        None\n",
    "    \"\"\"\n",
    "    # Construct the full path for saving the model checkpoint\n",
    "    save_path = os.path.join(save_dir, filename)\n",
    "\n",
    "    # Save the model, optimizer state, and additional metadata (epoch and loss)\n",
    "    torch.save({\n",
    "        'epoch': epoch + 1,  # Save epoch + 1 for easier tracking\n",
    "        'model_state_dict': model.state_dict(),  # Save model weights\n",
    "        'optimizer_state_dict': optimizer.state_dict(),  # Save optimizer state (important for resuming training)\n",
    "        'loss': loss  # Save the current loss value\n",
    "    }, save_path)\n",
    "\n",
    "    # Print a confirmation message indicating the model has been saved\n",
    "    print(f\"Model saved at {save_path} (Loss: {loss:.4f}, Epoch: {epoch + 1})\")"
   ],
   "metadata": {
    "id": "ZakIXlw_NtDw",
    "ExecuteTime": {
     "end_time": "2025-04-04T14:01:59.081734Z",
     "start_time": "2025-04-04T14:01:59.070636Z"
    }
   },
   "outputs": [],
   "execution_count": 27
  },
  {
   "cell_type": "markdown",
   "source": [
    "### Train\n",
    "\n",
    "We save the checkpoint with the lowest training loss since validation set reconstruction accuracy doesn't directly reflect the model's image generation quality.\n",
    "*   Hint 4: Train a classifier to check if an image looks like a Pokémon or not. (Optional)"
   ],
   "metadata": {
    "id": "I0OqYrJxoxx9"
   }
  },
  {
   "cell_type": "code",
   "source": [
    "# Create save directory if it doesn't exist\n",
    "os.makedirs(save_dir, exist_ok=True)\n",
    "writer = SummaryWriter(log_dir=os.path.join(save_dir, datetime.now().strftime(\"%Y-%m-%d_%H-%M\")))\n",
    "# Initialize best loss as positive infinity for comparison during model checkpointing\n",
    "best_loss: float = float('inf')\n",
    "# Move model to the appropriate device (GPU or CPU)\n",
    "model.to(device)\n",
    "\n",
    "# Training Loop\n",
    "for epoch in range(epochs):\n",
    "    model.train()  # Set the model to training mode\n",
    "    epoch_loss = 0  # Initialize the epoch loss\n",
    "\n",
    "    # Iterate over training data batches\n",
    "    for step, (input_ids, labels) in enumerate(tqdm(train_dataloader, desc=f\"Training Epoch {epoch + 1}/{epochs}\")):\n",
    "        input_ids, labels = input_ids.to(device), labels.to(device)  # Move data to the same device as the model\n",
    "        # Forward pass through the model to get logits (output probabilities)\n",
    "        outputs = model(input_ids=input_ids).logits.view(-1, config.vocab_size)\n",
    "        labels = labels.view(-1)  # Flatten labels to match logits shape\n",
    "\n",
    "        # Calculate loss using CrossEntropyLoss\n",
    "        loss = criterion(outputs, labels)\n",
    "\n",
    "        # Backpropagation and optimizer step\n",
    "        optimizer.zero_grad()  # Reset gradients to zero\n",
    "        loss.backward()  # Compute gradients\n",
    "        optimizer.step()  # Update model weights\n",
    "\n",
    "        # Accumulate the loss for the epoch\n",
    "        epoch_loss += loss.item()\n",
    "\n",
    "        # Log training loss per step\n",
    "        writer.add_scalar(\"Train/Step_Loss\", loss.item(), epoch * len(train_dataloader) + step)\n",
    "    # Compute average epoch loss\n",
    "    avg_epoch_loss = epoch_loss / len(train_dataloader)\n",
    "    print(f\"Epoch {epoch + 1}/{epochs}, Loss: {avg_epoch_loss:.4f}\")\n",
    "    writer.add_scalar(\"Train/Epoch_Loss\", avg_epoch_loss, epoch)\n",
    "\n",
    "    # Evaluation Loop (Validation)\n",
    "    model.eval()  # Set the model to evaluation mode (disables dropout, etc.)\n",
    "    total_accuracy = 0  # Initialize total accuracy\n",
    "    num_batches = 0  # Initialize batch counter\n",
    "\n",
    "    with torch.no_grad():  # Disable gradient calculation for validation\n",
    "        # Iterate over validation data batches\n",
    "        for inputs, labels in tqdm(dev_dataloader, desc=\"Evaluating\"):\n",
    "            inputs, labels = inputs.to(device), labels.to(device)  # Move validation data to device\n",
    "            attention_mask = torch.ones_like(inputs)  # Attention mask to ensure valid token positions\n",
    "\n",
    "            # Perform batch inference using the model\n",
    "            generated_outputs = model.generate(inputs, attention_mask=attention_mask, max_length=400)\n",
    "\n",
    "            # Extract the last 160 tokens from generated outputs and labels\n",
    "            generated_outputs = generated_outputs[:, -160:]\n",
    "\n",
    "            # Calculate accuracy for the batch\n",
    "            accuracy = (generated_outputs == labels).float().mean().item()\n",
    "            total_accuracy += accuracy\n",
    "            num_batches += 1\n",
    "\n",
    "    # Compute average reconstruction accuracy for the epoch\n",
    "    avg_accuracy = total_accuracy / num_batches\n",
    "    print(f\"Epoch {epoch + 1}/{epochs}, Reconstruction Accuracy: {avg_accuracy:.4f}\")\n",
    "    writer.add_scalar(\"Eval/Accuracy\", avg_accuracy, epoch)\n",
    "\n",
    "    # If the current epoch loss is better (lower) than the best loss, save the model\n",
    "    if avg_epoch_loss < best_loss:\n",
    "        best_loss = avg_epoch_loss  # Update best loss\n",
    "        save_model(model, optimizer, epoch, best_loss, save_dir)  # Save the model with the best loss\n",
    "# Close SummaryWriter after training\n",
    "writer.close()"
   ],
   "metadata": {
    "colab": {
     "base_uri": "https://localhost:8080/"
    },
    "id": "e1KHQ2UyCNh7",
    "outputId": "dab7c5a0-e144-48d7-f6c8-49dbae4bf66f",
    "ExecuteTime": {
     "end_time": "2025-04-04T14:04:53.206213Z",
     "start_time": "2025-04-04T14:02:35.073127Z"
    }
   },
   "outputs": [
    {
     "name": "stderr",
     "output_type": "stream",
     "text": [
      "Training Epoch 1/50: 100%|██████████| 40/40 [00:01<00:00, 39.63it/s]\n"
     ]
    },
    {
     "name": "stdout",
     "output_type": "stream",
     "text": [
      "Epoch 1/50, Loss: 3.2185\n"
     ]
    },
    {
     "name": "stderr",
     "output_type": "stream",
     "text": [
      "Evaluating: 100%|██████████| 5/5 [00:02<00:00,  2.47it/s]\n"
     ]
    },
    {
     "name": "stdout",
     "output_type": "stream",
     "text": [
      "Epoch 1/50, Reconstruction Accuracy: 0.3687\n",
      "Model saved at checkpoints/best_model.pth (Loss: 3.2185, Epoch: 1)\n"
     ]
    },
    {
     "name": "stderr",
     "output_type": "stream",
     "text": [
      "Training Epoch 2/50: 100%|██████████| 40/40 [00:00<00:00, 44.45it/s]\n"
     ]
    },
    {
     "name": "stdout",
     "output_type": "stream",
     "text": [
      "Epoch 2/50, Loss: 2.4125\n"
     ]
    },
    {
     "name": "stderr",
     "output_type": "stream",
     "text": [
      "Evaluating: 100%|██████████| 5/5 [00:01<00:00,  2.84it/s]\n"
     ]
    },
    {
     "name": "stdout",
     "output_type": "stream",
     "text": [
      "Epoch 2/50, Reconstruction Accuracy: 0.2977\n",
      "Model saved at checkpoints/best_model.pth (Loss: 2.4125, Epoch: 2)\n"
     ]
    },
    {
     "name": "stderr",
     "output_type": "stream",
     "text": [
      "Training Epoch 3/50: 100%|██████████| 40/40 [00:00<00:00, 45.18it/s]\n"
     ]
    },
    {
     "name": "stdout",
     "output_type": "stream",
     "text": [
      "Epoch 3/50, Loss: 1.9255\n"
     ]
    },
    {
     "name": "stderr",
     "output_type": "stream",
     "text": [
      "Evaluating: 100%|██████████| 5/5 [00:01<00:00,  2.82it/s]\n"
     ]
    },
    {
     "name": "stdout",
     "output_type": "stream",
     "text": [
      "Epoch 3/50, Reconstruction Accuracy: 0.2934\n",
      "Model saved at checkpoints/best_model.pth (Loss: 1.9255, Epoch: 3)\n"
     ]
    },
    {
     "name": "stderr",
     "output_type": "stream",
     "text": [
      "Training Epoch 4/50: 100%|██████████| 40/40 [00:00<00:00, 44.71it/s]\n"
     ]
    },
    {
     "name": "stdout",
     "output_type": "stream",
     "text": [
      "Epoch 4/50, Loss: 1.7249\n"
     ]
    },
    {
     "name": "stderr",
     "output_type": "stream",
     "text": [
      "Evaluating: 100%|██████████| 5/5 [00:01<00:00,  2.81it/s]\n"
     ]
    },
    {
     "name": "stdout",
     "output_type": "stream",
     "text": [
      "Epoch 4/50, Reconstruction Accuracy: 0.3327\n",
      "Model saved at checkpoints/best_model.pth (Loss: 1.7249, Epoch: 4)\n"
     ]
    },
    {
     "name": "stderr",
     "output_type": "stream",
     "text": [
      "Training Epoch 5/50: 100%|██████████| 40/40 [00:00<00:00, 44.71it/s]\n"
     ]
    },
    {
     "name": "stdout",
     "output_type": "stream",
     "text": [
      "Epoch 5/50, Loss: 1.6156\n"
     ]
    },
    {
     "name": "stderr",
     "output_type": "stream",
     "text": [
      "Evaluating: 100%|██████████| 5/5 [00:01<00:00,  2.72it/s]\n"
     ]
    },
    {
     "name": "stdout",
     "output_type": "stream",
     "text": [
      "Epoch 5/50, Reconstruction Accuracy: 0.2909\n",
      "Model saved at checkpoints/best_model.pth (Loss: 1.6156, Epoch: 5)\n"
     ]
    },
    {
     "name": "stderr",
     "output_type": "stream",
     "text": [
      "Training Epoch 6/50: 100%|██████████| 40/40 [00:00<00:00, 44.39it/s]\n"
     ]
    },
    {
     "name": "stdout",
     "output_type": "stream",
     "text": [
      "Epoch 6/50, Loss: 1.5430\n"
     ]
    },
    {
     "name": "stderr",
     "output_type": "stream",
     "text": [
      "Evaluating: 100%|██████████| 5/5 [00:01<00:00,  2.79it/s]\n"
     ]
    },
    {
     "name": "stdout",
     "output_type": "stream",
     "text": [
      "Epoch 6/50, Reconstruction Accuracy: 0.3037\n",
      "Model saved at checkpoints/best_model.pth (Loss: 1.5430, Epoch: 6)\n"
     ]
    },
    {
     "name": "stderr",
     "output_type": "stream",
     "text": [
      "Training Epoch 7/50: 100%|██████████| 40/40 [00:00<00:00, 44.10it/s]\n"
     ]
    },
    {
     "name": "stdout",
     "output_type": "stream",
     "text": [
      "Epoch 7/50, Loss: 1.4901\n"
     ]
    },
    {
     "name": "stderr",
     "output_type": "stream",
     "text": [
      "Evaluating: 100%|██████████| 5/5 [00:01<00:00,  2.70it/s]\n"
     ]
    },
    {
     "name": "stdout",
     "output_type": "stream",
     "text": [
      "Epoch 7/50, Reconstruction Accuracy: 0.3802\n",
      "Model saved at checkpoints/best_model.pth (Loss: 1.4901, Epoch: 7)\n"
     ]
    },
    {
     "name": "stderr",
     "output_type": "stream",
     "text": [
      "Training Epoch 8/50: 100%|██████████| 40/40 [00:00<00:00, 44.14it/s]\n"
     ]
    },
    {
     "name": "stdout",
     "output_type": "stream",
     "text": [
      "Epoch 8/50, Loss: 1.4511\n"
     ]
    },
    {
     "name": "stderr",
     "output_type": "stream",
     "text": [
      "Evaluating: 100%|██████████| 5/5 [00:01<00:00,  2.76it/s]\n"
     ]
    },
    {
     "name": "stdout",
     "output_type": "stream",
     "text": [
      "Epoch 8/50, Reconstruction Accuracy: 0.3763\n",
      "Model saved at checkpoints/best_model.pth (Loss: 1.4511, Epoch: 8)\n"
     ]
    },
    {
     "name": "stderr",
     "output_type": "stream",
     "text": [
      "Training Epoch 9/50: 100%|██████████| 40/40 [00:00<00:00, 43.26it/s]\n"
     ]
    },
    {
     "name": "stdout",
     "output_type": "stream",
     "text": [
      "Epoch 9/50, Loss: 1.4032\n"
     ]
    },
    {
     "name": "stderr",
     "output_type": "stream",
     "text": [
      "Evaluating: 100%|██████████| 5/5 [00:01<00:00,  2.74it/s]\n"
     ]
    },
    {
     "name": "stdout",
     "output_type": "stream",
     "text": [
      "Epoch 9/50, Reconstruction Accuracy: 0.2988\n",
      "Model saved at checkpoints/best_model.pth (Loss: 1.4032, Epoch: 9)\n"
     ]
    },
    {
     "name": "stderr",
     "output_type": "stream",
     "text": [
      "Training Epoch 10/50: 100%|██████████| 40/40 [00:00<00:00, 44.41it/s]\n"
     ]
    },
    {
     "name": "stdout",
     "output_type": "stream",
     "text": [
      "Epoch 10/50, Loss: 1.3816\n"
     ]
    },
    {
     "name": "stderr",
     "output_type": "stream",
     "text": [
      "Evaluating: 100%|██████████| 5/5 [00:01<00:00,  2.77it/s]\n"
     ]
    },
    {
     "name": "stdout",
     "output_type": "stream",
     "text": [
      "Epoch 10/50, Reconstruction Accuracy: 0.3033\n",
      "Model saved at checkpoints/best_model.pth (Loss: 1.3816, Epoch: 10)\n"
     ]
    },
    {
     "name": "stderr",
     "output_type": "stream",
     "text": [
      "Training Epoch 11/50: 100%|██████████| 40/40 [00:00<00:00, 44.37it/s]\n"
     ]
    },
    {
     "name": "stdout",
     "output_type": "stream",
     "text": [
      "Epoch 11/50, Loss: 1.3550\n"
     ]
    },
    {
     "name": "stderr",
     "output_type": "stream",
     "text": [
      "Evaluating: 100%|██████████| 5/5 [00:01<00:00,  2.73it/s]\n"
     ]
    },
    {
     "name": "stdout",
     "output_type": "stream",
     "text": [
      "Epoch 11/50, Reconstruction Accuracy: 0.3373\n",
      "Model saved at checkpoints/best_model.pth (Loss: 1.3550, Epoch: 11)\n"
     ]
    },
    {
     "name": "stderr",
     "output_type": "stream",
     "text": [
      "Training Epoch 12/50: 100%|██████████| 40/40 [00:00<00:00, 44.84it/s]\n"
     ]
    },
    {
     "name": "stdout",
     "output_type": "stream",
     "text": [
      "Epoch 12/50, Loss: 1.3234\n"
     ]
    },
    {
     "name": "stderr",
     "output_type": "stream",
     "text": [
      "Evaluating: 100%|██████████| 5/5 [00:01<00:00,  2.75it/s]\n"
     ]
    },
    {
     "name": "stdout",
     "output_type": "stream",
     "text": [
      "Epoch 12/50, Reconstruction Accuracy: 0.3198\n",
      "Model saved at checkpoints/best_model.pth (Loss: 1.3234, Epoch: 12)\n"
     ]
    },
    {
     "name": "stderr",
     "output_type": "stream",
     "text": [
      "Training Epoch 13/50: 100%|██████████| 40/40 [00:00<00:00, 44.22it/s]\n"
     ]
    },
    {
     "name": "stdout",
     "output_type": "stream",
     "text": [
      "Epoch 13/50, Loss: 1.2991\n"
     ]
    },
    {
     "name": "stderr",
     "output_type": "stream",
     "text": [
      "Evaluating: 100%|██████████| 5/5 [00:01<00:00,  2.79it/s]\n"
     ]
    },
    {
     "name": "stdout",
     "output_type": "stream",
     "text": [
      "Epoch 13/50, Reconstruction Accuracy: 0.3610\n",
      "Model saved at checkpoints/best_model.pth (Loss: 1.2991, Epoch: 13)\n"
     ]
    },
    {
     "name": "stderr",
     "output_type": "stream",
     "text": [
      "Training Epoch 14/50: 100%|██████████| 40/40 [00:00<00:00, 44.71it/s]\n"
     ]
    },
    {
     "name": "stdout",
     "output_type": "stream",
     "text": [
      "Epoch 14/50, Loss: 1.2685\n"
     ]
    },
    {
     "name": "stderr",
     "output_type": "stream",
     "text": [
      "Evaluating: 100%|██████████| 5/5 [00:01<00:00,  2.81it/s]\n"
     ]
    },
    {
     "name": "stdout",
     "output_type": "stream",
     "text": [
      "Epoch 14/50, Reconstruction Accuracy: 0.3243\n",
      "Model saved at checkpoints/best_model.pth (Loss: 1.2685, Epoch: 14)\n"
     ]
    },
    {
     "name": "stderr",
     "output_type": "stream",
     "text": [
      "Training Epoch 15/50: 100%|██████████| 40/40 [00:00<00:00, 44.78it/s]\n"
     ]
    },
    {
     "name": "stdout",
     "output_type": "stream",
     "text": [
      "Epoch 15/50, Loss: 1.2479\n"
     ]
    },
    {
     "name": "stderr",
     "output_type": "stream",
     "text": [
      "Evaluating: 100%|██████████| 5/5 [00:01<00:00,  2.85it/s]\n"
     ]
    },
    {
     "name": "stdout",
     "output_type": "stream",
     "text": [
      "Epoch 15/50, Reconstruction Accuracy: 0.3224\n",
      "Model saved at checkpoints/best_model.pth (Loss: 1.2479, Epoch: 15)\n"
     ]
    },
    {
     "name": "stderr",
     "output_type": "stream",
     "text": [
      "Training Epoch 16/50: 100%|██████████| 40/40 [00:00<00:00, 42.96it/s]\n"
     ]
    },
    {
     "name": "stdout",
     "output_type": "stream",
     "text": [
      "Epoch 16/50, Loss: 1.2276\n"
     ]
    },
    {
     "name": "stderr",
     "output_type": "stream",
     "text": [
      "Evaluating: 100%|██████████| 5/5 [00:01<00:00,  2.77it/s]\n"
     ]
    },
    {
     "name": "stdout",
     "output_type": "stream",
     "text": [
      "Epoch 16/50, Reconstruction Accuracy: 0.3205\n",
      "Model saved at checkpoints/best_model.pth (Loss: 1.2276, Epoch: 16)\n"
     ]
    },
    {
     "name": "stderr",
     "output_type": "stream",
     "text": [
      "Training Epoch 17/50: 100%|██████████| 40/40 [00:00<00:00, 44.44it/s]\n"
     ]
    },
    {
     "name": "stdout",
     "output_type": "stream",
     "text": [
      "Epoch 17/50, Loss: 1.2089\n"
     ]
    },
    {
     "name": "stderr",
     "output_type": "stream",
     "text": [
      "Evaluating: 100%|██████████| 5/5 [00:01<00:00,  2.79it/s]\n"
     ]
    },
    {
     "name": "stdout",
     "output_type": "stream",
     "text": [
      "Epoch 17/50, Reconstruction Accuracy: 0.3388\n",
      "Model saved at checkpoints/best_model.pth (Loss: 1.2089, Epoch: 17)\n"
     ]
    },
    {
     "name": "stderr",
     "output_type": "stream",
     "text": [
      "Training Epoch 18/50: 100%|██████████| 40/40 [00:00<00:00, 44.39it/s]\n"
     ]
    },
    {
     "name": "stdout",
     "output_type": "stream",
     "text": [
      "Epoch 18/50, Loss: 1.1843\n"
     ]
    },
    {
     "name": "stderr",
     "output_type": "stream",
     "text": [
      "Evaluating: 100%|██████████| 5/5 [00:01<00:00,  2.79it/s]\n"
     ]
    },
    {
     "name": "stdout",
     "output_type": "stream",
     "text": [
      "Epoch 18/50, Reconstruction Accuracy: 0.3369\n",
      "Model saved at checkpoints/best_model.pth (Loss: 1.1843, Epoch: 18)\n"
     ]
    },
    {
     "name": "stderr",
     "output_type": "stream",
     "text": [
      "Training Epoch 19/50: 100%|██████████| 40/40 [00:00<00:00, 44.77it/s]\n"
     ]
    },
    {
     "name": "stdout",
     "output_type": "stream",
     "text": [
      "Epoch 19/50, Loss: 1.1514\n"
     ]
    },
    {
     "name": "stderr",
     "output_type": "stream",
     "text": [
      "Evaluating: 100%|██████████| 5/5 [00:01<00:00,  2.80it/s]\n"
     ]
    },
    {
     "name": "stdout",
     "output_type": "stream",
     "text": [
      "Epoch 19/50, Reconstruction Accuracy: 0.3194\n",
      "Model saved at checkpoints/best_model.pth (Loss: 1.1514, Epoch: 19)\n"
     ]
    },
    {
     "name": "stderr",
     "output_type": "stream",
     "text": [
      "Training Epoch 20/50: 100%|██████████| 40/40 [00:00<00:00, 44.28it/s]\n"
     ]
    },
    {
     "name": "stdout",
     "output_type": "stream",
     "text": [
      "Epoch 20/50, Loss: 1.1412\n"
     ]
    },
    {
     "name": "stderr",
     "output_type": "stream",
     "text": [
      "Evaluating: 100%|██████████| 5/5 [00:01<00:00,  2.81it/s]\n"
     ]
    },
    {
     "name": "stdout",
     "output_type": "stream",
     "text": [
      "Epoch 20/50, Reconstruction Accuracy: 0.3553\n",
      "Model saved at checkpoints/best_model.pth (Loss: 1.1412, Epoch: 20)\n"
     ]
    },
    {
     "name": "stderr",
     "output_type": "stream",
     "text": [
      "Training Epoch 21/50: 100%|██████████| 40/40 [00:00<00:00, 44.19it/s]\n"
     ]
    },
    {
     "name": "stdout",
     "output_type": "stream",
     "text": [
      "Epoch 21/50, Loss: 1.1113\n"
     ]
    },
    {
     "name": "stderr",
     "output_type": "stream",
     "text": [
      "Evaluating: 100%|██████████| 5/5 [00:01<00:00,  2.79it/s]\n"
     ]
    },
    {
     "name": "stdout",
     "output_type": "stream",
     "text": [
      "Epoch 21/50, Reconstruction Accuracy: 0.3374\n",
      "Model saved at checkpoints/best_model.pth (Loss: 1.1113, Epoch: 21)\n"
     ]
    },
    {
     "name": "stderr",
     "output_type": "stream",
     "text": [
      "Training Epoch 22/50: 100%|██████████| 40/40 [00:00<00:00, 44.11it/s]\n"
     ]
    },
    {
     "name": "stdout",
     "output_type": "stream",
     "text": [
      "Epoch 22/50, Loss: 1.0968\n"
     ]
    },
    {
     "name": "stderr",
     "output_type": "stream",
     "text": [
      "Evaluating: 100%|██████████| 5/5 [00:01<00:00,  2.69it/s]\n"
     ]
    },
    {
     "name": "stdout",
     "output_type": "stream",
     "text": [
      "Epoch 22/50, Reconstruction Accuracy: 0.3281\n",
      "Model saved at checkpoints/best_model.pth (Loss: 1.0968, Epoch: 22)\n"
     ]
    },
    {
     "name": "stderr",
     "output_type": "stream",
     "text": [
      "Training Epoch 23/50: 100%|██████████| 40/40 [00:00<00:00, 44.70it/s]\n"
     ]
    },
    {
     "name": "stdout",
     "output_type": "stream",
     "text": [
      "Epoch 23/50, Loss: 1.0798\n"
     ]
    },
    {
     "name": "stderr",
     "output_type": "stream",
     "text": [
      "Evaluating: 100%|██████████| 5/5 [00:01<00:00,  2.80it/s]\n"
     ]
    },
    {
     "name": "stdout",
     "output_type": "stream",
     "text": [
      "Epoch 23/50, Reconstruction Accuracy: 0.3581\n",
      "Model saved at checkpoints/best_model.pth (Loss: 1.0798, Epoch: 23)\n"
     ]
    },
    {
     "name": "stderr",
     "output_type": "stream",
     "text": [
      "Training Epoch 24/50: 100%|██████████| 40/40 [00:00<00:00, 49.46it/s]\n"
     ]
    },
    {
     "name": "stdout",
     "output_type": "stream",
     "text": [
      "Epoch 24/50, Loss: 1.0347\n"
     ]
    },
    {
     "name": "stderr",
     "output_type": "stream",
     "text": [
      "Evaluating: 100%|██████████| 5/5 [00:01<00:00,  2.78it/s]\n"
     ]
    },
    {
     "name": "stdout",
     "output_type": "stream",
     "text": [
      "Epoch 24/50, Reconstruction Accuracy: 0.3408\n",
      "Model saved at checkpoints/best_model.pth (Loss: 1.0347, Epoch: 24)\n"
     ]
    },
    {
     "name": "stderr",
     "output_type": "stream",
     "text": [
      "Training Epoch 25/50: 100%|██████████| 40/40 [00:00<00:00, 44.40it/s]\n"
     ]
    },
    {
     "name": "stdout",
     "output_type": "stream",
     "text": [
      "Epoch 25/50, Loss: 1.0076\n"
     ]
    },
    {
     "name": "stderr",
     "output_type": "stream",
     "text": [
      "Evaluating: 100%|██████████| 5/5 [00:01<00:00,  2.79it/s]\n"
     ]
    },
    {
     "name": "stdout",
     "output_type": "stream",
     "text": [
      "Epoch 25/50, Reconstruction Accuracy: 0.3287\n",
      "Model saved at checkpoints/best_model.pth (Loss: 1.0076, Epoch: 25)\n"
     ]
    },
    {
     "name": "stderr",
     "output_type": "stream",
     "text": [
      "Training Epoch 26/50: 100%|██████████| 40/40 [00:00<00:00, 45.01it/s]\n"
     ]
    },
    {
     "name": "stdout",
     "output_type": "stream",
     "text": [
      "Epoch 26/50, Loss: 0.9916\n"
     ]
    },
    {
     "name": "stderr",
     "output_type": "stream",
     "text": [
      "Evaluating: 100%|██████████| 5/5 [00:01<00:00,  2.79it/s]\n"
     ]
    },
    {
     "name": "stdout",
     "output_type": "stream",
     "text": [
      "Epoch 26/50, Reconstruction Accuracy: 0.3231\n",
      "Model saved at checkpoints/best_model.pth (Loss: 0.9916, Epoch: 26)\n"
     ]
    },
    {
     "name": "stderr",
     "output_type": "stream",
     "text": [
      "Training Epoch 27/50: 100%|██████████| 40/40 [00:00<00:00, 43.90it/s]\n"
     ]
    },
    {
     "name": "stdout",
     "output_type": "stream",
     "text": [
      "Epoch 27/50, Loss: 0.9647\n"
     ]
    },
    {
     "name": "stderr",
     "output_type": "stream",
     "text": [
      "Evaluating: 100%|██████████| 5/5 [00:01<00:00,  2.77it/s]\n"
     ]
    },
    {
     "name": "stdout",
     "output_type": "stream",
     "text": [
      "Epoch 27/50, Reconstruction Accuracy: 0.3433\n",
      "Model saved at checkpoints/best_model.pth (Loss: 0.9647, Epoch: 27)\n"
     ]
    },
    {
     "name": "stderr",
     "output_type": "stream",
     "text": [
      "Training Epoch 28/50: 100%|██████████| 40/40 [00:00<00:00, 44.35it/s]\n"
     ]
    },
    {
     "name": "stdout",
     "output_type": "stream",
     "text": [
      "Epoch 28/50, Loss: 0.9366\n"
     ]
    },
    {
     "name": "stderr",
     "output_type": "stream",
     "text": [
      "Evaluating: 100%|██████████| 5/5 [00:01<00:00,  2.76it/s]\n"
     ]
    },
    {
     "name": "stdout",
     "output_type": "stream",
     "text": [
      "Epoch 28/50, Reconstruction Accuracy: 0.3174\n",
      "Model saved at checkpoints/best_model.pth (Loss: 0.9366, Epoch: 28)\n"
     ]
    },
    {
     "name": "stderr",
     "output_type": "stream",
     "text": [
      "Training Epoch 29/50: 100%|██████████| 40/40 [00:00<00:00, 44.79it/s]\n"
     ]
    },
    {
     "name": "stdout",
     "output_type": "stream",
     "text": [
      "Epoch 29/50, Loss: 0.9233\n"
     ]
    },
    {
     "name": "stderr",
     "output_type": "stream",
     "text": [
      "Evaluating: 100%|██████████| 5/5 [00:01<00:00,  2.79it/s]\n"
     ]
    },
    {
     "name": "stdout",
     "output_type": "stream",
     "text": [
      "Epoch 29/50, Reconstruction Accuracy: 0.3269\n",
      "Model saved at checkpoints/best_model.pth (Loss: 0.9233, Epoch: 29)\n"
     ]
    },
    {
     "name": "stderr",
     "output_type": "stream",
     "text": [
      "Training Epoch 30/50: 100%|██████████| 40/40 [00:00<00:00, 44.04it/s]\n"
     ]
    },
    {
     "name": "stdout",
     "output_type": "stream",
     "text": [
      "Epoch 30/50, Loss: 0.8875\n"
     ]
    },
    {
     "name": "stderr",
     "output_type": "stream",
     "text": [
      "Evaluating: 100%|██████████| 5/5 [00:01<00:00,  2.79it/s]\n"
     ]
    },
    {
     "name": "stdout",
     "output_type": "stream",
     "text": [
      "Epoch 30/50, Reconstruction Accuracy: 0.3452\n",
      "Model saved at checkpoints/best_model.pth (Loss: 0.8875, Epoch: 30)\n"
     ]
    },
    {
     "name": "stderr",
     "output_type": "stream",
     "text": [
      "Training Epoch 31/50: 100%|██████████| 40/40 [00:00<00:00, 44.48it/s]\n"
     ]
    },
    {
     "name": "stdout",
     "output_type": "stream",
     "text": [
      "Epoch 31/50, Loss: 0.8785\n"
     ]
    },
    {
     "name": "stderr",
     "output_type": "stream",
     "text": [
      "Evaluating: 100%|██████████| 5/5 [00:01<00:00,  2.75it/s]\n"
     ]
    },
    {
     "name": "stdout",
     "output_type": "stream",
     "text": [
      "Epoch 31/50, Reconstruction Accuracy: 0.3466\n",
      "Model saved at checkpoints/best_model.pth (Loss: 0.8785, Epoch: 31)\n"
     ]
    },
    {
     "name": "stderr",
     "output_type": "stream",
     "text": [
      "Training Epoch 32/50: 100%|██████████| 40/40 [00:00<00:00, 43.09it/s]\n"
     ]
    },
    {
     "name": "stdout",
     "output_type": "stream",
     "text": [
      "Epoch 32/50, Loss: 0.8530\n"
     ]
    },
    {
     "name": "stderr",
     "output_type": "stream",
     "text": [
      "Evaluating: 100%|██████████| 5/5 [00:01<00:00,  2.74it/s]\n"
     ]
    },
    {
     "name": "stdout",
     "output_type": "stream",
     "text": [
      "Epoch 32/50, Reconstruction Accuracy: 0.2878\n",
      "Model saved at checkpoints/best_model.pth (Loss: 0.8530, Epoch: 32)\n"
     ]
    },
    {
     "name": "stderr",
     "output_type": "stream",
     "text": [
      "Training Epoch 33/50: 100%|██████████| 40/40 [00:00<00:00, 44.81it/s]\n"
     ]
    },
    {
     "name": "stdout",
     "output_type": "stream",
     "text": [
      "Epoch 33/50, Loss: 0.8266\n"
     ]
    },
    {
     "name": "stderr",
     "output_type": "stream",
     "text": [
      "Evaluating: 100%|██████████| 5/5 [00:01<00:00,  2.78it/s]\n"
     ]
    },
    {
     "name": "stdout",
     "output_type": "stream",
     "text": [
      "Epoch 33/50, Reconstruction Accuracy: 0.3242\n",
      "Model saved at checkpoints/best_model.pth (Loss: 0.8266, Epoch: 33)\n"
     ]
    },
    {
     "name": "stderr",
     "output_type": "stream",
     "text": [
      "Training Epoch 34/50: 100%|██████████| 40/40 [00:00<00:00, 44.50it/s]\n"
     ]
    },
    {
     "name": "stdout",
     "output_type": "stream",
     "text": [
      "Epoch 34/50, Loss: 0.7861\n"
     ]
    },
    {
     "name": "stderr",
     "output_type": "stream",
     "text": [
      "Evaluating: 100%|██████████| 5/5 [00:01<00:00,  2.78it/s]\n"
     ]
    },
    {
     "name": "stdout",
     "output_type": "stream",
     "text": [
      "Epoch 34/50, Reconstruction Accuracy: 0.2920\n",
      "Model saved at checkpoints/best_model.pth (Loss: 0.7861, Epoch: 34)\n"
     ]
    },
    {
     "name": "stderr",
     "output_type": "stream",
     "text": [
      "Training Epoch 35/50: 100%|██████████| 40/40 [00:00<00:00, 44.76it/s]\n"
     ]
    },
    {
     "name": "stdout",
     "output_type": "stream",
     "text": [
      "Epoch 35/50, Loss: 0.7567\n"
     ]
    },
    {
     "name": "stderr",
     "output_type": "stream",
     "text": [
      "Evaluating: 100%|██████████| 5/5 [00:01<00:00,  2.81it/s]\n"
     ]
    },
    {
     "name": "stdout",
     "output_type": "stream",
     "text": [
      "Epoch 35/50, Reconstruction Accuracy: 0.3141\n",
      "Model saved at checkpoints/best_model.pth (Loss: 0.7567, Epoch: 35)\n"
     ]
    },
    {
     "name": "stderr",
     "output_type": "stream",
     "text": [
      "Training Epoch 36/50: 100%|██████████| 40/40 [00:00<00:00, 44.50it/s]\n"
     ]
    },
    {
     "name": "stdout",
     "output_type": "stream",
     "text": [
      "Epoch 36/50, Loss: 0.7469\n"
     ]
    },
    {
     "name": "stderr",
     "output_type": "stream",
     "text": [
      "Evaluating: 100%|██████████| 5/5 [00:01<00:00,  2.74it/s]\n"
     ]
    },
    {
     "name": "stdout",
     "output_type": "stream",
     "text": [
      "Epoch 36/50, Reconstruction Accuracy: 0.3433\n",
      "Model saved at checkpoints/best_model.pth (Loss: 0.7469, Epoch: 36)\n"
     ]
    },
    {
     "name": "stderr",
     "output_type": "stream",
     "text": [
      "Training Epoch 37/50: 100%|██████████| 40/40 [00:00<00:00, 45.05it/s]\n"
     ]
    },
    {
     "name": "stdout",
     "output_type": "stream",
     "text": [
      "Epoch 37/50, Loss: 0.7245\n"
     ]
    },
    {
     "name": "stderr",
     "output_type": "stream",
     "text": [
      "Evaluating: 100%|██████████| 5/5 [00:01<00:00,  2.79it/s]\n"
     ]
    },
    {
     "name": "stdout",
     "output_type": "stream",
     "text": [
      "Epoch 37/50, Reconstruction Accuracy: 0.2931\n",
      "Model saved at checkpoints/best_model.pth (Loss: 0.7245, Epoch: 37)\n"
     ]
    },
    {
     "name": "stderr",
     "output_type": "stream",
     "text": [
      "Training Epoch 38/50: 100%|██████████| 40/40 [00:00<00:00, 45.28it/s]\n"
     ]
    },
    {
     "name": "stdout",
     "output_type": "stream",
     "text": [
      "Epoch 38/50, Loss: 0.6994\n"
     ]
    },
    {
     "name": "stderr",
     "output_type": "stream",
     "text": [
      "Evaluating: 100%|██████████| 5/5 [00:01<00:00,  2.77it/s]\n"
     ]
    },
    {
     "name": "stdout",
     "output_type": "stream",
     "text": [
      "Epoch 38/50, Reconstruction Accuracy: 0.3356\n",
      "Model saved at checkpoints/best_model.pth (Loss: 0.6994, Epoch: 38)\n"
     ]
    },
    {
     "name": "stderr",
     "output_type": "stream",
     "text": [
      "Training Epoch 39/50: 100%|██████████| 40/40 [00:00<00:00, 44.87it/s]\n"
     ]
    },
    {
     "name": "stdout",
     "output_type": "stream",
     "text": [
      "Epoch 39/50, Loss: 0.6803\n"
     ]
    },
    {
     "name": "stderr",
     "output_type": "stream",
     "text": [
      "Evaluating: 100%|██████████| 5/5 [00:01<00:00,  2.77it/s]\n"
     ]
    },
    {
     "name": "stdout",
     "output_type": "stream",
     "text": [
      "Epoch 39/50, Reconstruction Accuracy: 0.3684\n",
      "Model saved at checkpoints/best_model.pth (Loss: 0.6803, Epoch: 39)\n"
     ]
    },
    {
     "name": "stderr",
     "output_type": "stream",
     "text": [
      "Training Epoch 40/50: 100%|██████████| 40/40 [00:00<00:00, 44.59it/s]\n"
     ]
    },
    {
     "name": "stdout",
     "output_type": "stream",
     "text": [
      "Epoch 40/50, Loss: 0.6572\n"
     ]
    },
    {
     "name": "stderr",
     "output_type": "stream",
     "text": [
      "Evaluating: 100%|██████████| 5/5 [00:01<00:00,  2.74it/s]\n"
     ]
    },
    {
     "name": "stdout",
     "output_type": "stream",
     "text": [
      "Epoch 40/50, Reconstruction Accuracy: 0.3504\n",
      "Model saved at checkpoints/best_model.pth (Loss: 0.6572, Epoch: 40)\n"
     ]
    },
    {
     "name": "stderr",
     "output_type": "stream",
     "text": [
      "Training Epoch 41/50: 100%|██████████| 40/40 [00:00<00:00, 44.25it/s]\n"
     ]
    },
    {
     "name": "stdout",
     "output_type": "stream",
     "text": [
      "Epoch 41/50, Loss: 0.6429\n"
     ]
    },
    {
     "name": "stderr",
     "output_type": "stream",
     "text": [
      "Evaluating: 100%|██████████| 5/5 [00:01<00:00,  2.75it/s]\n"
     ]
    },
    {
     "name": "stdout",
     "output_type": "stream",
     "text": [
      "Epoch 41/50, Reconstruction Accuracy: 0.3350\n",
      "Model saved at checkpoints/best_model.pth (Loss: 0.6429, Epoch: 41)\n"
     ]
    },
    {
     "name": "stderr",
     "output_type": "stream",
     "text": [
      "Training Epoch 42/50: 100%|██████████| 40/40 [00:00<00:00, 44.86it/s]\n"
     ]
    },
    {
     "name": "stdout",
     "output_type": "stream",
     "text": [
      "Epoch 42/50, Loss: 0.6166\n"
     ]
    },
    {
     "name": "stderr",
     "output_type": "stream",
     "text": [
      "Evaluating: 100%|██████████| 5/5 [00:01<00:00,  2.75it/s]\n"
     ]
    },
    {
     "name": "stdout",
     "output_type": "stream",
     "text": [
      "Epoch 42/50, Reconstruction Accuracy: 0.3255\n",
      "Model saved at checkpoints/best_model.pth (Loss: 0.6166, Epoch: 42)\n"
     ]
    },
    {
     "name": "stderr",
     "output_type": "stream",
     "text": [
      "Training Epoch 43/50: 100%|██████████| 40/40 [00:00<00:00, 44.45it/s]\n"
     ]
    },
    {
     "name": "stdout",
     "output_type": "stream",
     "text": [
      "Epoch 43/50, Loss: 0.5799\n"
     ]
    },
    {
     "name": "stderr",
     "output_type": "stream",
     "text": [
      "Evaluating: 100%|██████████| 5/5 [00:01<00:00,  2.74it/s]\n"
     ]
    },
    {
     "name": "stdout",
     "output_type": "stream",
     "text": [
      "Epoch 43/50, Reconstruction Accuracy: 0.3440\n",
      "Model saved at checkpoints/best_model.pth (Loss: 0.5799, Epoch: 43)\n"
     ]
    },
    {
     "name": "stderr",
     "output_type": "stream",
     "text": [
      "Training Epoch 44/50: 100%|██████████| 40/40 [00:00<00:00, 43.58it/s]\n"
     ]
    },
    {
     "name": "stdout",
     "output_type": "stream",
     "text": [
      "Epoch 44/50, Loss: 0.5585\n"
     ]
    },
    {
     "name": "stderr",
     "output_type": "stream",
     "text": [
      "Evaluating: 100%|██████████| 5/5 [00:01<00:00,  2.76it/s]\n"
     ]
    },
    {
     "name": "stdout",
     "output_type": "stream",
     "text": [
      "Epoch 44/50, Reconstruction Accuracy: 0.3109\n",
      "Model saved at checkpoints/best_model.pth (Loss: 0.5585, Epoch: 44)\n"
     ]
    },
    {
     "name": "stderr",
     "output_type": "stream",
     "text": [
      "Training Epoch 45/50: 100%|██████████| 40/40 [00:00<00:00, 44.74it/s]\n"
     ]
    },
    {
     "name": "stdout",
     "output_type": "stream",
     "text": [
      "Epoch 45/50, Loss: 0.5340\n"
     ]
    },
    {
     "name": "stderr",
     "output_type": "stream",
     "text": [
      "Evaluating: 100%|██████████| 5/5 [00:01<00:00,  2.79it/s]\n"
     ]
    },
    {
     "name": "stdout",
     "output_type": "stream",
     "text": [
      "Epoch 45/50, Reconstruction Accuracy: 0.3426\n",
      "Model saved at checkpoints/best_model.pth (Loss: 0.5340, Epoch: 45)\n"
     ]
    },
    {
     "name": "stderr",
     "output_type": "stream",
     "text": [
      "Training Epoch 46/50: 100%|██████████| 40/40 [00:00<00:00, 44.76it/s]\n"
     ]
    },
    {
     "name": "stdout",
     "output_type": "stream",
     "text": [
      "Epoch 46/50, Loss: 0.5330\n"
     ]
    },
    {
     "name": "stderr",
     "output_type": "stream",
     "text": [
      "Evaluating: 100%|██████████| 5/5 [00:01<00:00,  2.80it/s]\n"
     ]
    },
    {
     "name": "stdout",
     "output_type": "stream",
     "text": [
      "Epoch 46/50, Reconstruction Accuracy: 0.3228\n",
      "Model saved at checkpoints/best_model.pth (Loss: 0.5330, Epoch: 46)\n"
     ]
    },
    {
     "name": "stderr",
     "output_type": "stream",
     "text": [
      "Training Epoch 47/50: 100%|██████████| 40/40 [00:00<00:00, 44.21it/s]\n"
     ]
    },
    {
     "name": "stdout",
     "output_type": "stream",
     "text": [
      "Epoch 47/50, Loss: 0.5174\n"
     ]
    },
    {
     "name": "stderr",
     "output_type": "stream",
     "text": [
      "Evaluating: 100%|██████████| 5/5 [00:01<00:00,  2.79it/s]\n"
     ]
    },
    {
     "name": "stdout",
     "output_type": "stream",
     "text": [
      "Epoch 47/50, Reconstruction Accuracy: 0.3138\n",
      "Model saved at checkpoints/best_model.pth (Loss: 0.5174, Epoch: 47)\n"
     ]
    },
    {
     "name": "stderr",
     "output_type": "stream",
     "text": [
      "Training Epoch 48/50: 100%|██████████| 40/40 [00:00<00:00, 44.02it/s]\n"
     ]
    },
    {
     "name": "stdout",
     "output_type": "stream",
     "text": [
      "Epoch 48/50, Loss: 0.5044\n"
     ]
    },
    {
     "name": "stderr",
     "output_type": "stream",
     "text": [
      "Evaluating: 100%|██████████| 5/5 [00:01<00:00,  2.78it/s]\n"
     ]
    },
    {
     "name": "stdout",
     "output_type": "stream",
     "text": [
      "Epoch 48/50, Reconstruction Accuracy: 0.3573\n",
      "Model saved at checkpoints/best_model.pth (Loss: 0.5044, Epoch: 48)\n"
     ]
    },
    {
     "name": "stderr",
     "output_type": "stream",
     "text": [
      "Training Epoch 49/50: 100%|██████████| 40/40 [00:00<00:00, 44.60it/s]\n"
     ]
    },
    {
     "name": "stdout",
     "output_type": "stream",
     "text": [
      "Epoch 49/50, Loss: 0.4825\n"
     ]
    },
    {
     "name": "stderr",
     "output_type": "stream",
     "text": [
      "Evaluating: 100%|██████████| 5/5 [00:01<00:00,  2.78it/s]\n"
     ]
    },
    {
     "name": "stdout",
     "output_type": "stream",
     "text": [
      "Epoch 49/50, Reconstruction Accuracy: 0.3708\n",
      "Model saved at checkpoints/best_model.pth (Loss: 0.4825, Epoch: 49)\n"
     ]
    },
    {
     "name": "stderr",
     "output_type": "stream",
     "text": [
      "Training Epoch 50/50: 100%|██████████| 40/40 [00:00<00:00, 43.95it/s]\n"
     ]
    },
    {
     "name": "stdout",
     "output_type": "stream",
     "text": [
      "Epoch 50/50, Loss: 0.4618\n"
     ]
    },
    {
     "name": "stderr",
     "output_type": "stream",
     "text": [
      "Evaluating: 100%|██████████| 5/5 [00:01<00:00,  2.78it/s]"
     ]
    },
    {
     "name": "stdout",
     "output_type": "stream",
     "text": [
      "Epoch 50/50, Reconstruction Accuracy: 0.3637\n",
      "Model saved at checkpoints/best_model.pth (Loss: 0.4618, Epoch: 50)\n"
     ]
    },
    {
     "name": "stderr",
     "output_type": "stream",
     "text": [
      "\n"
     ]
    }
   ],
   "execution_count": 30
  },
  {
   "cell_type": "markdown",
   "source": [
    "### Inference"
   ],
   "metadata": {
    "id": "mNEXUdGBo5eK"
   }
  },
  {
   "cell_type": "code",
   "source": [
    "# Load the best model from the saved checkpoint\n",
    "best_model_path = os.path.join(save_dir, \"best_model.pth\")  # Path to the best model checkpoint\n",
    "checkpoint = torch.load(best_model_path, weights_only=True, map_location=device)  # Load checkpoint from the file\n",
    "model.load_state_dict(checkpoint[\"model_state_dict\"])  # Load the model weights from checkpoint\n",
    "model.eval()  # Set the model to evaluation mode (disables dropout, etc.)\n",
    "\n",
    "# Testing Loop with Batch Inference\n",
    "results: list = []  # List to store the generated sequences from the model\n",
    "\n",
    "with torch.no_grad():  # Disable gradient calculations for inference\n",
    "    # Iterate over test data in batches\n",
    "    for inputs in tqdm(test_dataloader, desc=\"Generating Outputs\"):\n",
    "        inputs = inputs.to(device)  # Move model to the appropriate device (GPU or CPU)\n",
    "        attention_mask = torch.ones_like(inputs)  # Attention mask (ensure valid token positions)\n",
    "\n",
    "        # Generate predictions for the entire batch\n",
    "        generated_outputs = model.generate(inputs, attention_mask=attention_mask, max_length=400)\n",
    "\n",
    "        # Convert batch outputs to a list and append to results\n",
    "        batch_results = generated_outputs.cpu().numpy().tolist()\n",
    "        results.extend(batch_results)  # Extend the results list with batch results\n",
    "\n",
    "# Save the results to a file\n",
    "output_file: str = \"reconstructed_results.txt\"  # File to save the output sequences\n",
    "with open(output_file, \"w\") as f:\n",
    "    # Write each sequence to the file\n",
    "    for seq in results:\n",
    "        f.write(\" \".join(map(str, seq)) + \"\\n\")\n",
    "\n",
    "print(f\"Reconstructed results saved to {output_file}\")  # Confirmation message"
   ],
   "metadata": {
    "colab": {
     "base_uri": "https://localhost:8080/"
    },
    "id": "D-A5aGBRGR4q",
    "outputId": "6e5ff047-0a8d-456f-fe69-633d6fb04255",
    "ExecuteTime": {
     "end_time": "2025-04-04T14:05:21.286029Z",
     "start_time": "2025-04-04T14:05:19.403666Z"
    }
   },
   "outputs": [
    {
     "name": "stderr",
     "output_type": "stream",
     "text": [
      "Generating Outputs: 100%|██████████| 5/5 [00:01<00:00,  2.76it/s]"
     ]
    },
    {
     "name": "stdout",
     "output_type": "stream",
     "text": [
      "Reconstructed results saved to reconstructed_results.txt\n"
     ]
    },
    {
     "name": "stderr",
     "output_type": "stream",
     "text": [
      "\n"
     ]
    }
   ],
   "execution_count": 31
  },
  {
   "metadata": {
    "colab": {
     "base_uri": "https://localhost:8080/",
     "height": 546
    },
    "id": "xPxOAnFHIxfb",
    "outputId": "78f0e489-6c73-4208-c512-e84de8cb62d4",
    "ExecuteTime": {
     "end_time": "2025-04-04T14:05:25.657096Z",
     "start_time": "2025-04-04T14:05:24.537818Z"
    }
   },
   "cell_type": "code",
   "source": [
    "# Visualize generated test images\n",
    "predicted_images = [pixel_to_image(sequence, colormap) for sequence in results]\n",
    "show_images(predicted_images)"
   ],
   "outputs": [
    {
     "data": {
      "text/plain": [
       "<Figure size 1600x600 with 96 Axes>"
      ],
      "image/png": "[encoded data removed]"
     },
     "metadata": {},
     "output_type": "display_data"
    }
   ],
   "execution_count": 32
  },
  {
   "metadata": {
    "ExecuteTime": {
     "end_time": "2025-04-04T14:05:32.185369Z",
     "start_time": "2025-04-04T14:05:30.990887Z"
    }
   },
   "cell_type": "code",
   "source": [
    "# 生成原始和预测图像列表\n",
    "predicted_images = [pixel_to_image(sequence, colormap) for sequence in results]\n",
    "test_images = [pixel_to_image(data[\"pixel_color\"], colormap) for data in pokemon_dataset[\"test\"]]\n",
    "\n",
    "# 交替合并原始图像和预测图像\n",
    "interleaved_images = []\n",
    "for original, predicted in zip(test_images, predicted_images):\n",
    "    interleaved_images.extend([original, predicted])  # 原始在前，预测在后\n",
    "\n",
    "# 展示交错排列的图像\n",
    "show_images(interleaved_images)"
   ],
   "outputs": [
    {
     "data": {
      "text/plain": [
       "<Figure size 1600x600 with 96 Axes>"
      ],
      "image/png": "[encoded data removed]"
     },
     "metadata": {},
     "output_type": "display_data"
    }
   ],
   "execution_count": 33
  }
 ]
}
