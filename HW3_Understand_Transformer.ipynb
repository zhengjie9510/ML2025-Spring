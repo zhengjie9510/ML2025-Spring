{
 "cells": [
  {
   "cell_type": "markdown",
   "metadata": {
    "id": "QkELbiG6ogiG"
   },
   "source": [
    "# Understanding LLM / Transformers (You cannot run the code without saving a copy)"
   ]
  },
  {
   "cell_type": "markdown",
   "metadata": {
    "id": "EvlATdaN45U8"
   },
   "source": [
    "## Check the status of your GPU"
   ]
  },
  {
   "cell_type": "code",
   "execution_count": null,
   "metadata": {
    "id": "To39dynktNC2",
    "collapsed": true,
    "colab": {
     "base_uri": "https://localhost:8080/"
    },
    "outputId": "84f3b1fa-3263-4e79-c66f-cf002a236103"
   },
   "outputs": [
    {
     "output_type": "stream",
     "name": "stdout",
     "text": [
      "Thu Apr  3 12:21:16 2025       \n",
      "+-----------------------------------------------------------------------------------------+\n",
      "| NVIDIA-SMI 550.54.15              Driver Version: 550.54.15      CUDA Version: 12.4     |\n",
      "|-----------------------------------------+------------------------+----------------------+\n",
      "| GPU  Name                 Persistence-M | Bus-Id          Disp.A | Volatile Uncorr. ECC |\n",
      "| Fan  Temp   Perf          Pwr:Usage/Cap |           Memory-Usage | GPU-Util  Compute M. |\n",
      "|                                         |                        |               MIG M. |\n",
      "|=========================================+========================+======================|\n",
      "|   0  Tesla T4                       Off |   00000000:00:04.0 Off |                    0 |\n",
      "| N/A   36C    P8              9W /   70W |       0MiB /  15360MiB |      0%      Default |\n",
      "|                                         |                        |                  N/A |\n",
      "+-----------------------------------------+------------------------+----------------------+\n",
      "                                                                                         \n",
      "+-----------------------------------------------------------------------------------------+\n",
      "| Processes:                                                                              |\n",
      "|  GPU   GI   CI        PID   Type   Process name                              GPU Memory |\n",
      "|        ID   ID                                                               Usage      |\n",
      "|=========================================================================================|\n",
      "|  No running processes found                                                             |\n",
      "+-----------------------------------------------------------------------------------------+\n"
     ]
    }
   ],
   "source": [
    "!nvidia-smi"
   ]
  },
  {
   "cell_type": "markdown",
   "metadata": {
    "id": "FISzjhfg4vo6"
   },
   "source": [
    "## Installing **transformers** for further usage (please do not alter the version for stable usage of model)"
   ]
  },
  {
   "cell_type": "code",
   "execution_count": null,
   "metadata": {
    "id": "e0ZtRUtLoWjq",
    "collapsed": true,
    "colab": {
     "base_uri": "https://localhost:8080/"
    },
    "outputId": "82939f88-031f-4130-d61e-00eb399a26df"
   },
   "outputs": [
    {
     "output_type": "stream",
     "name": "stdout",
     "text": [
      "Collecting transformers==4.47.0\n",
      "  Downloading transformers-4.47.0-py3-none-any.whl.metadata (43 kB)\n",
      "\u001B[2K     \u001B[90m━━━━━━━━━━━━━━━━━━━━━━━━━━━━━━━━━━━━━━━━\u001B[0m \u001B[32m43.5/43.5 kB\u001B[0m \u001B[31m1.7 MB/s\u001B[0m eta \u001B[36m0:00:00\u001B[0m\n",
      "\u001B[?25hRequirement already satisfied: filelock in /usr/local/lib/python3.11/dist-packages (from transformers==4.47.0) (3.18.0)\n",
      "Requirement already satisfied: huggingface-hub<1.0,>=0.24.0 in /usr/local/lib/python3.11/dist-packages (from transformers==4.47.0) (0.29.3)\n",
      "Requirement already satisfied: numpy>=1.17 in /usr/local/lib/python3.11/dist-packages (from transformers==4.47.0) (2.0.2)\n",
      "Requirement already satisfied: packaging>=20.0 in /usr/local/lib/python3.11/dist-packages (from transformers==4.47.0) (24.2)\n",
      "Requirement already satisfied: pyyaml>=5.1 in /usr/local/lib/python3.11/dist-packages (from transformers==4.47.0) (6.0.2)\n",
      "Requirement already satisfied: regex!=2019.12.17 in /usr/local/lib/python3.11/dist-packages (from transformers==4.47.0) (2024.11.6)\n",
      "Requirement already satisfied: requests in /usr/local/lib/python3.11/dist-packages (from transformers==4.47.0) (2.32.3)\n",
      "Requirement already satisfied: tokenizers<0.22,>=0.21 in /usr/local/lib/python3.11/dist-packages (from transformers==4.47.0) (0.21.1)\n",
      "Requirement already satisfied: safetensors>=0.4.1 in /usr/local/lib/python3.11/dist-packages (from transformers==4.47.0) (0.5.3)\n",
      "Requirement already satisfied: tqdm>=4.27 in /usr/local/lib/python3.11/dist-packages (from transformers==4.47.0) (4.67.1)\n",
      "Requirement already satisfied: fsspec>=2023.5.0 in /usr/local/lib/python3.11/dist-packages (from huggingface-hub<1.0,>=0.24.0->transformers==4.47.0) (2025.3.0)\n",
      "Requirement already satisfied: typing-extensions>=3.7.4.3 in /usr/local/lib/python3.11/dist-packages (from huggingface-hub<1.0,>=0.24.0->transformers==4.47.0) (4.13.0)\n",
      "Requirement already satisfied: charset-normalizer<4,>=2 in /usr/local/lib/python3.11/dist-packages (from requests->transformers==4.47.0) (3.4.1)\n",
      "Requirement already satisfied: idna<4,>=2.5 in /usr/local/lib/python3.11/dist-packages (from requests->transformers==4.47.0) (3.10)\n",
      "Requirement already satisfied: urllib3<3,>=1.21.1 in /usr/local/lib/python3.11/dist-packages (from requests->transformers==4.47.0) (2.3.0)\n",
      "Requirement already satisfied: certifi>=2017.4.17 in /usr/local/lib/python3.11/dist-packages (from requests->transformers==4.47.0) (2025.1.31)\n",
      "Downloading transformers-4.47.0-py3-none-any.whl (10.1 MB)\n",
      "\u001B[2K   \u001B[90m━━━━━━━━━━━━━━━━━━━━━━━━━━━━━━━━━━━━━━━━\u001B[0m \u001B[32m10.1/10.1 MB\u001B[0m \u001B[31m88.5 MB/s\u001B[0m eta \u001B[36m0:00:00\u001B[0m\n",
      "\u001B[?25hInstalling collected packages: transformers\n",
      "  Attempting uninstall: transformers\n",
      "    Found existing installation: transformers 4.50.2\n",
      "    Uninstalling transformers-4.50.2:\n",
      "      Successfully uninstalled transformers-4.50.2\n",
      "Successfully installed transformers-4.47.0\n"
     ]
    }
   ],
   "source": [
    "!pip install transformers==4.47.0"
   ]
  },
  {
   "cell_type": "markdown",
   "metadata": {
    "id": "DLvm_l4g4O9U"
   },
   "source": [
    "## Huggingface login\n",
    "\n",
    "### You need the huggingface token (hf_token) to login to huggingface and install the gemma model. Therefore make sure you create your huggingface token. (Described in the Google slides)"
   ]
  },
  {
   "cell_type": "code",
   "execution_count": null,
   "metadata": {
    "id": "9ewrDfyEr0KS"
   },
   "outputs": [],
   "source": [
    "######################## TODO (Pre-requisites) ########################\n",
    "# replace `your_hf_token` with your huggingface token\n",
    "\n",
    "from huggingface_hub import login\n",
    "login(\"token\")\n",
    "#######################################################################"
   ]
  },
  {
   "cell_type": "markdown",
   "source": [
    "## Download the model"
   ],
   "metadata": {
    "id": "HY1e8Urn-qy8"
   }
  },
  {
   "cell_type": "markdown",
   "source": [],
   "metadata": {
    "id": "D5R4NKx6tydV"
   }
  },
  {
   "cell_type": "markdown",
   "source": [
    "### Gemma Model: https://huggingface.co/google/gemma-2-2b-it\n",
    "### Please accept the lincense to download the gemma model (As described on Google Slides)\n"
   ],
   "metadata": {
    "id": "N_nHl3zFCS5T"
   }
  },
  {
   "cell_type": "code",
   "execution_count": null,
   "metadata": {
    "id": "WrrBTIl-ryeo",
    "colab": {
     "base_uri": "https://localhost:8080/",
     "height": 49,
     "referenced_widgets": [
      "575f2ec2a7054d4e8cf803b0a7db4e14",
      "93d12794e3cd443cb837024232d9a751",
      "014a75d4f0c7420ba2af9aa04fb56b20",
      "bf3bcfc1fae143148a513be2bec412a2",
      "6849b8a95645457b983a5a03ff0b3d2b",
      "31ce17746df84e84893b396d6d500b43",
      "c866b04cd19b489981cc2d6a93f712ba",
      "fd243b59061547b1b7306ee281f3583b",
      "856605e12c794c0789f0bc32ba1e6c8a",
      "de604fa04de24940a3f3fd6de3485b52",
      "460915aa733e40c8bc22505b99dfc68f"
     ]
    },
    "outputId": "f7265a81-ddbd-42bc-b738-87e5ff7a183f"
   },
   "outputs": [
    {
     "output_type": "display_data",
     "data": {
      "text/plain": [
       "Loading checkpoint shards:   0%|          | 0/2 [00:00<?, ?it/s]"
      ],
      "application/vnd.jupyter.widget-view+json": {
       "version_major": 2,
       "version_minor": 0,
       "model_id": "575f2ec2a7054d4e8cf803b0a7db4e14"
      }
     },
     "metadata": {}
    }
   ],
   "source": [
    "import torch\n",
    "from transformers import AutoTokenizer, AutoModelForCausalLM\n",
    "\n",
    "model_id = \"google/gemma-2-2b-it\"\n",
    "dtype = torch.float16\n",
    "\n",
    "# Load tokenizer and model\n",
    "tokenizer = AutoTokenizer.from_pretrained(model_id)\n",
    "model = AutoModelForCausalLM.from_pretrained(\n",
    "    model_id,\n",
    "    device_map=\"cuda\",\n",
    "    torch_dtype=dtype,\n",
    ")"
   ]
  },
  {
   "cell_type": "markdown",
   "source": [
    "## Q1: Chat template Comparison"
   ],
   "metadata": {
    "id": "P4cI-w4lEqvz"
   }
  },
  {
   "cell_type": "markdown",
   "source": [
    "### Evaluation Model: https://huggingface.co/cross-encoder/ms-marco-MiniLM-L-6-v2\n"
   ],
   "metadata": {
    "id": "iBlbhVN4BHVG"
   }
  },
  {
   "cell_type": "code",
   "source": [
    "from transformers import AutoTokenizer, AutoModelForSequenceClassification\n",
    "import torch\n",
    "\n",
    "SCORING_MODEL = AutoModelForSequenceClassification.from_pretrained('cross-encoder/ms-marco-MiniLM-L-6-v2')\n",
    "SCORING_TOKENIZER = AutoTokenizer.from_pretrained('cross-encoder/ms-marco-MiniLM-L-6-v2')\n",
    "\n",
    "\n",
    "def calculate_coherence(question, answer, scoring_model=SCORING_MODEL, tokenizer=SCORING_TOKENIZER):\n",
    "  features = tokenizer([question], [answer], padding=True, truncation=True, return_tensors=\"pt\")\n",
    "  scoring_model.eval()\n",
    "  with torch.no_grad():\n",
    "      scores = scoring_model(**features).logits.squeeze().item()\n",
    "  return scores"
   ],
   "metadata": {
    "id": "-iSpRNhLBcMz",
    "colab": {
     "base_uri": "https://localhost:8080/",
     "height": 177,
     "referenced_widgets": [
      "f527f0648ef0476fb0483d47d143e129",
      "8eaef3186851403e86a47068624d4e6e",
      "d8a9049a875142d4a53e2a6b6b43f553",
      "786e809944f54c7ab84e76acd8abab47",
      "ddaa36a812bc4d85a55a5068821d42e4",
      "c97f7aa7122244ccaf74f6ed84a261e0",
      "3f45e3d67e18416aa02c26866ed523e4",
      "a3d0adaa8c144424941b3a0bd89fa02e",
      "509ae96c6a6041ccb56b06d57f7ed223",
      "2edd4fe965da491882656effd404e28a",
      "b335dd14f42a447283079210952abc6b",
      "28b0fa53b9c84e13a891c3cfd7654fc2",
      "bc9619b24b6b4843a45b7653f5419f59",
      "1847b5865e2549ec855f4192400edf08",
      "6ff0a2b4987e472083a1ecbe2ceacb8d",
      "10e5a9fb077a4c42bf9de00ea9ed72c4",
      "bc2dd8c0352b4e25bd1fcb934f597380",
      "35b33e3ca09443a0a26b116e1d2ab81b",
      "9f22a60ad71047938495cbfa9d8774b5",
      "16d4ca8d2bae4d4ca74d698da0c060da",
      "46ca0f1d360142a9a1fa9d5b723911e8",
      "634b8e6fae2b4a80b1bbb035fff74e8e",
      "84ef110effb74f858ba3bfb952cf2959",
      "a82003d73e084252a40d440caedbae11",
      "6fe38793e7cb4886aa3cc34964612533",
      "6eb8a58059eb44a9808d30aa2509a170",
      "dba72f7b75454ebe95c1e2a0fe4fde39",
      "ed4c9fdfbf03404089914998b4a28f8e",
      "df699a6fec3b4686be605ad144f8c9b7",
      "6d5cb5f6b33e448c92300915e852e4fb",
      "13d0cf7b95ba4f02b501d9e8ee79bbcd",
      "b3017acd8da54f6db029328bd13507bc",
      "cbccf205aa334497aaca684cf5ab5cfc",
      "cd62d298cffe47d4901d6bd0e214c9db",
      "8c8dfb6dc9594ad58b0b4d235266ce88",
      "e8acc4e908754cd5be877101f175a5a3",
      "9581e17b2e644b269037f0233cf9bf66",
      "ffecf6c85a894c63898a998f3b62bb56",
      "e7386ee24577421d9a69128f703e580e",
      "0aeb3bff4b9342b5bb4e7b35f5e7c0a8",
      "07de9725c26f410fa07cc40b8375ea66",
      "1c2092d6e24a49909a3b4a2a22c45b61",
      "7a0c4b694edb466aa2ee25915c32d175",
      "3b1a41f20bb046c1b3724a173e1e0dbe",
      "387a49609e60436e95e8adb98615f928",
      "35c5ae9c238c437d904cefe90aeb5a7f",
      "24744a4a6d1646f39fc78a5e9485d18d",
      "4e03b69593714557b543287c915b0e74",
      "5dd7793718bf40728d00b641e17b6a91",
      "c0d7f6f928d44cbc9a253f690280372c",
      "ba06d65c62b0436c9ea6bc8cf0af0d4e",
      "fdc1117051644740a9c1cf20a72cc10e",
      "cae9bad14ecb4d50aa2c72fb802f9c11",
      "5487265a3b914c6dac16096959c4dd11",
      "41f8566c468e4c64ae269821eaaf7a41"
     ]
    },
    "outputId": "5a1c2e88-4966-43c3-9082-f2ca9156490c"
   },
   "execution_count": null,
   "outputs": [
    {
     "output_type": "display_data",
     "data": {
      "text/plain": [
       "config.json:   0%|          | 0.00/794 [00:00<?, ?B/s]"
      ],
      "application/vnd.jupyter.widget-view+json": {
       "version_major": 2,
       "version_minor": 0,
       "model_id": "f527f0648ef0476fb0483d47d143e129"
      }
     },
     "metadata": {}
    },
    {
     "output_type": "display_data",
     "data": {
      "text/plain": [
       "model.safetensors:   0%|          | 0.00/90.9M [00:00<?, ?B/s]"
      ],
      "application/vnd.jupyter.widget-view+json": {
       "version_major": 2,
       "version_minor": 0,
       "model_id": "28b0fa53b9c84e13a891c3cfd7654fc2"
      }
     },
     "metadata": {}
    },
    {
     "output_type": "display_data",
     "data": {
      "text/plain": [
       "tokenizer_config.json:   0%|          | 0.00/316 [00:00<?, ?B/s]"
      ],
      "application/vnd.jupyter.widget-view+json": {
       "version_major": 2,
       "version_minor": 0,
       "model_id": "84ef110effb74f858ba3bfb952cf2959"
      }
     },
     "metadata": {}
    },
    {
     "output_type": "display_data",
     "data": {
      "text/plain": [
       "vocab.txt:   0%|          | 0.00/232k [00:00<?, ?B/s]"
      ],
      "application/vnd.jupyter.widget-view+json": {
       "version_major": 2,
       "version_minor": 0,
       "model_id": "cd62d298cffe47d4901d6bd0e214c9db"
      }
     },
     "metadata": {}
    },
    {
     "output_type": "display_data",
     "data": {
      "text/plain": [
       "special_tokens_map.json:   0%|          | 0.00/112 [00:00<?, ?B/s]"
      ],
      "application/vnd.jupyter.widget-view+json": {
       "version_major": 2,
       "version_minor": 0,
       "model_id": "387a49609e60436e95e8adb98615f928"
      }
     },
     "metadata": {}
    }
   ]
  },
  {
   "cell_type": "markdown",
   "metadata": {
    "id": "9JFRJMWdMrHU"
   },
   "source": [
    "### Observe whether the chat template affects the model's output results."
   ]
  },
  {
   "cell_type": "code",
   "execution_count": null,
   "metadata": {
    "id": "Bl-FK-lycGs5"
   },
   "outputs": [],
   "source": [
    "def generate_text_from_prompt(prompt, tokenizer, model):\n",
    "  \"\"\"\n",
    "  generate the output from the prompt.\n",
    "  param:\n",
    "    prompt (str): the prompt inputted to the model\n",
    "    tokenizer   : the tokenizer that is used to encode / decode the input / output\n",
    "    model       : the model that is used to generate the output\n",
    "\n",
    "  return:\n",
    "    the response of the model\n",
    "  \"\"\"\n",
    "  print(\"========== Prompt inputted to the model ==========\\n\", prompt)\n",
    "\n",
    "  # Tokenize the prompt\n",
    "  input_ids = tokenizer(prompt, return_tensors=\"pt\").input_ids.to(\"cuda\")\n",
    "\n",
    "  ######################## TODO (Q1.1 ~ 1.4) ########################\n",
    "  ### You can refer to https://huggingface.co/google/gemma-2-2b-it for basic usage\n",
    "  ### Make sure to use 'do_sample=False' to get a deterministic response\n",
    "  ### Otherwise the coherence score may be different from the sample answer\n",
    "\n",
    "  # Generate response\n",
    "  output_ids =model.generate(input_ids = input_ids,do_sample=False,max_new_tokens=1000)\n",
    "  ###################################################################\n",
    "  if output_ids is not None and len(output_ids) > 0:\n",
    "    return tokenizer.decode(output_ids[0], skip_special_tokens=True)\n",
    "  else:\n",
    "    return \"Empty Response\""
   ]
  },
  {
   "cell_type": "code",
   "execution_count": null,
   "metadata": {
    "id": "-_Gw3DqEbe6B",
    "colab": {
     "base_uri": "https://localhost:8080/"
    },
    "outputId": "154d31cc-dd60-4193-c327-24e37a4cf380"
   },
   "outputs": [
    {
     "output_type": "stream",
     "name": "stdout",
     "text": [
      "========== Prompt inputted to the model ==========\n",
      " <bos><start_of_turn>user\n",
      "Please tell me about the key differences between supervised learning and unsupervised learning. Answer in 200 words.<end_of_turn>\n",
      "<start_of_turn>model\n",
      "\n"
     ]
    },
    {
     "output_type": "stream",
     "name": "stderr",
     "text": [
      "The 'batch_size' attribute of HybridCache is deprecated and will be removed in v4.49. Use the more precisely named 'self.max_batch_size' attribute instead.\n"
     ]
    },
    {
     "output_type": "stream",
     "name": "stdout",
     "text": [
      "========== Output ==========\n",
      " Supervised and unsupervised learning are two fundamental types of machine learning. \n",
      "\n",
      "**Supervised learning** involves training a model on labeled data, where each input has a corresponding output. The model learns to map inputs to outputs, making predictions on new, unseen data. Think of it like teaching a child with labeled examples: you show them pictures of cats and dogs, and they learn to distinguish between them. \n",
      "\n",
      "**Unsupervised learning**, on the other hand, uses unlabeled data. The model learns patterns and structures within the data without explicit guidance. It's like letting a child explore a room full of toys and discover patterns on their own. Examples include clustering similar items or finding hidden relationships in data.\n",
      "\n",
      "**Key differences:**\n",
      "\n",
      "* **Labeling:** Supervised uses labeled data, unsupervised doesn't.\n",
      "* **Goal:** Supervised aims to predict outputs, unsupervised aims to discover patterns.\n",
      "* **Applications:** Supervised: classification, regression, supervised tasks; Unsupervised: clustering, anomaly detection, dimensionality reduction. \n",
      "\n",
      "\n",
      "Both types are powerful tools with their own strengths and weaknesses, and the choice depends on the specific problem and available data.\n",
      "========== Coherence Score : 6.0734  ==========\n"
     ]
    }
   ],
   "source": [
    "# With chat template\n",
    "question = \"Please tell me about the key differences between supervised learning and unsupervised learning. Answer in 200 words.\"\n",
    "chat = [\n",
    "    {\"role\": \"user\", \"content\": question},\n",
    "]\n",
    "prompt_with_template = tokenizer.apply_chat_template(chat, tokenize=False, add_generation_prompt=True)\n",
    "response_with_template = generate_text_from_prompt(prompt_with_template, tokenizer, model)\n",
    "\n",
    "# extract the real output from the model\n",
    "response_with_template = response_with_template.split('model\\n')[-1].strip('\\n').strip()\n",
    "\n",
    "print(\"========== Output ==========\\n\", response_with_template)\n",
    "score = calculate_coherence(question, response_with_template)\n",
    "print(f\"========== Coherence Score : {score:.4f}  ==========\")"
   ]
  },
  {
   "cell_type": "code",
   "source": [
    "# Without chat template (directly using plain text)\n",
    "response_without_template = generate_text_from_prompt(question, tokenizer, model)\n",
    "\n",
    "# extract the real output from the model\n",
    "response_without_template = response_without_template.split(question.split(' ')[-1])[-1].strip('\\n').strip()\n",
    "print(\"========== Output ==========\\n\", response_without_template)\n",
    "score = calculate_coherence(question, response_without_template)\n",
    "print(f\"========== Coherence Score : {score:.4f}  ==========\")"
   ],
   "metadata": {
    "colab": {
     "base_uri": "https://localhost:8080/"
    },
    "id": "hNKIqC9l7ZGi",
    "outputId": "d11f74a0-40ab-4fbd-f220-9f1dcf15b0bf"
   },
   "execution_count": null,
   "outputs": [
    {
     "output_type": "stream",
     "name": "stdout",
     "text": [
      "========== Prompt inputted to the model ==========\n",
      " Please tell me about the key differences between supervised learning and unsupervised learning. Answer in 200 words.\n",
      "========== Output ==========\n",
      " **Supervised Learning:**\n",
      "\n",
      "* **Labeled data:** Uses data with known outputs (labels) to train models.\n",
      "* **Goal:** Predict the output for new, unseen data.\n",
      "* **Examples:** Image classification, spam detection, predicting house prices.\n",
      "\n",
      "**Unsupervised Learning:**\n",
      "\n",
      "* **Unlabeled data:** Uses data without known outputs to discover patterns.\n",
      "* **Goal:** Explore data, identify clusters, or reduce dimensionality.\n",
      "* **Examples:** Customer segmentation, anomaly detection, dimensionality reduction.\n",
      "\n",
      "\n",
      "In essence, supervised learning learns from labeled examples to make predictions, while unsupervised learning explores unlabeled data to uncover hidden structures and relationships.\n",
      "========== Coherence Score : 4.2210  ==========\n"
     ]
    }
   ]
  },
  {
   "cell_type": "markdown",
   "metadata": {
    "id": "9YT8amEJSP-E"
   },
   "source": [
    "## Q2: Multi-turn conversations"
   ]
  },
  {
   "cell_type": "code",
   "execution_count": null,
   "metadata": {
    "id": "hAkqoPxsSrbz",
    "colab": {
     "base_uri": "https://localhost:8080/",
     "height": 830
    },
    "outputId": "c7742e3a-e788-4a28-c1de-3287383e4324"
   },
   "outputs": [
    {
     "output_type": "stream",
     "name": "stdout",
     "text": [
      "Chatbot: Hello! How can I assist you today? (Type 'exit' to quit)\n",
      "You: tell my a joke\n",
      "=== Prompt with chat template format inputted to the model on round 1 ===\n",
      "<bos><start_of_turn>user\n",
      "tell my a joke<end_of_turn>\n",
      "<start_of_turn>model\n",
      "\n",
      "===============================================\n"
     ]
    },
    {
     "output_type": "stream",
     "name": "stderr",
     "text": [
      "<ipython-input-10-262378176447>:44: FutureWarning: \n",
      "\n",
      "Passing `palette` without assigning `hue` is deprecated and will be removed in v0.14.0. Assign the `y` variable to `hue` and set `legend=False` for the same effect.\n",
      "\n",
      "  sns.barplot(x=top_probs, y=top_tokens, palette=\"coolwarm\")\n"
     ]
    },
    {
     "output_type": "display_data",
     "data": {
      "text/plain": [
       "<Figure size 1000x500 with 1 Axes>"
      ],
      "image/png": "[encoded data removed]"
     },
     "metadata": {}
    },
    {
     "output_type": "stream",
     "name": "stdout",
     "text": [
      "Chatbot: Why don't scientists trust atoms? \n",
      "\n",
      "Because they make up everything! 😄 \n",
      "\n",
      "You: exit\n",
      "Chatbot: Goodbye!\n"
     ]
    }
   ],
   "source": [
    "import matplotlib.pyplot as plt\n",
    "import seaborn as sns\n",
    "chat_history = []\n",
    "round = 0\n",
    "print(\"Chatbot: Hello! How can I assist you today? (Type 'exit' to quit)\")\n",
    "\n",
    "while True:\n",
    "    user_input = input(\"You: \")\n",
    "    if user_input.lower() == \"exit\":\n",
    "        print(\"Chatbot: Goodbye!\")\n",
    "        break\n",
    "\n",
    "    round += 1\n",
    "    chat_history.append({\"role\": \"user\", \"content\": user_input})\n",
    "    chat_template_format_prompt = tokenizer.apply_chat_template(chat_history, tokenize=False, add_generation_prompt=True)\n",
    "    ######################## (Q2.1 ~ 2.3) ########################\n",
    "    # Observe the prompt with chat template format that was inputted to the model in the current round to answer Q2.1 ~ Q2.3.\n",
    "    print(f\"=== Prompt with chat template format inputted to the model on round {round} ===\\n{chat_template_format_prompt}\")\n",
    "    print(f\"===============================================\")\n",
    "    ###################################################################\n",
    "\n",
    "    inputs = tokenizer(chat_template_format_prompt, return_tensors=\"pt\").to(\"cuda\")\n",
    "    # Get logits instead of directly generating\n",
    "    with torch.no_grad():\n",
    "        outputs_p = model(**inputs)\n",
    "\n",
    "    logits = outputs_p.logits  # Logits of the model (raw scores before softmax)\n",
    "    last_token_logits = logits[:, -1, :]  # Take the logits of the last generated token\n",
    "\n",
    "    # Apply softmax to get probabilities\n",
    "    probs = torch.nn.functional.softmax(last_token_logits, dim=-1)\n",
    "\n",
    "    # Get top-k tokens (e.g., 10)\n",
    "    top_k = 10\n",
    "    top_probs, top_indices = torch.topk(probs, top_k)\n",
    "\n",
    "    # Convert to numpy for plotting\n",
    "    top_probs = top_probs.cpu().squeeze().numpy()\n",
    "    top_indices = top_indices.cpu().squeeze().numpy()\n",
    "    top_tokens = [tokenizer.decode([idx]) for idx in top_indices]\n",
    "\n",
    "    # Plot probability distribution\n",
    "    plt.figure(figsize=(10, 5))\n",
    "    sns.barplot(x=top_probs, y=top_tokens, palette=\"coolwarm\")\n",
    "    plt.xlabel(\"Probability\")\n",
    "    plt.ylabel(\"Token\")\n",
    "    plt.title(\"Top Token Probabilities for Next Word\")\n",
    "    plt.show()\n",
    "\n",
    "    # Generate response\n",
    "    outputs = model.generate(**inputs, max_new_tokens=200, pad_token_id=tokenizer.eos_token_id, do_sample=False)\n",
    "    response = tokenizer.decode(outputs[0][inputs.input_ids.shape[1]:], skip_special_tokens=True)\n",
    "\n",
    "    print(f\"Chatbot: {response}\")\n",
    "    chat_history.append({\"role\": \"assistant\", \"content\": response})"
   ]
  },
  {
   "cell_type": "markdown",
   "metadata": {
    "id": "Oo7JKIgp0Txd"
   },
   "source": [
    "## Q3: Tokenization of Sentence"
   ]
  },
  {
   "cell_type": "code",
   "execution_count": null,
   "metadata": {
    "id": "qHrVdb_20Txd",
    "colab": {
     "base_uri": "https://localhost:8080/"
    },
    "outputId": "51d8293d-d008-459b-d50d-d09cb960d069"
   },
   "outputs": [
    {
     "output_type": "stream",
     "name": "stdout",
     "text": [
      "Token: 你好, token index: 87139\n",
      "Token: ，, token index: 235365\n",
      "Token: 我的, token index: 15409\n",
      "Token: 名字, token index: 39742\n",
      "Token: 是, token index: 235427\n",
      "Token: Jason, token index: 28864\n",
      "Token: ，, token index: 235365\n",
      "Token: 你, token index: 235608\n",
      "Token: 呢, token index: 236512\n",
      "Token: ？, token index: 235544\n"
     ]
    }
   ],
   "source": [
    "sentence = \"你好，我的名字是Jason，你呢？\" #@param {type:\"string\"}\n",
    "\n",
    "######################## TODO (Q3.1 ~ 3.4) ########################\n",
    "### You can refer to https://huggingface.co/learn/nlp-course/en/chapter2/4?fw=pt for basic tokenizer usage\n",
    "### and https://huggingface.co/docs/transformers/en/main_classes/tokenizer for full tokenizer usage\n",
    "\n",
    "\n",
    "# Encode the sentence into token IDs without adding special tokens\n",
    "token_ids = tokenizer.encode(sentence, add_special_tokens=False)\n",
    "\n",
    "# Convert the token IDs back to their corresponding tokens (words or subwords)\n",
    "tokens = tokenizer.convert_ids_to_tokens(token_ids)\n",
    "###################################################################\n",
    "\n",
    "# Iterate through the tokens and their corresponding token IDs\n",
    "for t, t_id in zip(tokens, token_ids):\n",
    "    # Print the token and its index (ID)\n",
    "    print(f\"Token: {t}, token index: {t_id}\")"
   ]
  },
  {
   "cell_type": "markdown",
   "metadata": {
    "id": "O1ocRPtU0Txe"
   },
   "source": [
    "## Q4: Auto-regressive generation"
   ]
  },
  {
   "cell_type": "code",
   "source": [
    "from tqdm import trange\n",
    "\n",
    "max_generation_tokens = 30\n",
    "\n",
    "######################## TODO (Q4.3 ~ 4.6) ########################\n",
    "# Modify the value of k and p accordingly\n",
    "\n",
    "top_k = 10  # Set K for top-k sampling\n",
    "top_p = 0.6  # Set P for nucleus sampling\n",
    "###################################################################\n",
    "\n",
    "# Input prompt\n",
    "prompt = f\"Generate a paraphrase of the sentence 'Professor Hung-yi Lee is one of the best teachers in the domain of machine learning'. Just response with one sentence.\"\n",
    "input_ids = tokenizer(prompt, return_tensors=\"pt\")\n",
    "\n",
    "next_token_id = input_ids.input_ids.to(\"cuda\")\n",
    "attention_mask = input_ids.attention_mask.to(\"cuda\")\n",
    "cache_position = torch.arange(attention_mask.shape[1], device=\"cuda\")\n",
    "\n",
    "generated_sentences_top_k = []\n",
    "generated_sentences_top_p = []\n",
    "\n",
    "\n",
    "\n",
    "# Define the generation parameters\n",
    "generation_params = {\n",
    "    \"do_sample\": True,  # Enable sampling\n",
    "    \"max_length\": max_generation_tokens + len(input_ids.input_ids[0]),  # Total length including prompt\n",
    "    \"pad_token_id\": tokenizer.pad_token_id,  # Ensure padding token is set\n",
    "    \"eos_token_id\": tokenizer.eos_token_id,  # Ensure EOS token is set\n",
    "    \"bos_token_id\": tokenizer.bos_token_id,  # Ensure BOS token is set\n",
    "    \"attention_mask\": input_ids.attention_mask.to(\"cuda\"),  # Move attention mask to GPU\n",
    "    \"use_cache\": True,  # Enable caching\n",
    "    \"return_dict_in_generate\": True,  # Return generation outputs\n",
    "    \"output_scores\": False,  # Disable outputting scores\n",
    "}\n",
    "\n",
    "\n",
    "for method in [\"top-k\", \"top-p\"]:\n",
    "    for _ in trange(20):\n",
    "      if method == \"top-k\":\n",
    "        # Generate text using the model with top_k\n",
    "        generated_output = model.generate(\n",
    "            input_ids=input_ids.input_ids.to(\"cuda\"),\n",
    "            top_k=top_k,\n",
    "            **generation_params\n",
    "        )\n",
    "      elif method == \"top-p\":\n",
    "        # Generate text using the model with top_p\n",
    "        ######################## TODO (Q4.3 ~ 4.6) ########################\n",
    "        # Generate output from the model based on the input_ids and specified generation parameters\n",
    "        # You can refer to this documentation: https://huggingface.co/docs/transformers/en/main_classes/text_generation\n",
    "        # Hint: You can check how we generate the text with top_k\n",
    "\n",
    "        generated_output = model.generate(\n",
    "            input_ids=input_ids.input_ids.to(\"cuda\"),\n",
    "            top_p=top_p,\n",
    "            **generation_params\n",
    "        )\n",
    "        ###################################################################\n",
    "      else:\n",
    "        raise NotImplementedError()\n",
    "      # Decode the generated tokens\n",
    "      generated_tokens = generated_output.sequences[0, len(input_ids.input_ids[0]):]\n",
    "      decoded_text = tokenizer.decode(generated_tokens, skip_special_tokens=True)\n",
    "\n",
    "      # Combine the prompt with the generated text\n",
    "      sentence = decoded_text.replace(\" ,\", \",\").replace(\" 's\", \"'s\").replace(\" .\", \".\").strip()\n",
    "\n",
    "      # Append the generated sentence to the appropriate list\n",
    "      if method == \"top-k\":\n",
    "          generated_sentences_top_k.append(sentence)\n",
    "      else:\n",
    "          generated_sentences_top_p.append(sentence)\n",
    "\n",
    "# Print results\n",
    "print(\"===== Top-K Sampling Output =====\")\n",
    "print()\n",
    "for idx,sentence in enumerate(generated_sentences_top_k):\n",
    "    print(f\"{idx}. {sentence}\")\n",
    "print()\n",
    "print(\"===== Top-P Sampling Output =====\")\n",
    "print()\n",
    "for idx,sentence in enumerate(generated_sentences_top_p):\n",
    "    print(f\"{idx}. {sentence}\")\n",
    "print()"
   ],
   "metadata": {
    "id": "F3F8yl41t2he",
    "colab": {
     "base_uri": "https://localhost:8080/"
    },
    "outputId": "82e01539-246f-4309-d2dd-7cceacd4293b"
   },
   "execution_count": null,
   "outputs": [
    {
     "output_type": "stream",
     "name": "stderr",
     "text": [
      "100%|██████████| 20/20 [00:30<00:00,  1.55s/it]\n",
      "100%|██████████| 20/20 [00:30<00:00,  1.54s/it]"
     ]
    },
    {
     "output_type": "stream",
     "name": "stdout",
     "text": [
      "===== Top-K Sampling Output =====\n",
      "\n",
      "0. Professor Lee is highly regarded and considered a leading figure in the field of machine learning education.\n",
      "1. He is renowned for his expertise in machine learning, making him a top instructor in the field.\n",
      "2. Professor Lee is a renowned expert in machine learning, consistently delivering exceptional instruction.\n",
      "3. Professor Hung-yi Lee is a renowned expert and highly regarded in the field of machine learning education. He is considered among the best teachers.\n",
      "4. Professor Lee is highly regarded within the field of machine learning for his exceptional teaching abilities.\n",
      "5. He is a renowned expert and highly regarded for his contribution to the field of machine learning and his exceptional teaching skills.\n",
      "6. Professor Lee is highly regarded as an expert in machine learning and a top educator in the field.\n",
      "7. Professor Lee is highly respected for his expertise in machine learning and consistently delivers exceptional teaching experiences.\n",
      "8. Professor Lee is highly respected and recognized for his mastery in artificial intelligence and machine Learning.\n",
      "9. He is highly regarded for his expertise and contributions to the field of machine learning education.\n",
      "10. Professor Lee is highly regarded as a leading expert in machine learning education.\n",
      "11. Professor Lee is highly regarded as an expert and teacher in machine learning.\n",
      "12. Here is the original sentence with its context for a better understanding of its nuance:\n",
      "\"...renowned for his contributions in the field of machine learning\n",
      "13. Professor Lee is highly respected and recognized as an outstanding machine learning educator.\n",
      "14. Professor Lee is highly regarded as a leader in the field of machine learning, known for his exceptional teaching abilities.\n",
      "15. Professor Lee is highly regarded for his expertise in machine learning and is a top-performing teacher in the field.\n",
      "16. Professor Lee is highly regarded for his expertise in machine learning.\n",
      "17. Professor Lee excels at teaching machine learning.\n",
      "18. Professor Lee is highly regarded as a skilled and knowledgeable teacher in the field of machine learning.\n",
      "19. Professor Lee is highly regarded in the field of machine learning for his exceptional teaching abilities.\n",
      "\n",
      "===== Top-P Sampling Output =====\n",
      "\n",
      "0. Professor Lee is highly regarded as a leading expert in machine learning education.\n",
      "1. Professor Lee is highly regarded for his expertise in machine learning and is considered one of the leading educators in the field.\n",
      "2. Professor Lee is highly regarded for his expertise in machine learning, making him a top teacher in the field.\n",
      "3. Professor Lee is highly regarded as a leading expert in machine learning education.\n",
      "4. Professor Lee is highly regarded as a leading expert in machine learning education.\n",
      "5. Professor Lee is highly regarded for his expertise in machine learning, making him a top teacher in the field.\n",
      "6. Professor Lee is highly regarded for his expertise in machine learning and is known for his exceptional teaching abilities.\n",
      "7. Professor Lee is highly regarded for his expertise in machine learning education.\n",
      "8. Professor Lee is highly regarded for his expertise in machine learning, making him a top teacher in the field.\n",
      "9. Professor Lee is highly regarded as a top machine learning educator.\n",
      "10. He is highly regarded as a leading expert in machine learning education.\n",
      "11. Professor Lee is highly regarded as a top-tier machine learning educator.\n",
      "12. Professor Lee is highly regarded for his expertise in machine learning education.\n",
      "13. Professor Lee is highly regarded for his expertise in machine learning and is considered one of the leading educators in the field.\n",
      "14. Professor Lee is highly regarded as a leading expert in machine learning education.\n",
      "15. Professor Lee is highly regarded for his expertise in machine learning and is considered one of the leading educators in the field.\n",
      "16. Professor Lee is highly regarded for his expertise in machine learning, making him a top-notch teacher in the field.\n",
      "17. He is highly regarded as a leading expert in machine learning education.\n",
      "18. Professor Lee is highly regarded as a leading expert in machine learning education.\n",
      "19. Professor Lee is highly regarded as a leading expert in machine learning education.\n",
      "\n"
     ]
    },
    {
     "output_type": "stream",
     "name": "stderr",
     "text": [
      "\n"
     ]
    }
   ]
  },
  {
   "cell_type": "code",
   "source": [
    "from nltk.translate.bleu_score import sentence_bleu\n",
    "\n",
    "def compute_self_bleu(generated_sentences):\n",
    "    total_bleu_score = 0\n",
    "    num_sentences = len(generated_sentences)\n",
    "\n",
    "    for i, hypothesis in enumerate(generated_sentences):\n",
    "        references = [generated_sentences[j] for j in range(num_sentences) if j != i]\n",
    "        bleu_scores = [sentence_bleu([ref.split()], hypothesis.split()) for ref in references]\n",
    "        total_bleu_score += sum(bleu_scores) / len(bleu_scores)\n",
    "\n",
    "    return total_bleu_score / num_sentences\n",
    "\n",
    "# Calculate BLEU score\n",
    "bleu_score = compute_self_bleu(generated_sentences_top_k)\n",
    "print(f\"self-BLEU Score for top_k (k={top_k}): {bleu_score:.4f}\")\n",
    "\n",
    "# Calculate BLEU score\n",
    "bleu_score = compute_self_bleu(generated_sentences_top_p)\n",
    "print(f\"self-BLEU Score for top_p (p={top_p}): {bleu_score:.4f}\")\n"
   ],
   "metadata": {
    "id": "oMkYXsyLqR5I",
    "colab": {
     "base_uri": "https://localhost:8080/"
    },
    "outputId": "0bc04b02-f95b-4998-d24a-117e164dc3c3"
   },
   "execution_count": null,
   "outputs": [
    {
     "output_type": "stream",
     "name": "stdout",
     "text": [
      "self-BLEU Score for top_k (k=10): 0.1581\n",
      "self-BLEU Score for top_p (p=0.6): 0.4355\n"
     ]
    }
   ]
  },
  {
   "cell_type": "markdown",
   "metadata": {
    "id": "RvI2LvarYe-M"
   },
   "source": [
    "## Q5: t-SNE"
   ]
  },
  {
   "cell_type": "code",
   "source": [
    "from transformers import AutoModelForCausalLM, AutoTokenizer\n",
    "import torch\n",
    "from sklearn.manifold import TSNE\n",
    "import matplotlib.pyplot as plt\n",
    "\n",
    "device = \"cuda\" if torch.cuda.is_available() else \"cpu\"\n",
    "model.to(device)\n",
    "\n",
    "######################## (Q5.2 ~ 5.3) ########################\n",
    "# Sentences with different meanings of words\n",
    "sentences = [\n",
    "    \"I ate a fresh apple.\",  # Apple (fruit)\n",
    "    \"Apple released the new iPhone.\",  # Apple (company)\n",
    "    \"I peeled an orange and ate it.\",  # Orange (fruit)\n",
    "    \"The Orange network has great coverage.\",  # Orange (telecom)\n",
    "    \"Microsoft announced a new update.\",  # Microsoft (company)\n",
    "    \"Banana is my favorite fruit.\",  # Banana (fruit)\n",
    "]\n",
    "\n",
    "# Tokenize and move to device\n",
    "inputs = tokenizer(sentences, return_tensors=\"pt\", padding=True, truncation=True)\n",
    "inputs = inputs.to(device)\n",
    "\n",
    "# Get hidden states\n",
    "with torch.no_grad():\n",
    "    outputs = model(**inputs, output_hidden_states=True)\n",
    "\n",
    "hidden_states = outputs.hidden_states[-1]  # Extract last layer embeddings\n",
    "\n",
    "# Compute sentence-level embeddings (mean pooling)\n",
    "sentence_embeddings = hidden_states.mean(dim=1).cpu().numpy()\n",
    "\n",
    "# Words to visualize\n",
    "word_labels = [\n",
    "    \"Apple (fruit)\", \"Apple (company)\",\n",
    "    \"Orange (fruit)\", \"Orange (telecom)\",\n",
    "    \"Microsoft (company)\", \"Banana (fruit)\"\n",
    "]\n",
    "\n",
    "# Reduce to 2D using t-SNE\n",
    "tsne = TSNE(n_components=2, perplexity=2, random_state=42)\n",
    "embeddings_2d = tsne.fit_transform(sentence_embeddings)\n",
    "\n",
    "# Plot the embeddings\n",
    "plt.figure(figsize=(8, 6))\n",
    "colors = [\"red\", \"blue\", \"orange\", \"purple\", \"green\", \"brown\"]\n",
    "for i, label in enumerate(word_labels):\n",
    "    plt.scatter(embeddings_2d[i, 0], embeddings_2d[i, 1], color=colors[i], s=100)\n",
    "    plt.text(embeddings_2d[i, 0] + 0.1, embeddings_2d[i, 1] + 0.1, label, fontsize=12, color=colors[i])\n",
    "\n",
    "plt.xlabel(\"t-SNE Dim 1\")\n",
    "plt.ylabel(\"t-SNE Dim 2\")\n",
    "plt.title(\"t-SNE Visualization of Word Embeddings\")\n",
    "plt.show()\n",
    "##################################################"
   ],
   "metadata": {
    "id": "AH4t64HSv6r9",
    "colab": {
     "base_uri": "https://localhost:8080/",
     "height": 564
    },
    "outputId": "6efda0c2-ede7-4de5-9bcf-f04b91ff9ae9"
   },
   "execution_count": null,
   "outputs": [
    {
     "output_type": "display_data",
     "data": {
      "text/plain": [
       "<Figure size 800x600 with 1 Axes>"
      ],
      "image/png": "[encoded data removed]"
     },
     "metadata": {}
    }
   ]
  },
  {
   "cell_type": "markdown",
   "metadata": {
    "id": "EYDqomF2YWyX"
   },
   "source": [
    "## Q6: Observe the Attention Weight"
   ]
  },
  {
   "cell_type": "code",
   "execution_count": null,
   "metadata": {
    "collapsed": true,
    "id": "R9nEUAHOYRU_",
    "colab": {
     "base_uri": "https://localhost:8080/",
     "height": 767
    },
    "outputId": "e27898b4-2466-400c-c470-26921548c295"
   },
   "outputs": [
    {
     "output_type": "display_data",
     "data": {
      "text/plain": [
       "<Figure size 1000x800 with 2 Axes>"
      ],
      "image/png": "[encoded data removed]"
     },
     "metadata": {}
    }
   ],
   "source": [
    "# Import necessary libraries\n",
    "import torch\n",
    "import seaborn as sns\n",
    "import matplotlib.pyplot as plt\n",
    "import numpy as np\n",
    "from transformers import AutoModelForCausalLM, AutoTokenizer\n",
    "from tqdm import trange\n",
    "from sklearn.decomposition import PCA\n",
    "\n",
    "# Input prompt for text generation\n",
    "prompt = \"Google is\"\n",
    "input_ids = tokenizer(prompt, return_tensors=\"pt\")  # Tokenize the input prompt\n",
    "next_token_id = input_ids.input_ids.to(\"cuda\")  # Move input token ids to GPU\n",
    "attention_mask = input_ids.attention_mask.to(\"cuda\")  # Move attention mask to GPU\n",
    "cache_position = torch.arange(attention_mask.shape[1], device=\"cuda\")  # Position for the KV cache\n",
    "\n",
    "# Set the number of tokens to generate and other parameters\n",
    "generation_tokens = 15  # Limit for visualization (number of tokens to generate)\n",
    "total_tokens = generation_tokens + next_token_id.size(1) - 1  # Total tokens to handle\n",
    "layer_idx = 10  # Specify the layer index for attention visualization\n",
    "head_idx = 7  # Specify the attention head index to visualize\n",
    "\n",
    "# KV cache setup for caching key/values across time steps\n",
    "from transformers.cache_utils import HybridCache\n",
    "kv_cache = HybridCache(config=model.config, max_batch_size=1, max_cache_len=total_tokens, device=\"cuda\", dtype=torch.float16)\n",
    "\n",
    "generated_tokens = []  # List to store generated tokens\n",
    "attentions = None  # Placeholder to store attention weights\n",
    "\n",
    "num_new_tokens = 0  # Counter for the number of new tokens generated\n",
    "model.eval()  # Set the model to evaluation mode\n",
    "\n",
    "# Generate tokens and collect attention weights for visualization\n",
    "for num_new_tokens in range(generation_tokens):\n",
    "    with torch.no_grad():  # Disable gradients during inference for efficiency\n",
    "        # Pass the input through the model to get the next token prediction and attention weights\n",
    "        outputs = model(\n",
    "            next_token_id,\n",
    "            attention_mask=attention_mask,\n",
    "            cache_position=cache_position,\n",
    "            use_cache=True,  # Use the KV cache for efficiency\n",
    "            past_key_values=kv_cache,  # Provide the cached key-value pairs for fast inference\n",
    "            output_attentions=True  # Enable the extraction of attention weights\n",
    "        )\n",
    "    ######################## TODO (Q6.1 ~ 6.4) ########################\n",
    "    ### You can refer to https://huggingface.co/docs/transformers/en/main_classes/output#transformers.modeling_outputs.BaseModelOutput.attentions to see the structure of model output attentions\n",
    "    # Get the logits for the last generated token from outputs\n",
    "    logits = outputs.logits[:, -1, :]\n",
    "    # Extract the attention scores from the model's outputs\n",
    "    attention_scores = outputs.attentions\n",
    "    ###################################################################\n",
    "\n",
    "    # Extract attention weights for the specified layer and head\n",
    "    last_layer_attention = attention_scores[layer_idx][0][head_idx].detach().cpu().numpy()\n",
    "\n",
    "    # If it's the first generated token, initialize the attentions array\n",
    "    if num_new_tokens == 0:\n",
    "        attentions = last_layer_attention\n",
    "    else:\n",
    "        # Append the current attention weights to the existing array\n",
    "        attentions = np.append(attentions, last_layer_attention, axis=0)\n",
    "\n",
    "    # Choose the next token to generate based on the highest probability (logits)\n",
    "    next_token_id = logits.argmax(dim=-1)\n",
    "    generated_tokens.append(next_token_id.item())  # Add the token ID to the generated tokens list\n",
    "\n",
    "    # Update the attention mask and next token ID for the next iteration\n",
    "    attention_mask = torch.cat([attention_mask, torch.ones(1, 1, device=\"cuda\")], dim=-1)  # Add a new attention mask for the generated token\n",
    "    next_token_id = next_token_id.unsqueeze(0)  # Convert the token ID to the required shape\n",
    "\n",
    "    # Update the KV cache with the new past key-values\n",
    "    kv_cache = outputs.past_key_values\n",
    "    cache_position = cache_position[-1:] + 1  # Update the cache position for the next iteration\n",
    "\n",
    "# Decode the generated tokens into human-readable text\n",
    "generated_text = tokenizer.decode(generated_tokens, skip_special_tokens=True)\n",
    "full_text = prompt + generated_text  # Combine the prompt with the generated text\n",
    "\n",
    "# Tokenize all the generated text (prompt + generated)\n",
    "tokens = tokenizer.tokenize(full_text)\n",
    "\n",
    "# Function to plot a heatmap of attention weights\n",
    "def plot_attention(attn_matrix, tokens, title=\"Attention Heatmap\"):\n",
    "    plt.figure(figsize=(10, 8))  # Set the figure size\n",
    "    sns.heatmap(attn_matrix, xticklabels=tokens, yticklabels=tokens, cmap=\"viridis\", annot=False)  # Plot the attention matrix as a heatmap\n",
    "    plt.xlabel(\"Key Tokens\")\n",
    "    plt.ylabel(\"Query Tokens\")\n",
    "    plt.title(title)\n",
    "    plt.xticks(rotation=45)  # Rotate x-axis labels for better visibility\n",
    "    plt.yticks(rotation=0)  # Rotate y-axis labels\n",
    "    plt.show()\n",
    "\n",
    "# Plot the attention heatmap for the last generated token\n",
    "plot_attention(attentions, tokens, title=f\"Attention Weights for Generated Token of Layer {layer_idx}\")"
   ]
  },
  {
   "cell_type": "markdown",
   "metadata": {
    "id": "zz2z5Q4TYlyE"
   },
   "source": [
    "## Q7: Observe the Activation Scores"
   ]
  },
  {
   "cell_type": "markdown",
   "source": [
    "The following code is referred from official Gemma tutorials: [Gemma Tutorial From Scratch](https://colab.research.google.com/drive/17dQFYUYnuKnP6OwQPH9v_GSYUW5aj-Rp#scrollTo=2-i7YRVLgKoT) and [SAELens](https://github.com/jbloomAus/SAELens/blob/main/tutorials/tutorial_2_0.ipynb)"
   ],
   "metadata": {
    "id": "Q2li0_FBwbit"
   }
  },
  {
   "cell_type": "code",
   "execution_count": null,
   "metadata": {
    "collapsed": true,
    "id": "1a3DM4RXYxcE",
    "colab": {
     "base_uri": "https://localhost:8080/"
    },
    "outputId": "8d4d3dff-b714-44d4-ba79-38f5f956f867"
   },
   "outputs": [
    {
     "output_type": "stream",
     "name": "stdout",
     "text": [
      "Requirement already satisfied: sae-lens in /usr/local/lib/python3.11/dist-packages (5.6.1)\n",
      "Requirement already satisfied: automated-interpretability<1.0.0,>=0.0.5 in /usr/local/lib/python3.11/dist-packages (from sae-lens) (0.0.8)\n",
      "Requirement already satisfied: babe<0.0.8,>=0.0.7 in /usr/local/lib/python3.11/dist-packages (from sae-lens) (0.0.7)\n",
      "Requirement already satisfied: datasets<3.0.0,>=2.17.1 in /usr/local/lib/python3.11/dist-packages (from sae-lens) (2.21.0)\n",
      "Requirement already satisfied: matplotlib<4.0.0,>=3.8.3 in /usr/local/lib/python3.11/dist-packages (from sae-lens) (3.10.0)\n",
      "Requirement already satisfied: matplotlib-inline<0.2.0,>=0.1.6 in /usr/local/lib/python3.11/dist-packages (from sae-lens) (0.1.7)\n",
      "Requirement already satisfied: nltk<4.0.0,>=3.8.1 in /usr/local/lib/python3.11/dist-packages (from sae-lens) (3.9.1)\n",
      "Requirement already satisfied: plotly<6.0.0,>=5.19.0 in /usr/local/lib/python3.11/dist-packages (from sae-lens) (5.24.1)\n",
      "Requirement already satisfied: plotly-express<0.5.0,>=0.4.1 in /usr/local/lib/python3.11/dist-packages (from sae-lens) (0.4.1)\n",
      "Requirement already satisfied: pytest-profiling<2.0.0,>=1.7.0 in /usr/local/lib/python3.11/dist-packages (from sae-lens) (1.8.1)\n",
      "Requirement already satisfied: python-dotenv<2.0.0,>=1.0.1 in /usr/local/lib/python3.11/dist-packages (from sae-lens) (1.1.0)\n",
      "Requirement already satisfied: pyyaml<7.0.0,>=6.0.1 in /usr/local/lib/python3.11/dist-packages (from sae-lens) (6.0.2)\n",
      "Requirement already satisfied: pyzmq==26.0.0 in /usr/local/lib/python3.11/dist-packages (from sae-lens) (26.0.0)\n",
      "Requirement already satisfied: safetensors<0.5.0,>=0.4.2 in /usr/local/lib/python3.11/dist-packages (from sae-lens) (0.4.5)\n",
      "Requirement already satisfied: simple-parsing<0.2.0,>=0.1.6 in /usr/local/lib/python3.11/dist-packages (from sae-lens) (0.1.7)\n",
      "Requirement already satisfied: transformer-lens<3.0.0,>=2.0.0 in /usr/local/lib/python3.11/dist-packages (from sae-lens) (2.15.0)\n",
      "Requirement already satisfied: transformers<5.0.0,>=4.38.1 in /usr/local/lib/python3.11/dist-packages (from sae-lens) (4.47.0)\n",
      "Requirement already satisfied: typer<0.13.0,>=0.12.3 in /usr/local/lib/python3.11/dist-packages (from sae-lens) (0.12.5)\n",
      "Requirement already satisfied: typing-extensions<5.0.0,>=4.10.0 in /usr/local/lib/python3.11/dist-packages (from sae-lens) (4.13.0)\n",
      "Requirement already satisfied: zstandard<0.23.0,>=0.22.0 in /usr/local/lib/python3.11/dist-packages (from sae-lens) (0.22.0)\n",
      "Requirement already satisfied: blobfile<3.0.0,>=2.1.1 in /usr/local/lib/python3.11/dist-packages (from automated-interpretability<1.0.0,>=0.0.5->sae-lens) (2.1.1)\n",
      "Requirement already satisfied: boostedblob<0.16.0,>=0.15.3 in /usr/local/lib/python3.11/dist-packages (from automated-interpretability<1.0.0,>=0.0.5->sae-lens) (0.15.6)\n",
      "Requirement already satisfied: httpx<0.28.0,>=0.27.0 in /usr/local/lib/python3.11/dist-packages (from automated-interpretability<1.0.0,>=0.0.5->sae-lens) (0.27.2)\n",
      "Requirement already satisfied: numpy<2.0.0,>=1.24.0 in /usr/local/lib/python3.11/dist-packages (from automated-interpretability<1.0.0,>=0.0.5->sae-lens) (1.26.4)\n",
      "Requirement already satisfied: orjson<4.0.0,>=3.10.1 in /usr/local/lib/python3.11/dist-packages (from automated-interpretability<1.0.0,>=0.0.5->sae-lens) (3.10.16)\n",
      "Requirement already satisfied: scikit-learn<2.0.0,>=1.2.0 in /usr/local/lib/python3.11/dist-packages (from automated-interpretability<1.0.0,>=0.0.5->sae-lens) (1.6.1)\n",
      "Requirement already satisfied: tiktoken>=0.6.0 in /usr/local/lib/python3.11/dist-packages (from automated-interpretability<1.0.0,>=0.0.5->sae-lens) (0.9.0)\n",
      "Requirement already satisfied: pandas in /usr/local/lib/python3.11/dist-packages (from babe<0.0.8,>=0.0.7->sae-lens) (2.2.2)\n",
      "Requirement already satisfied: py2store in /usr/local/lib/python3.11/dist-packages (from babe<0.0.8,>=0.0.7->sae-lens) (0.1.20)\n",
      "Requirement already satisfied: graze in /usr/local/lib/python3.11/dist-packages (from babe<0.0.8,>=0.0.7->sae-lens) (0.1.29)\n",
      "Requirement already satisfied: filelock in /usr/local/lib/python3.11/dist-packages (from datasets<3.0.0,>=2.17.1->sae-lens) (3.18.0)\n",
      "Requirement already satisfied: pyarrow>=15.0.0 in /usr/local/lib/python3.11/dist-packages (from datasets<3.0.0,>=2.17.1->sae-lens) (18.1.0)\n",
      "Requirement already satisfied: dill<0.3.9,>=0.3.0 in /usr/local/lib/python3.11/dist-packages (from datasets<3.0.0,>=2.17.1->sae-lens) (0.3.8)\n",
      "Requirement already satisfied: requests>=2.32.2 in /usr/local/lib/python3.11/dist-packages (from datasets<3.0.0,>=2.17.1->sae-lens) (2.32.3)\n",
      "Requirement already satisfied: tqdm>=4.66.3 in /usr/local/lib/python3.11/dist-packages (from datasets<3.0.0,>=2.17.1->sae-lens) (4.67.1)\n",
      "Requirement already satisfied: xxhash in /usr/local/lib/python3.11/dist-packages (from datasets<3.0.0,>=2.17.1->sae-lens) (3.5.0)\n",
      "Requirement already satisfied: multiprocess in /usr/local/lib/python3.11/dist-packages (from datasets<3.0.0,>=2.17.1->sae-lens) (0.70.16)\n",
      "Requirement already satisfied: fsspec<=2024.6.1,>=2023.1.0 in /usr/local/lib/python3.11/dist-packages (from fsspec[http]<=2024.6.1,>=2023.1.0->datasets<3.0.0,>=2.17.1->sae-lens) (2024.6.1)\n",
      "Requirement already satisfied: aiohttp in /usr/local/lib/python3.11/dist-packages (from datasets<3.0.0,>=2.17.1->sae-lens) (3.11.14)\n",
      "Requirement already satisfied: huggingface-hub>=0.21.2 in /usr/local/lib/python3.11/dist-packages (from datasets<3.0.0,>=2.17.1->sae-lens) (0.29.3)\n",
      "Requirement already satisfied: packaging in /usr/local/lib/python3.11/dist-packages (from datasets<3.0.0,>=2.17.1->sae-lens) (24.2)\n",
      "Requirement already satisfied: contourpy>=1.0.1 in /usr/local/lib/python3.11/dist-packages (from matplotlib<4.0.0,>=3.8.3->sae-lens) (1.3.1)\n",
      "Requirement already satisfied: cycler>=0.10 in /usr/local/lib/python3.11/dist-packages (from matplotlib<4.0.0,>=3.8.3->sae-lens) (0.12.1)\n",
      "Requirement already satisfied: fonttools>=4.22.0 in /usr/local/lib/python3.11/dist-packages (from matplotlib<4.0.0,>=3.8.3->sae-lens) (4.56.0)\n",
      "Requirement already satisfied: kiwisolver>=1.3.1 in /usr/local/lib/python3.11/dist-packages (from matplotlib<4.0.0,>=3.8.3->sae-lens) (1.4.8)\n",
      "Requirement already satisfied: pillow>=8 in /usr/local/lib/python3.11/dist-packages (from matplotlib<4.0.0,>=3.8.3->sae-lens) (11.1.0)\n",
      "Requirement already satisfied: pyparsing>=2.3.1 in /usr/local/lib/python3.11/dist-packages (from matplotlib<4.0.0,>=3.8.3->sae-lens) (3.2.3)\n",
      "Requirement already satisfied: python-dateutil>=2.7 in /usr/local/lib/python3.11/dist-packages (from matplotlib<4.0.0,>=3.8.3->sae-lens) (2.8.2)\n",
      "Requirement already satisfied: traitlets in /usr/local/lib/python3.11/dist-packages (from matplotlib-inline<0.2.0,>=0.1.6->sae-lens) (5.7.1)\n",
      "Requirement already satisfied: click in /usr/local/lib/python3.11/dist-packages (from nltk<4.0.0,>=3.8.1->sae-lens) (8.1.8)\n",
      "Requirement already satisfied: joblib in /usr/local/lib/python3.11/dist-packages (from nltk<4.0.0,>=3.8.1->sae-lens) (1.4.2)\n",
      "Requirement already satisfied: regex>=2021.8.3 in /usr/local/lib/python3.11/dist-packages (from nltk<4.0.0,>=3.8.1->sae-lens) (2024.11.6)\n",
      "Requirement already satisfied: tenacity>=6.2.0 in /usr/local/lib/python3.11/dist-packages (from plotly<6.0.0,>=5.19.0->sae-lens) (9.0.0)\n",
      "Requirement already satisfied: statsmodels>=0.9.0 in /usr/local/lib/python3.11/dist-packages (from plotly-express<0.5.0,>=0.4.1->sae-lens) (0.14.4)\n",
      "Requirement already satisfied: scipy>=0.18 in /usr/local/lib/python3.11/dist-packages (from plotly-express<0.5.0,>=0.4.1->sae-lens) (1.14.1)\n",
      "Requirement already satisfied: patsy>=0.5 in /usr/local/lib/python3.11/dist-packages (from plotly-express<0.5.0,>=0.4.1->sae-lens) (1.0.1)\n",
      "Requirement already satisfied: six in /usr/local/lib/python3.11/dist-packages (from pytest-profiling<2.0.0,>=1.7.0->sae-lens) (1.17.0)\n",
      "Requirement already satisfied: pytest in /usr/local/lib/python3.11/dist-packages (from pytest-profiling<2.0.0,>=1.7.0->sae-lens) (8.3.5)\n",
      "Requirement already satisfied: gprof2dot in /usr/local/lib/python3.11/dist-packages (from pytest-profiling<2.0.0,>=1.7.0->sae-lens) (2024.6.6)\n",
      "Requirement already satisfied: docstring-parser<1.0,>=0.15 in /usr/local/lib/python3.11/dist-packages (from simple-parsing<0.2.0,>=0.1.6->sae-lens) (0.16)\n",
      "Requirement already satisfied: accelerate>=0.23.0 in /usr/local/lib/python3.11/dist-packages (from transformer-lens<3.0.0,>=2.0.0->sae-lens) (1.5.2)\n",
      "Requirement already satisfied: beartype<0.15.0,>=0.14.1 in /usr/local/lib/python3.11/dist-packages (from transformer-lens<3.0.0,>=2.0.0->sae-lens) (0.14.1)\n",
      "Requirement already satisfied: better-abc<0.0.4,>=0.0.3 in /usr/local/lib/python3.11/dist-packages (from transformer-lens<3.0.0,>=2.0.0->sae-lens) (0.0.3)\n",
      "Requirement already satisfied: einops>=0.6.0 in /usr/local/lib/python3.11/dist-packages (from transformer-lens<3.0.0,>=2.0.0->sae-lens) (0.8.1)\n",
      "Requirement already satisfied: fancy-einsum>=0.0.3 in /usr/local/lib/python3.11/dist-packages (from transformer-lens<3.0.0,>=2.0.0->sae-lens) (0.0.3)\n",
      "Requirement already satisfied: jaxtyping>=0.2.11 in /usr/local/lib/python3.11/dist-packages (from transformer-lens<3.0.0,>=2.0.0->sae-lens) (0.3.1)\n",
      "Requirement already satisfied: rich>=12.6.0 in /usr/local/lib/python3.11/dist-packages (from transformer-lens<3.0.0,>=2.0.0->sae-lens) (13.9.4)\n",
      "Requirement already satisfied: sentencepiece in /usr/local/lib/python3.11/dist-packages (from transformer-lens<3.0.0,>=2.0.0->sae-lens) (0.2.0)\n",
      "Requirement already satisfied: torch>=2.2 in /usr/local/lib/python3.11/dist-packages (from transformer-lens<3.0.0,>=2.0.0->sae-lens) (2.6.0+cu124)\n",
      "Requirement already satisfied: transformers-stream-generator<0.0.6,>=0.0.5 in /usr/local/lib/python3.11/dist-packages (from transformer-lens<3.0.0,>=2.0.0->sae-lens) (0.0.5)\n",
      "Requirement already satisfied: typeguard<5.0,>=4.2 in /usr/local/lib/python3.11/dist-packages (from transformer-lens<3.0.0,>=2.0.0->sae-lens) (4.4.2)\n",
      "Requirement already satisfied: wandb>=0.13.5 in /usr/local/lib/python3.11/dist-packages (from transformer-lens<3.0.0,>=2.0.0->sae-lens) (0.19.8)\n",
      "Requirement already satisfied: tokenizers<0.22,>=0.21 in /usr/local/lib/python3.11/dist-packages (from transformers<5.0.0,>=4.38.1->sae-lens) (0.21.1)\n",
      "Requirement already satisfied: shellingham>=1.3.0 in /usr/local/lib/python3.11/dist-packages (from typer<0.13.0,>=0.12.3->sae-lens) (1.5.4)\n",
      "Requirement already satisfied: psutil in /usr/local/lib/python3.11/dist-packages (from accelerate>=0.23.0->transformer-lens<3.0.0,>=2.0.0->sae-lens) (5.9.5)\n",
      "Requirement already satisfied: pycryptodomex~=3.8 in /usr/local/lib/python3.11/dist-packages (from blobfile<3.0.0,>=2.1.1->automated-interpretability<1.0.0,>=0.0.5->sae-lens) (3.22.0)\n",
      "Requirement already satisfied: urllib3<3,>=1.25.3 in /usr/local/lib/python3.11/dist-packages (from blobfile<3.0.0,>=2.1.1->automated-interpretability<1.0.0,>=0.0.5->sae-lens) (2.3.0)\n",
      "Requirement already satisfied: lxml~=4.9 in /usr/local/lib/python3.11/dist-packages (from blobfile<3.0.0,>=2.1.1->automated-interpretability<1.0.0,>=0.0.5->sae-lens) (4.9.4)\n",
      "Requirement already satisfied: uvloop>=0.16.0 in /usr/local/lib/python3.11/dist-packages (from boostedblob<0.16.0,>=0.15.3->automated-interpretability<1.0.0,>=0.0.5->sae-lens) (0.21.0)\n",
      "Requirement already satisfied: aiohappyeyeballs>=2.3.0 in /usr/local/lib/python3.11/dist-packages (from aiohttp->datasets<3.0.0,>=2.17.1->sae-lens) (2.6.1)\n",
      "Requirement already satisfied: aiosignal>=1.1.2 in /usr/local/lib/python3.11/dist-packages (from aiohttp->datasets<3.0.0,>=2.17.1->sae-lens) (1.3.2)\n",
      "Requirement already satisfied: attrs>=17.3.0 in /usr/local/lib/python3.11/dist-packages (from aiohttp->datasets<3.0.0,>=2.17.1->sae-lens) (25.3.0)\n",
      "Requirement already satisfied: frozenlist>=1.1.1 in /usr/local/lib/python3.11/dist-packages (from aiohttp->datasets<3.0.0,>=2.17.1->sae-lens) (1.5.0)\n",
      "Requirement already satisfied: multidict<7.0,>=4.5 in /usr/local/lib/python3.11/dist-packages (from aiohttp->datasets<3.0.0,>=2.17.1->sae-lens) (6.2.0)\n",
      "Requirement already satisfied: propcache>=0.2.0 in /usr/local/lib/python3.11/dist-packages (from aiohttp->datasets<3.0.0,>=2.17.1->sae-lens) (0.3.1)\n",
      "Requirement already satisfied: yarl<2.0,>=1.17.0 in /usr/local/lib/python3.11/dist-packages (from aiohttp->datasets<3.0.0,>=2.17.1->sae-lens) (1.18.3)\n",
      "Requirement already satisfied: anyio in /usr/local/lib/python3.11/dist-packages (from httpx<0.28.0,>=0.27.0->automated-interpretability<1.0.0,>=0.0.5->sae-lens) (4.9.0)\n",
      "Requirement already satisfied: certifi in /usr/local/lib/python3.11/dist-packages (from httpx<0.28.0,>=0.27.0->automated-interpretability<1.0.0,>=0.0.5->sae-lens) (2025.1.31)\n",
      "Requirement already satisfied: httpcore==1.* in /usr/local/lib/python3.11/dist-packages (from httpx<0.28.0,>=0.27.0->automated-interpretability<1.0.0,>=0.0.5->sae-lens) (1.0.7)\n",
      "Requirement already satisfied: idna in /usr/local/lib/python3.11/dist-packages (from httpx<0.28.0,>=0.27.0->automated-interpretability<1.0.0,>=0.0.5->sae-lens) (3.10)\n",
      "Requirement already satisfied: sniffio in /usr/local/lib/python3.11/dist-packages (from httpx<0.28.0,>=0.27.0->automated-interpretability<1.0.0,>=0.0.5->sae-lens) (1.3.1)\n",
      "Requirement already satisfied: h11<0.15,>=0.13 in /usr/local/lib/python3.11/dist-packages (from httpcore==1.*->httpx<0.28.0,>=0.27.0->automated-interpretability<1.0.0,>=0.0.5->sae-lens) (0.14.0)\n",
      "Requirement already satisfied: wadler-lindig>=0.1.3 in /usr/local/lib/python3.11/dist-packages (from jaxtyping>=0.2.11->transformer-lens<3.0.0,>=2.0.0->sae-lens) (0.1.4)\n",
      "Requirement already satisfied: pytz>=2020.1 in /usr/local/lib/python3.11/dist-packages (from pandas->babe<0.0.8,>=0.0.7->sae-lens) (2025.2)\n",
      "Requirement already satisfied: tzdata>=2022.7 in /usr/local/lib/python3.11/dist-packages (from pandas->babe<0.0.8,>=0.0.7->sae-lens) (2025.2)\n",
      "Requirement already satisfied: charset-normalizer<4,>=2 in /usr/local/lib/python3.11/dist-packages (from requests>=2.32.2->datasets<3.0.0,>=2.17.1->sae-lens) (3.4.1)\n",
      "Requirement already satisfied: markdown-it-py>=2.2.0 in /usr/local/lib/python3.11/dist-packages (from rich>=12.6.0->transformer-lens<3.0.0,>=2.0.0->sae-lens) (3.0.0)\n",
      "Requirement already satisfied: pygments<3.0.0,>=2.13.0 in /usr/local/lib/python3.11/dist-packages (from rich>=12.6.0->transformer-lens<3.0.0,>=2.0.0->sae-lens) (2.18.0)\n",
      "Requirement already satisfied: threadpoolctl>=3.1.0 in /usr/local/lib/python3.11/dist-packages (from scikit-learn<2.0.0,>=1.2.0->automated-interpretability<1.0.0,>=0.0.5->sae-lens) (3.6.0)\n",
      "Requirement already satisfied: networkx in /usr/local/lib/python3.11/dist-packages (from torch>=2.2->transformer-lens<3.0.0,>=2.0.0->sae-lens) (3.4.2)\n",
      "Requirement already satisfied: jinja2 in /usr/local/lib/python3.11/dist-packages (from torch>=2.2->transformer-lens<3.0.0,>=2.0.0->sae-lens) (3.1.6)\n",
      "Requirement already satisfied: nvidia-cuda-nvrtc-cu12==12.4.127 in /usr/local/lib/python3.11/dist-packages (from torch>=2.2->transformer-lens<3.0.0,>=2.0.0->sae-lens) (12.4.127)\n",
      "Requirement already satisfied: nvidia-cuda-runtime-cu12==12.4.127 in /usr/local/lib/python3.11/dist-packages (from torch>=2.2->transformer-lens<3.0.0,>=2.0.0->sae-lens) (12.4.127)\n",
      "Requirement already satisfied: nvidia-cuda-cupti-cu12==12.4.127 in /usr/local/lib/python3.11/dist-packages (from torch>=2.2->transformer-lens<3.0.0,>=2.0.0->sae-lens) (12.4.127)\n",
      "Requirement already satisfied: nvidia-cudnn-cu12==9.1.0.70 in /usr/local/lib/python3.11/dist-packages (from torch>=2.2->transformer-lens<3.0.0,>=2.0.0->sae-lens) (9.1.0.70)\n",
      "Requirement already satisfied: nvidia-cublas-cu12==12.4.5.8 in /usr/local/lib/python3.11/dist-packages (from torch>=2.2->transformer-lens<3.0.0,>=2.0.0->sae-lens) (12.4.5.8)\n",
      "Requirement already satisfied: nvidia-cufft-cu12==11.2.1.3 in /usr/local/lib/python3.11/dist-packages (from torch>=2.2->transformer-lens<3.0.0,>=2.0.0->sae-lens) (11.2.1.3)\n",
      "Requirement already satisfied: nvidia-curand-cu12==10.3.5.147 in /usr/local/lib/python3.11/dist-packages (from torch>=2.2->transformer-lens<3.0.0,>=2.0.0->sae-lens) (10.3.5.147)\n",
      "Requirement already satisfied: nvidia-cusolver-cu12==11.6.1.9 in /usr/local/lib/python3.11/dist-packages (from torch>=2.2->transformer-lens<3.0.0,>=2.0.0->sae-lens) (11.6.1.9)\n",
      "Requirement already satisfied: nvidia-cusparse-cu12==12.3.1.170 in /usr/local/lib/python3.11/dist-packages (from torch>=2.2->transformer-lens<3.0.0,>=2.0.0->sae-lens) (12.3.1.170)\n",
      "Requirement already satisfied: nvidia-cusparselt-cu12==0.6.2 in /usr/local/lib/python3.11/dist-packages (from torch>=2.2->transformer-lens<3.0.0,>=2.0.0->sae-lens) (0.6.2)\n",
      "Requirement already satisfied: nvidia-nccl-cu12==2.21.5 in /usr/local/lib/python3.11/dist-packages (from torch>=2.2->transformer-lens<3.0.0,>=2.0.0->sae-lens) (2.21.5)\n",
      "Requirement already satisfied: nvidia-nvtx-cu12==12.4.127 in /usr/local/lib/python3.11/dist-packages (from torch>=2.2->transformer-lens<3.0.0,>=2.0.0->sae-lens) (12.4.127)\n",
      "Requirement already satisfied: nvidia-nvjitlink-cu12==12.4.127 in /usr/local/lib/python3.11/dist-packages (from torch>=2.2->transformer-lens<3.0.0,>=2.0.0->sae-lens) (12.4.127)\n",
      "Requirement already satisfied: triton==3.2.0 in /usr/local/lib/python3.11/dist-packages (from torch>=2.2->transformer-lens<3.0.0,>=2.0.0->sae-lens) (3.2.0)\n",
      "Requirement already satisfied: sympy==1.13.1 in /usr/local/lib/python3.11/dist-packages (from torch>=2.2->transformer-lens<3.0.0,>=2.0.0->sae-lens) (1.13.1)\n",
      "Requirement already satisfied: mpmath<1.4,>=1.1.0 in /usr/local/lib/python3.11/dist-packages (from sympy==1.13.1->torch>=2.2->transformer-lens<3.0.0,>=2.0.0->sae-lens) (1.3.0)\n",
      "Requirement already satisfied: docker-pycreds>=0.4.0 in /usr/local/lib/python3.11/dist-packages (from wandb>=0.13.5->transformer-lens<3.0.0,>=2.0.0->sae-lens) (0.4.0)\n",
      "Requirement already satisfied: gitpython!=3.1.29,>=1.0.0 in /usr/local/lib/python3.11/dist-packages (from wandb>=0.13.5->transformer-lens<3.0.0,>=2.0.0->sae-lens) (3.1.44)\n",
      "Requirement already satisfied: platformdirs in /usr/local/lib/python3.11/dist-packages (from wandb>=0.13.5->transformer-lens<3.0.0,>=2.0.0->sae-lens) (4.3.7)\n",
      "Requirement already satisfied: protobuf!=4.21.0,!=5.28.0,<6,>=3.19.0 in /usr/local/lib/python3.11/dist-packages (from wandb>=0.13.5->transformer-lens<3.0.0,>=2.0.0->sae-lens) (5.29.4)\n",
      "Requirement already satisfied: pydantic<3,>=2.6 in /usr/local/lib/python3.11/dist-packages (from wandb>=0.13.5->transformer-lens<3.0.0,>=2.0.0->sae-lens) (2.11.0)\n",
      "Requirement already satisfied: sentry-sdk>=2.0.0 in /usr/local/lib/python3.11/dist-packages (from wandb>=0.13.5->transformer-lens<3.0.0,>=2.0.0->sae-lens) (2.24.1)\n",
      "Requirement already satisfied: setproctitle in /usr/local/lib/python3.11/dist-packages (from wandb>=0.13.5->transformer-lens<3.0.0,>=2.0.0->sae-lens) (1.3.5)\n",
      "Requirement already satisfied: setuptools in /usr/local/lib/python3.11/dist-packages (from wandb>=0.13.5->transformer-lens<3.0.0,>=2.0.0->sae-lens) (75.2.0)\n",
      "Requirement already satisfied: dol in /usr/local/lib/python3.11/dist-packages (from graze->babe<0.0.8,>=0.0.7->sae-lens) (0.3.16)\n",
      "Requirement already satisfied: config2py in /usr/local/lib/python3.11/dist-packages (from py2store->babe<0.0.8,>=0.0.7->sae-lens) (0.1.37)\n",
      "Requirement already satisfied: importlib-resources in /usr/local/lib/python3.11/dist-packages (from py2store->babe<0.0.8,>=0.0.7->sae-lens) (6.5.2)\n",
      "Requirement already satisfied: iniconfig in /usr/local/lib/python3.11/dist-packages (from pytest->pytest-profiling<2.0.0,>=1.7.0->sae-lens) (2.1.0)\n",
      "Requirement already satisfied: pluggy<2,>=1.5 in /usr/local/lib/python3.11/dist-packages (from pytest->pytest-profiling<2.0.0,>=1.7.0->sae-lens) (1.5.0)\n",
      "Requirement already satisfied: gitdb<5,>=4.0.1 in /usr/local/lib/python3.11/dist-packages (from gitpython!=3.1.29,>=1.0.0->wandb>=0.13.5->transformer-lens<3.0.0,>=2.0.0->sae-lens) (4.0.12)\n",
      "Requirement already satisfied: mdurl~=0.1 in /usr/local/lib/python3.11/dist-packages (from markdown-it-py>=2.2.0->rich>=12.6.0->transformer-lens<3.0.0,>=2.0.0->sae-lens) (0.1.2)\n",
      "Requirement already satisfied: annotated-types>=0.6.0 in /usr/local/lib/python3.11/dist-packages (from pydantic<3,>=2.6->wandb>=0.13.5->transformer-lens<3.0.0,>=2.0.0->sae-lens) (0.7.0)\n",
      "Requirement already satisfied: pydantic-core==2.33.0 in /usr/local/lib/python3.11/dist-packages (from pydantic<3,>=2.6->wandb>=0.13.5->transformer-lens<3.0.0,>=2.0.0->sae-lens) (2.33.0)\n",
      "Requirement already satisfied: typing-inspection>=0.4.0 in /usr/local/lib/python3.11/dist-packages (from pydantic<3,>=2.6->wandb>=0.13.5->transformer-lens<3.0.0,>=2.0.0->sae-lens) (0.4.0)\n",
      "Requirement already satisfied: i2 in /usr/local/lib/python3.11/dist-packages (from config2py->py2store->babe<0.0.8,>=0.0.7->sae-lens) (0.1.46)\n",
      "Requirement already satisfied: MarkupSafe>=2.0 in /usr/local/lib/python3.11/dist-packages (from jinja2->torch>=2.2->transformer-lens<3.0.0,>=2.0.0->sae-lens) (3.0.2)\n",
      "Requirement already satisfied: smmap<6,>=3.0.1 in /usr/local/lib/python3.11/dist-packages (from gitdb<5,>=4.0.1->gitpython!=3.1.29,>=1.0.0->wandb>=0.13.5->transformer-lens<3.0.0,>=2.0.0->sae-lens) (5.0.2)\n"
     ]
    }
   ],
   "source": [
    "!pip install sae-lens"
   ]
  },
  {
   "cell_type": "code",
   "execution_count": null,
   "metadata": {
    "id": "v8iz9tluYuQy",
    "colab": {
     "base_uri": "https://localhost:8080/"
    },
    "outputId": "ad457daa-4be4-465e-ec8f-f0144fa8694c"
   },
   "outputs": [
    {
     "output_type": "stream",
     "name": "stdout",
     "text": [
      "SAE(\n",
      "  (activation_fn): ReLU()\n",
      "  (hook_sae_input): HookPoint()\n",
      "  (hook_sae_acts_pre): HookPoint()\n",
      "  (hook_sae_acts_post): HookPoint()\n",
      "  (hook_sae_output): HookPoint()\n",
      "  (hook_sae_recons): HookPoint()\n",
      "  (hook_sae_error): HookPoint()\n",
      ") {'architecture': 'jumprelu', 'd_in': 2304, 'd_sae': 16384, 'dtype': 'float32', 'model_name': 'gemma-2-2b', 'hook_name': 'blocks.20.hook_resid_post', 'hook_layer': 20, 'hook_head_index': None, 'activation_fn_str': 'relu', 'finetuning_scaling_factor': False, 'sae_lens_training_version': None, 'prepend_bos': True, 'dataset_path': 'monology/pile-uncopyrighted', 'context_size': 1024, 'dataset_trust_remote_code': True, 'apply_b_dec_to_input': False, 'normalize_activations': None, 'device': 'cpu', 'neuronpedia_id': 'gemma-2-2b/20-gemmascope-res-16k'} None\n"
     ]
    }
   ],
   "source": [
    "from sae_lens import SAE\n",
    "\n",
    "sae, cfg_dict, sparsity = SAE.from_pretrained(\n",
    "    release = \"gemma-scope-2b-pt-res-canonical\",\n",
    "    sae_id = \"layer_20/width_16k/canonical\",\n",
    ")\n",
    "\n",
    "print(sae, cfg_dict, sparsity)"
   ]
  },
  {
   "cell_type": "code",
   "execution_count": null,
   "metadata": {
    "id": "2YusIpmQYk-k",
    "colab": {
     "base_uri": "https://localhost:8080/",
     "height": 621
    },
    "outputId": "3d1b5ecb-e03f-4994-877c-e5814fc8690e"
   },
   "outputs": [
    {
     "output_type": "execute_result",
     "data": {
      "text/plain": [
       "<IPython.lib.display.IFrame at 0x7d0dde202610>"
      ],
      "text/html": [
       "\n",
       "        <iframe\n",
       "            width=\"1200\"\n",
       "            height=\"600\"\n",
       "            src=\"https://neuronpedia.org/gemma-2-2b/20-gemmascope-res-16k/10004?embed=true&embedexplanation=true&embedplots=true&embedtest=true&height=300\"\n",
       "            frameborder=\"0\"\n",
       "            allowfullscreen\n",
       "            \n",
       "        ></iframe>\n",
       "        "
      ]
     },
     "metadata": {},
     "execution_count": 5
    }
   ],
   "source": [
    "from IPython.display import IFrame\n",
    "html_template = \"https://neuronpedia.org/{}/{}/{}?embed=true&embedexplanation=true&embedplots=true&embedtest=true&height=300\"\n",
    "\n",
    "def get_dashboard_html(sae_release = \"gemma-2-2b\", sae_id=\"20-gemmascope-res-16k\", feature_idx=0):\n",
    "    return html_template.format(sae_release, sae_id, feature_idx)\n",
    "\n",
    "########################## TODO (Q7.1) ############################\n",
    "html = get_dashboard_html(sae_release = \"gemma-2-2b\", sae_id=\"20-gemmascope-res-16k\", feature_idx=10004)\n",
    "IFrame(html, width=1200, height=600)\n",
    "###################################################################"
   ]
  },
  {
   "cell_type": "markdown",
   "source": [
    "## Q7.2~7.3: Maximum activations comparison"
   ],
   "metadata": {
    "id": "51VLXHjtGRLN"
   }
  },
  {
   "cell_type": "code",
   "source": [
    "######################## (Q7.2 ~ 7.3) ########################\n",
    "\n",
    "def get_max_activation(model, tokenizer, sae, prompt, feature_idx=10004):\n",
    "    \"\"\"\n",
    "    Computes the maximum activation of a specific feature in a Sparse Autoencoder (SAE)\n",
    "    for a given prompt.\n",
    "\n",
    "    Args:\n",
    "        model: The Transformer model used for generating hidden states.\n",
    "        tokenizer: The tokenizer for encoding the prompt.\n",
    "        sae: The Sparse Autoencoder for encoding hidden states.\n",
    "        prompt (str): The input text prompt.\n",
    "        feature_idx (int, optional): The index of the feature in SAE. Defaults to 10004.\n",
    "\n",
    "    Returns:\n",
    "        float: The maximum activation value for the specified feature index.\n",
    "    \"\"\"\n",
    "    device = \"cuda\" if torch.cuda.is_available() else \"cpu\"\n",
    "    sae.to(device)\n",
    "\n",
    "    # Tokenize the input prompt and get model outputs\n",
    "    tokens = tokenizer.encode(prompt, return_tensors=\"pt\").to(model.device)\n",
    "    outputs = model(tokens, output_hidden_states=True)\n",
    "\n",
    "    # Extract hidden states from the specified layer\n",
    "    hidden_states = outputs.hidden_states[sae.cfg.hook_layer]\n",
    "\n",
    "    # Encode hidden states using SAE\n",
    "    sae_in = hidden_states\n",
    "    feature_acts = sae.encode(sae_in).squeeze()  # Shape: (batch_size * seq_len, num_features)\n",
    "    feature_acts = feature_acts.reshape(-1, feature_acts.shape[-1])\n",
    "\n",
    "    # Compute max activation for the specified feature index\n",
    "    max_activation = -float(\"inf\")\n",
    "    batch_max_activation = feature_acts[:, feature_idx].max().item()\n",
    "    max_activation = max(max_activation, batch_max_activation)\n",
    "\n",
    "    # Plot activation distribution\n",
    "    plt.figure(figsize=(8, 5))\n",
    "    plt.hist(feature_acts[:, feature_idx].cpu().detach().numpy(), bins=50, alpha=0.75, color='blue', edgecolor='black')\n",
    "    plt.xlabel(f\"Activation values (Feature {feature_idx})\")\n",
    "    plt.ylabel(\"Frequency\")\n",
    "    plt.title(f\"Activation Distribution for Feature {feature_idx} - Prompt: '{prompt}'\")\n",
    "    plt.grid(True)\n",
    "    plt.show()\n",
    "\n",
    "    return max_activation\n",
    "\n",
    "feature_idx = 10004\n",
    "# Define the prompts\n",
    "prompt_a = \"Time travel offers me the opportunity to correct past errors, but it comes with its own set of risks.\"\n",
    "prompt_b = \"I accept that my decisions shape my future, and though mistakes are inevitable, they define who I become.\"\n",
    "\n",
    "# Calculate the maximum activations for each prompt using the feature index\n",
    "max_activation_a = get_max_activation(model, tokenizer, sae, prompt_a, feature_idx=feature_idx)\n",
    "max_activation_b = get_max_activation(model, tokenizer, sae, prompt_b, feature_idx=feature_idx)\n",
    "\n",
    "# Print the comparison\n",
    "print(f\"max_activation for prompt_a: {max_activation_a}\")\n",
    "print(f\"max_activation for prompt_b: {max_activation_b}\")\n",
    "###########################################################"
   ],
   "metadata": {
    "id": "iLuW-Hk55qJb",
    "colab": {
     "base_uri": "https://localhost:8080/",
     "height": 983
    },
    "outputId": "392788e9-dacc-48a4-e579-a37e6b8bfbd8"
   },
   "execution_count": null,
   "outputs": [
    {
     "output_type": "display_data",
     "data": {
      "text/plain": [
       "<Figure size 800x500 with 1 Axes>"
      ],
      "image/png": "[encoded data removed]"
     },
     "metadata": {}
    },
    {
     "output_type": "display_data",
     "data": {
      "text/plain": [
       "<Figure size 800x500 with 1 Axes>"
      ],
      "image/png": "[encoded data removed]"
     },
     "metadata": {}
    },
    {
     "output_type": "stream",
     "name": "stdout",
     "text": [
      "max_activation for prompt_a: 58.03689193725586\n",
      "max_activation for prompt_b: 31.76049041748047\n"
     ]
    }
   ]
  },
  {
   "cell_type": "markdown",
   "source": [
    "## Q7.4~7.6: Activation distribution for specific layer"
   ],
   "metadata": {
    "id": "gFg9hOKzGW8y"
   }
  },
  {
   "cell_type": "code",
   "source": [
    "import numpy as np\n",
    "import matplotlib.pyplot as plt\n",
    "\n",
    "def plot_token_activations(model, tokenizer, sae, prompt, feature_idx=10004, layer_idx=0):\n",
    "    \"\"\"\n",
    "    Plots activations for each token in a specific layer.\n",
    "\n",
    "    Args:\n",
    "        model: The transformer model.\n",
    "        tokenizer: Tokenizer for encoding input text.\n",
    "        sae: Sparse Autoencoder model.\n",
    "        prompt: Input text string.\n",
    "        feature_idx: Index of the feature to analyze.\n",
    "        layer_idx: Layer to analyze (None uses sae.cfg.hook_layer).\n",
    "    \"\"\"\n",
    "    device = \"cuda\" if torch.cuda.is_available() else \"cpu\"\n",
    "    sae.to(device)\n",
    "\n",
    "    # Tokenize input and get model output\n",
    "    tokens = tokenizer(prompt, return_tensors=\"pt\")\n",
    "    token_ids = tokens[\"input_ids\"].to(device)\n",
    "    token_list = tokenizer.convert_ids_to_tokens(token_ids.squeeze().tolist())\n",
    "\n",
    "    outputs = model(token_ids, output_hidden_states=True)\n",
    "\n",
    "    # Choose layer\n",
    "    layer_idx = layer_idx if layer_idx is not None else sae.cfg.hook_layer\n",
    "    hidden_states = outputs.hidden_states[layer_idx]\n",
    "\n",
    "    # Pass through SAE\n",
    "    sae_in = hidden_states\n",
    "    feature_acts = sae.encode(sae_in).squeeze()  # (batch_size, seq_len, num_features)\n",
    "    print(f\"feature_acts shape: {feature_acts.shape}\")\n",
    "\n",
    "    # Extract activations for the chosen feature\n",
    "    activations = feature_acts[:, feature_idx].squeeze().cpu().detach().numpy()\n",
    "\n",
    "    # Plot\n",
    "    plt.figure(figsize=(10, 5))\n",
    "    plt.bar(range(len(token_list)), activations, color='blue', alpha=0.7)\n",
    "    plt.xticks(range(len(token_list)), token_list, rotation=45)\n",
    "    plt.xlabel(\"Tokens\")\n",
    "    plt.ylabel(f\"Activation Value (Feature {feature_idx})\")\n",
    "    plt.title(f\"Token-wise Activations for Layer {layer_idx}\")\n",
    "    plt.grid(True)\n",
    "    plt.show()\n",
    "\n",
    "######################## (Q7.4 ~ 7.6) ########################\n",
    "# Simply observe the figure\n",
    "layer_idx = 24\n",
    "prompt = \"Time travel will become a reality as technology continues to advance.\"\n",
    "plot_token_activations(model, tokenizer, sae, prompt_a, feature_idx, layer_idx)\n",
    "###################################################################"
   ],
   "metadata": {
    "id": "Ms4lv2S552IS",
    "colab": {
     "base_uri": "https://localhost:8080/",
     "height": 565
    },
    "outputId": "2a4a8dda-166a-4256-eaf1-068b90f139bc"
   },
   "execution_count": null,
   "outputs": [
    {
     "output_type": "stream",
     "name": "stdout",
     "text": [
      "feature_acts shape: torch.Size([22, 16384])\n"
     ]
    },
    {
     "output_type": "display_data",
     "data": {
      "text/plain": [
       "<Figure size 1000x500 with 1 Axes>"
      ],
      "image/png": "[encoded data removed]"
     },
     "metadata": {}
    }
   ]
  },
  {
   "cell_type": "markdown",
   "source": [
    "## Q7.7~7.9: Activation distribution for specific token"
   ],
   "metadata": {
    "id": "EwLP2sXZGcrb"
   }
  },
  {
   "cell_type": "code",
   "source": [
    "def plot_layer_activations(model, tokenizer, sae, prompt, token_idx=0, feature_idx=10004):\n",
    "    \"\"\"\n",
    "    Plots activations of a specific token across all layers.\n",
    "\n",
    "    Args:\n",
    "        model: The transformer model.\n",
    "        tokenizer: Tokenizer for encoding input text.\n",
    "        sae: Sparse Autoencoder model.\n",
    "        prompt: Input text string.\n",
    "        token_idx: Index of the token to analyze.\n",
    "        feature_idx: Index of the feature to analyze.\n",
    "    \"\"\"\n",
    "    device = \"cuda\" if torch.cuda.is_available() else \"cpu\"\n",
    "    sae.to(device)\n",
    "\n",
    "    # Tokenize input and get model output\n",
    "    tokens = tokenizer(prompt, return_tensors=\"pt\")\n",
    "    token_ids = tokens[\"input_ids\"].to(device)\n",
    "    token_list = tokenizer.convert_ids_to_tokens(token_ids.squeeze().tolist())\n",
    "\n",
    "    outputs = model(token_ids, output_hidden_states=True)\n",
    "\n",
    "    # Collect activations across all layers\n",
    "    num_layers = len(outputs.hidden_states)\n",
    "    activations = []\n",
    "\n",
    "    for layer_idx in range(num_layers):\n",
    "        hidden_states = outputs.hidden_states[layer_idx]\n",
    "        sae_in = hidden_states\n",
    "        feature_acts = sae.encode(sae_in).squeeze()  # (batch_size, seq_len, num_features)\n",
    "        # print(f\"feature_acts shape: {feature_acts.shape}\")\n",
    "        activations.append(feature_acts[token_idx, feature_idx].item())\n",
    "\n",
    "    # Plot\n",
    "    plt.figure(figsize=(8, 5))\n",
    "    plt.plot(range(num_layers), activations, marker=\"o\", linestyle=\"-\", color=\"blue\")\n",
    "    plt.xlabel(\"Layer\")\n",
    "    plt.ylabel(f\"Activation Value (Feature {feature_idx})\")\n",
    "    plt.title(f\"Activation Across Layers for Token '{token_list[token_idx]}'\")\n",
    "    plt.xticks(range(num_layers))\n",
    "    plt.grid(True)\n",
    "    plt.show()\n",
    "\n",
    "######################## (Q7.7 ~ 7.9) ########################\n",
    "# Alter the token index to observe the figure\n",
    "token_idx = 1\n",
    "prompt = \"Time travel will become a reality as technology continues to advance.\"\n",
    "plot_layer_activations(model, tokenizer, sae, prompt, token_idx)\n",
    "###################################################################"
   ],
   "metadata": {
    "id": "WjssMqTi55km",
    "colab": {
     "base_uri": "https://localhost:8080/",
     "height": 487
    },
    "outputId": "3ece978d-42aa-444f-9807-8621b43ff06f"
   },
   "execution_count": null,
   "outputs": [
    {
     "output_type": "display_data",
     "data": {
      "text/plain": [
       "<Figure size 800x500 with 1 Axes>"
      ],
      "image/png": "[encoded data removed]"
     },
     "metadata": {}
    }
   ]
  }
 ],
 "metadata": {
  "accelerator": "GPU",
  "colab": {
   "gpuType": "T4",
   "provenance": []
  },
  "kaggle": {
   "accelerator": "gpu",
   "dataSources": [],
   "dockerImageVersionId": 30840,
   "isGpuEnabled": true,
   "isInternetEnabled": true,
   "language": "python",
   "sourceType": "notebook"
  },
  "kernelspec": {
   "display_name": "Python 3",
   "name": "python3"
  },
  "language_info": {
   "codemirror_mode": {
    "name": "ipython",
    "version": 3
   },
   "file_extension": ".py",
   "mimetype": "text/x-python",
   "name": "python",
   "nbconvert_exporter": "python",
   "pygments_lexer": "ipython3",
   "version": "3.10.12"
  },
  "widgets": {
   "application/vnd.jupyter.widget-state+json": {
    "575f2ec2a7054d4e8cf803b0a7db4e14": {
     "model_module": "@jupyter-widgets/controls",
     "model_name": "HBoxModel",
     "model_module_version": "1.5.0",
     "state": {
      "_dom_classes": [],
      "_model_module": "@jupyter-widgets/controls",
      "_model_module_version": "1.5.0",
      "_model_name": "HBoxModel",
      "_view_count": null,
      "_view_module": "@jupyter-widgets/controls",
      "_view_module_version": "1.5.0",
      "_view_name": "HBoxView",
      "box_style": "",
      "children": [
       "IPY_MODEL_93d12794e3cd443cb837024232d9a751",
       "IPY_MODEL_014a75d4f0c7420ba2af9aa04fb56b20",
       "IPY_MODEL_bf3bcfc1fae143148a513be2bec412a2"
      ],
      "layout": "IPY_MODEL_6849b8a95645457b983a5a03ff0b3d2b"
     }
    },
    "93d12794e3cd443cb837024232d9a751": {
     "model_module": "@jupyter-widgets/controls",
     "model_name": "HTMLModel",
     "model_module_version": "1.5.0",
     "state": {
      "_dom_classes": [],
      "_model_module": "@jupyter-widgets/controls",
      "_model_module_version": "1.5.0",
      "_model_name": "HTMLModel",
      "_view_count": null,
      "_view_module": "@jupyter-widgets/controls",
      "_view_module_version": "1.5.0",
      "_view_name": "HTMLView",
      "description": "",
      "description_tooltip": null,
      "layout": "IPY_MODEL_31ce17746df84e84893b396d6d500b43",
      "placeholder": "​",
      "style": "IPY_MODEL_c866b04cd19b489981cc2d6a93f712ba",
      "value": "Loading checkpoint shards: 100%"
     }
    },
    "014a75d4f0c7420ba2af9aa04fb56b20": {
     "model_module": "@jupyter-widgets/controls",
     "model_name": "FloatProgressModel",
     "model_module_version": "1.5.0",
     "state": {
      "_dom_classes": [],
      "_model_module": "@jupyter-widgets/controls",
      "_model_module_version": "1.5.0",
      "_model_name": "FloatProgressModel",
      "_view_count": null,
      "_view_module": "@jupyter-widgets/controls",
      "_view_module_version": "1.5.0",
      "_view_name": "ProgressView",
      "bar_style": "success",
      "description": "",
      "description_tooltip": null,
      "layout": "IPY_MODEL_fd243b59061547b1b7306ee281f3583b",
      "max": 2,
      "min": 0,
      "orientation": "horizontal",
      "style": "IPY_MODEL_856605e12c794c0789f0bc32ba1e6c8a",
      "value": 2
     }
    },
    "bf3bcfc1fae143148a513be2bec412a2": {
     "model_module": "@jupyter-widgets/controls",
     "model_name": "HTMLModel",
     "model_module_version": "1.5.0",
     "state": {
      "_dom_classes": [],
      "_model_module": "@jupyter-widgets/controls",
      "_model_module_version": "1.5.0",
      "_model_name": "HTMLModel",
      "_view_count": null,
      "_view_module": "@jupyter-widgets/controls",
      "_view_module_version": "1.5.0",
      "_view_name": "HTMLView",
      "description": "",
      "description_tooltip": null,
      "layout": "IPY_MODEL_de604fa04de24940a3f3fd6de3485b52",
      "placeholder": "​",
      "style": "IPY_MODEL_460915aa733e40c8bc22505b99dfc68f",
      "value": " 2/2 [00:34&lt;00:00, 14.57s/it]"
     }
    },
    "6849b8a95645457b983a5a03ff0b3d2b": {
     "model_module": "@jupyter-widgets/base",
     "model_name": "LayoutModel",
     "model_module_version": "1.2.0",
     "state": {
      "_model_module": "@jupyter-widgets/base",
      "_model_module_version": "1.2.0",
      "_model_name": "LayoutModel",
      "_view_count": null,
      "_view_module": "@jupyter-widgets/base",
      "_view_module_version": "1.2.0",
      "_view_name": "LayoutView",
      "align_content": null,
      "align_items": null,
      "align_self": null,
      "border": null,
      "bottom": null,
      "display": null,
      "flex": null,
      "flex_flow": null,
      "grid_area": null,
      "grid_auto_columns": null,
      "grid_auto_flow": null,
      "grid_auto_rows": null,
      "grid_column": null,
      "grid_gap": null,
      "grid_row": null,
      "grid_template_areas": null,
      "grid_template_columns": null,
      "grid_template_rows": null,
      "height": null,
      "justify_content": null,
      "justify_items": null,
      "left": null,
      "margin": null,
      "max_height": null,
      "max_width": null,
      "min_height": null,
      "min_width": null,
      "object_fit": null,
      "object_position": null,
      "order": null,
      "overflow": null,
      "overflow_x": null,
      "overflow_y": null,
      "padding": null,
      "right": null,
      "top": null,
      "visibility": null,
      "width": null
     }
    },
    "31ce17746df84e84893b396d6d500b43": {
     "model_module": "@jupyter-widgets/base",
     "model_name": "LayoutModel",
     "model_module_version": "1.2.0",
     "state": {
      "_model_module": "@jupyter-widgets/base",
      "_model_module_version": "1.2.0",
      "_model_name": "LayoutModel",
      "_view_count": null,
      "_view_module": "@jupyter-widgets/base",
      "_view_module_version": "1.2.0",
      "_view_name": "LayoutView",
      "align_content": null,
      "align_items": null,
      "align_self": null,
      "border": null,
      "bottom": null,
      "display": null,
      "flex": null,
      "flex_flow": null,
      "grid_area": null,
      "grid_auto_columns": null,
      "grid_auto_flow": null,
      "grid_auto_rows": null,
      "grid_column": null,
      "grid_gap": null,
      "grid_row": null,
      "grid_template_areas": null,
      "grid_template_columns": null,
      "grid_template_rows": null,
      "height": null,
      "justify_content": null,
      "justify_items": null,
      "left": null,
      "margin": null,
      "max_height": null,
      "max_width": null,
      "min_height": null,
      "min_width": null,
      "object_fit": null,
      "object_position": null,
      "order": null,
      "overflow": null,
      "overflow_x": null,
      "overflow_y": null,
      "padding": null,
      "right": null,
      "top": null,
      "visibility": null,
      "width": null
     }
    },
    "c866b04cd19b489981cc2d6a93f712ba": {
     "model_module": "@jupyter-widgets/controls",
     "model_name": "DescriptionStyleModel",
     "model_module_version": "1.5.0",
     "state": {
      "_model_module": "@jupyter-widgets/controls",
      "_model_module_version": "1.5.0",
      "_model_name": "DescriptionStyleModel",
      "_view_count": null,
      "_view_module": "@jupyter-widgets/base",
      "_view_module_version": "1.2.0",
      "_view_name": "StyleView",
      "description_width": ""
     }
    },
    "fd243b59061547b1b7306ee281f3583b": {
     "model_module": "@jupyter-widgets/base",
     "model_name": "LayoutModel",
     "model_module_version": "1.2.0",
     "state": {
      "_model_module": "@jupyter-widgets/base",
      "_model_module_version": "1.2.0",
      "_model_name": "LayoutModel",
      "_view_count": null,
      "_view_module": "@jupyter-widgets/base",
      "_view_module_version": "1.2.0",
      "_view_name": "LayoutView",
      "align_content": null,
      "align_items": null,
      "align_self": null,
      "border": null,
      "bottom": null,
      "display": null,
      "flex": null,
      "flex_flow": null,
      "grid_area": null,
      "grid_auto_columns": null,
      "grid_auto_flow": null,
      "grid_auto_rows": null,
      "grid_column": null,
      "grid_gap": null,
      "grid_row": null,
      "grid_template_areas": null,
      "grid_template_columns": null,
      "grid_template_rows": null,
      "height": null,
      "justify_content": null,
      "justify_items": null,
      "left": null,
      "margin": null,
      "max_height": null,
      "max_width": null,
      "min_height": null,
      "min_width": null,
      "object_fit": null,
      "object_position": null,
      "order": null,
      "overflow": null,
      "overflow_x": null,
      "overflow_y": null,
      "padding": null,
      "right": null,
      "top": null,
      "visibility": null,
      "width": null
     }
    },
    "856605e12c794c0789f0bc32ba1e6c8a": {
     "model_module": "@jupyter-widgets/controls",
     "model_name": "ProgressStyleModel",
     "model_module_version": "1.5.0",
     "state": {
      "_model_module": "@jupyter-widgets/controls",
      "_model_module_version": "1.5.0",
      "_model_name": "ProgressStyleModel",
      "_view_count": null,
      "_view_module": "@jupyter-widgets/base",
      "_view_module_version": "1.2.0",
      "_view_name": "StyleView",
      "bar_color": null,
      "description_width": ""
     }
    },
    "de604fa04de24940a3f3fd6de3485b52": {
     "model_module": "@jupyter-widgets/base",
     "model_name": "LayoutModel",
     "model_module_version": "1.2.0",
     "state": {
      "_model_module": "@jupyter-widgets/base",
      "_model_module_version": "1.2.0",
      "_model_name": "LayoutModel",
      "_view_count": null,
      "_view_module": "@jupyter-widgets/base",
      "_view_module_version": "1.2.0",
      "_view_name": "LayoutView",
      "align_content": null,
      "align_items": null,
      "align_self": null,
      "border": null,
      "bottom": null,
      "display": null,
      "flex": null,
      "flex_flow": null,
      "grid_area": null,
      "grid_auto_columns": null,
      "grid_auto_flow": null,
      "grid_auto_rows": null,
      "grid_column": null,
      "grid_gap": null,
      "grid_row": null,
      "grid_template_areas": null,
      "grid_template_columns": null,
      "grid_template_rows": null,
      "height": null,
      "justify_content": null,
      "justify_items": null,
      "left": null,
      "margin": null,
      "max_height": null,
      "max_width": null,
      "min_height": null,
      "min_width": null,
      "object_fit": null,
      "object_position": null,
      "order": null,
      "overflow": null,
      "overflow_x": null,
      "overflow_y": null,
      "padding": null,
      "right": null,
      "top": null,
      "visibility": null,
      "width": null
     }
    },
    "460915aa733e40c8bc22505b99dfc68f": {
     "model_module": "@jupyter-widgets/controls",
     "model_name": "DescriptionStyleModel",
     "model_module_version": "1.5.0",
     "state": {
      "_model_module": "@jupyter-widgets/controls",
      "_model_module_version": "1.5.0",
      "_model_name": "DescriptionStyleModel",
      "_view_count": null,
      "_view_module": "@jupyter-widgets/base",
      "_view_module_version": "1.2.0",
      "_view_name": "StyleView",
      "description_width": ""
     }
    },
    "f527f0648ef0476fb0483d47d143e129": {
     "model_module": "@jupyter-widgets/controls",
     "model_name": "HBoxModel",
     "model_module_version": "1.5.0",
     "state": {
      "_dom_classes": [],
      "_model_module": "@jupyter-widgets/controls",
      "_model_module_version": "1.5.0",
      "_model_name": "HBoxModel",
      "_view_count": null,
      "_view_module": "@jupyter-widgets/controls",
      "_view_module_version": "1.5.0",
      "_view_name": "HBoxView",
      "box_style": "",
      "children": [
       "IPY_MODEL_8eaef3186851403e86a47068624d4e6e",
       "IPY_MODEL_d8a9049a875142d4a53e2a6b6b43f553",
       "IPY_MODEL_786e809944f54c7ab84e76acd8abab47"
      ],
      "layout": "IPY_MODEL_ddaa36a812bc4d85a55a5068821d42e4"
     }
    },
    "8eaef3186851403e86a47068624d4e6e": {
     "model_module": "@jupyter-widgets/controls",
     "model_name": "HTMLModel",
     "model_module_version": "1.5.0",
     "state": {
      "_dom_classes": [],
      "_model_module": "@jupyter-widgets/controls",
      "_model_module_version": "1.5.0",
      "_model_name": "HTMLModel",
      "_view_count": null,
      "_view_module": "@jupyter-widgets/controls",
      "_view_module_version": "1.5.0",
      "_view_name": "HTMLView",
      "description": "",
      "description_tooltip": null,
      "layout": "IPY_MODEL_c97f7aa7122244ccaf74f6ed84a261e0",
      "placeholder": "​",
      "style": "IPY_MODEL_3f45e3d67e18416aa02c26866ed523e4",
      "value": "config.json: 100%"
     }
    },
    "d8a9049a875142d4a53e2a6b6b43f553": {
     "model_module": "@jupyter-widgets/controls",
     "model_name": "FloatProgressModel",
     "model_module_version": "1.5.0",
     "state": {
      "_dom_classes": [],
      "_model_module": "@jupyter-widgets/controls",
      "_model_module_version": "1.5.0",
      "_model_name": "FloatProgressModel",
      "_view_count": null,
      "_view_module": "@jupyter-widgets/controls",
      "_view_module_version": "1.5.0",
      "_view_name": "ProgressView",
      "bar_style": "success",
      "description": "",
      "description_tooltip": null,
      "layout": "IPY_MODEL_a3d0adaa8c144424941b3a0bd89fa02e",
      "max": 794,
      "min": 0,
      "orientation": "horizontal",
      "style": "IPY_MODEL_509ae96c6a6041ccb56b06d57f7ed223",
      "value": 794
     }
    },
    "786e809944f54c7ab84e76acd8abab47": {
     "model_module": "@jupyter-widgets/controls",
     "model_name": "HTMLModel",
     "model_module_version": "1.5.0",
     "state": {
      "_dom_classes": [],
      "_model_module": "@jupyter-widgets/controls",
      "_model_module_version": "1.5.0",
      "_model_name": "HTMLModel",
      "_view_count": null,
      "_view_module": "@jupyter-widgets/controls",
      "_view_module_version": "1.5.0",
      "_view_name": "HTMLView",
      "description": "",
      "description_tooltip": null,
      "layout": "IPY_MODEL_2edd4fe965da491882656effd404e28a",
      "placeholder": "​",
      "style": "IPY_MODEL_b335dd14f42a447283079210952abc6b",
      "value": " 794/794 [00:00&lt;00:00, 64.0kB/s]"
     }
    },
    "ddaa36a812bc4d85a55a5068821d42e4": {
     "model_module": "@jupyter-widgets/base",
     "model_name": "LayoutModel",
     "model_module_version": "1.2.0",
     "state": {
      "_model_module": "@jupyter-widgets/base",
      "_model_module_version": "1.2.0",
      "_model_name": "LayoutModel",
      "_view_count": null,
      "_view_module": "@jupyter-widgets/base",
      "_view_module_version": "1.2.0",
      "_view_name": "LayoutView",
      "align_content": null,
      "align_items": null,
      "align_self": null,
      "border": null,
      "bottom": null,
      "display": null,
      "flex": null,
      "flex_flow": null,
      "grid_area": null,
      "grid_auto_columns": null,
      "grid_auto_flow": null,
      "grid_auto_rows": null,
      "grid_column": null,
      "grid_gap": null,
      "grid_row": null,
      "grid_template_areas": null,
      "grid_template_columns": null,
      "grid_template_rows": null,
      "height": null,
      "justify_content": null,
      "justify_items": null,
      "left": null,
      "margin": null,
      "max_height": null,
      "max_width": null,
      "min_height": null,
      "min_width": null,
      "object_fit": null,
      "object_position": null,
      "order": null,
      "overflow": null,
      "overflow_x": null,
      "overflow_y": null,
      "padding": null,
      "right": null,
      "top": null,
      "visibility": null,
      "width": null
     }
    },
    "c97f7aa7122244ccaf74f6ed84a261e0": {
     "model_module": "@jupyter-widgets/base",
     "model_name": "LayoutModel",
     "model_module_version": "1.2.0",
     "state": {
      "_model_module": "@jupyter-widgets/base",
      "_model_module_version": "1.2.0",
      "_model_name": "LayoutModel",
      "_view_count": null,
      "_view_module": "@jupyter-widgets/base",
      "_view_module_version": "1.2.0",
      "_view_name": "LayoutView",
      "align_content": null,
      "align_items": null,
      "align_self": null,
      "border": null,
      "bottom": null,
      "display": null,
      "flex": null,
      "flex_flow": null,
      "grid_area": null,
      "grid_auto_columns": null,
      "grid_auto_flow": null,
      "grid_auto_rows": null,
      "grid_column": null,
      "grid_gap": null,
      "grid_row": null,
      "grid_template_areas": null,
      "grid_template_columns": null,
      "grid_template_rows": null,
      "height": null,
      "justify_content": null,
      "justify_items": null,
      "left": null,
      "margin": null,
      "max_height": null,
      "max_width": null,
      "min_height": null,
      "min_width": null,
      "object_fit": null,
      "object_position": null,
      "order": null,
      "overflow": null,
      "overflow_x": null,
      "overflow_y": null,
      "padding": null,
      "right": null,
      "top": null,
      "visibility": null,
      "width": null
     }
    },
    "3f45e3d67e18416aa02c26866ed523e4": {
     "model_module": "@jupyter-widgets/controls",
     "model_name": "DescriptionStyleModel",
     "model_module_version": "1.5.0",
     "state": {
      "_model_module": "@jupyter-widgets/controls",
      "_model_module_version": "1.5.0",
      "_model_name": "DescriptionStyleModel",
      "_view_count": null,
      "_view_module": "@jupyter-widgets/base",
      "_view_module_version": "1.2.0",
      "_view_name": "StyleView",
      "description_width": ""
     }
    },
    "a3d0adaa8c144424941b3a0bd89fa02e": {
     "model_module": "@jupyter-widgets/base",
     "model_name": "LayoutModel",
     "model_module_version": "1.2.0",
     "state": {
      "_model_module": "@jupyter-widgets/base",
      "_model_module_version": "1.2.0",
      "_model_name": "LayoutModel",
      "_view_count": null,
      "_view_module": "@jupyter-widgets/base",
      "_view_module_version": "1.2.0",
      "_view_name": "LayoutView",
      "align_content": null,
      "align_items": null,
      "align_self": null,
      "border": null,
      "bottom": null,
      "display": null,
      "flex": null,
      "flex_flow": null,
      "grid_area": null,
      "grid_auto_columns": null,
      "grid_auto_flow": null,
      "grid_auto_rows": null,
      "grid_column": null,
      "grid_gap": null,
      "grid_row": null,
      "grid_template_areas": null,
      "grid_template_columns": null,
      "grid_template_rows": null,
      "height": null,
      "justify_content": null,
      "justify_items": null,
      "left": null,
      "margin": null,
      "max_height": null,
      "max_width": null,
      "min_height": null,
      "min_width": null,
      "object_fit": null,
      "object_position": null,
      "order": null,
      "overflow": null,
      "overflow_x": null,
      "overflow_y": null,
      "padding": null,
      "right": null,
      "top": null,
      "visibility": null,
      "width": null
     }
    },
    "509ae96c6a6041ccb56b06d57f7ed223": {
     "model_module": "@jupyter-widgets/controls",
     "model_name": "ProgressStyleModel",
     "model_module_version": "1.5.0",
     "state": {
      "_model_module": "@jupyter-widgets/controls",
      "_model_module_version": "1.5.0",
      "_model_name": "ProgressStyleModel",
      "_view_count": null,
      "_view_module": "@jupyter-widgets/base",
      "_view_module_version": "1.2.0",
      "_view_name": "StyleView",
      "bar_color": null,
      "description_width": ""
     }
    },
    "2edd4fe965da491882656effd404e28a": {
     "model_module": "@jupyter-widgets/base",
     "model_name": "LayoutModel",
     "model_module_version": "1.2.0",
     "state": {
      "_model_module": "@jupyter-widgets/base",
      "_model_module_version": "1.2.0",
      "_model_name": "LayoutModel",
      "_view_count": null,
      "_view_module": "@jupyter-widgets/base",
      "_view_module_version": "1.2.0",
      "_view_name": "LayoutView",
      "align_content": null,
      "align_items": null,
      "align_self": null,
      "border": null,
      "bottom": null,
      "display": null,
      "flex": null,
      "flex_flow": null,
      "grid_area": null,
      "grid_auto_columns": null,
      "grid_auto_flow": null,
      "grid_auto_rows": null,
      "grid_column": null,
      "grid_gap": null,
      "grid_row": null,
      "grid_template_areas": null,
      "grid_template_columns": null,
      "grid_template_rows": null,
      "height": null,
      "justify_content": null,
      "justify_items": null,
      "left": null,
      "margin": null,
      "max_height": null,
      "max_width": null,
      "min_height": null,
      "min_width": null,
      "object_fit": null,
      "object_position": null,
      "order": null,
      "overflow": null,
      "overflow_x": null,
      "overflow_y": null,
      "padding": null,
      "right": null,
      "top": null,
      "visibility": null,
      "width": null
     }
    },
    "b335dd14f42a447283079210952abc6b": {
     "model_module": "@jupyter-widgets/controls",
     "model_name": "DescriptionStyleModel",
     "model_module_version": "1.5.0",
     "state": {
      "_model_module": "@jupyter-widgets/controls",
      "_model_module_version": "1.5.0",
      "_model_name": "DescriptionStyleModel",
      "_view_count": null,
      "_view_module": "@jupyter-widgets/base",
      "_view_module_version": "1.2.0",
      "_view_name": "StyleView",
      "description_width": ""
     }
    },
    "28b0fa53b9c84e13a891c3cfd7654fc2": {
     "model_module": "@jupyter-widgets/controls",
     "model_name": "HBoxModel",
     "model_module_version": "1.5.0",
     "state": {
      "_dom_classes": [],
      "_model_module": "@jupyter-widgets/controls",
      "_model_module_version": "1.5.0",
      "_model_name": "HBoxModel",
      "_view_count": null,
      "_view_module": "@jupyter-widgets/controls",
      "_view_module_version": "1.5.0",
      "_view_name": "HBoxView",
      "box_style": "",
      "children": [
       "IPY_MODEL_bc9619b24b6b4843a45b7653f5419f59",
       "IPY_MODEL_1847b5865e2549ec855f4192400edf08",
       "IPY_MODEL_6ff0a2b4987e472083a1ecbe2ceacb8d"
      ],
      "layout": "IPY_MODEL_10e5a9fb077a4c42bf9de00ea9ed72c4"
     }
    },
    "bc9619b24b6b4843a45b7653f5419f59": {
     "model_module": "@jupyter-widgets/controls",
     "model_name": "HTMLModel",
     "model_module_version": "1.5.0",
     "state": {
      "_dom_classes": [],
      "_model_module": "@jupyter-widgets/controls",
      "_model_module_version": "1.5.0",
      "_model_name": "HTMLModel",
      "_view_count": null,
      "_view_module": "@jupyter-widgets/controls",
      "_view_module_version": "1.5.0",
      "_view_name": "HTMLView",
      "description": "",
      "description_tooltip": null,
      "layout": "IPY_MODEL_bc2dd8c0352b4e25bd1fcb934f597380",
      "placeholder": "​",
      "style": "IPY_MODEL_35b33e3ca09443a0a26b116e1d2ab81b",
      "value": "model.safetensors: 100%"
     }
    },
    "1847b5865e2549ec855f4192400edf08": {
     "model_module": "@jupyter-widgets/controls",
     "model_name": "FloatProgressModel",
     "model_module_version": "1.5.0",
     "state": {
      "_dom_classes": [],
      "_model_module": "@jupyter-widgets/controls",
      "_model_module_version": "1.5.0",
      "_model_name": "FloatProgressModel",
      "_view_count": null,
      "_view_module": "@jupyter-widgets/controls",
      "_view_module_version": "1.5.0",
      "_view_name": "ProgressView",
      "bar_style": "success",
      "description": "",
      "description_tooltip": null,
      "layout": "IPY_MODEL_9f22a60ad71047938495cbfa9d8774b5",
      "max": 90870598,
      "min": 0,
      "orientation": "horizontal",
      "style": "IPY_MODEL_16d4ca8d2bae4d4ca74d698da0c060da",
      "value": 90870598
     }
    },
    "6ff0a2b4987e472083a1ecbe2ceacb8d": {
     "model_module": "@jupyter-widgets/controls",
     "model_name": "HTMLModel",
     "model_module_version": "1.5.0",
     "state": {
      "_dom_classes": [],
      "_model_module": "@jupyter-widgets/controls",
      "_model_module_version": "1.5.0",
      "_model_name": "HTMLModel",
      "_view_count": null,
      "_view_module": "@jupyter-widgets/controls",
      "_view_module_version": "1.5.0",
      "_view_name": "HTMLView",
      "description": "",
      "description_tooltip": null,
      "layout": "IPY_MODEL_46ca0f1d360142a9a1fa9d5b723911e8",
      "placeholder": "​",
      "style": "IPY_MODEL_634b8e6fae2b4a80b1bbb035fff74e8e",
      "value": " 90.9M/90.9M [00:01&lt;00:00, 70.1MB/s]"
     }
    },
    "10e5a9fb077a4c42bf9de00ea9ed72c4": {
     "model_module": "@jupyter-widgets/base",
     "model_name": "LayoutModel",
     "model_module_version": "1.2.0",
     "state": {
      "_model_module": "@jupyter-widgets/base",
      "_model_module_version": "1.2.0",
      "_model_name": "LayoutModel",
      "_view_count": null,
      "_view_module": "@jupyter-widgets/base",
      "_view_module_version": "1.2.0",
      "_view_name": "LayoutView",
      "align_content": null,
      "align_items": null,
      "align_self": null,
      "border": null,
      "bottom": null,
      "display": null,
      "flex": null,
      "flex_flow": null,
      "grid_area": null,
      "grid_auto_columns": null,
      "grid_auto_flow": null,
      "grid_auto_rows": null,
      "grid_column": null,
      "grid_gap": null,
      "grid_row": null,
      "grid_template_areas": null,
      "grid_template_columns": null,
      "grid_template_rows": null,
      "height": null,
      "justify_content": null,
      "justify_items": null,
      "left": null,
      "margin": null,
      "max_height": null,
      "max_width": null,
      "min_height": null,
      "min_width": null,
      "object_fit": null,
      "object_position": null,
      "order": null,
      "overflow": null,
      "overflow_x": null,
      "overflow_y": null,
      "padding": null,
      "right": null,
      "top": null,
      "visibility": null,
      "width": null
     }
    },
    "bc2dd8c0352b4e25bd1fcb934f597380": {
     "model_module": "@jupyter-widgets/base",
     "model_name": "LayoutModel",
     "model_module_version": "1.2.0",
     "state": {
      "_model_module": "@jupyter-widgets/base",
      "_model_module_version": "1.2.0",
      "_model_name": "LayoutModel",
      "_view_count": null,
      "_view_module": "@jupyter-widgets/base",
      "_view_module_version": "1.2.0",
      "_view_name": "LayoutView",
      "align_content": null,
      "align_items": null,
      "align_self": null,
      "border": null,
      "bottom": null,
      "display": null,
      "flex": null,
      "flex_flow": null,
      "grid_area": null,
      "grid_auto_columns": null,
      "grid_auto_flow": null,
      "grid_auto_rows": null,
      "grid_column": null,
      "grid_gap": null,
      "grid_row": null,
      "grid_template_areas": null,
      "grid_template_columns": null,
      "grid_template_rows": null,
      "height": null,
      "justify_content": null,
      "justify_items": null,
      "left": null,
      "margin": null,
      "max_height": null,
      "max_width": null,
      "min_height": null,
      "min_width": null,
      "object_fit": null,
      "object_position": null,
      "order": null,
      "overflow": null,
      "overflow_x": null,
      "overflow_y": null,
      "padding": null,
      "right": null,
      "top": null,
      "visibility": null,
      "width": null
     }
    },
    "35b33e3ca09443a0a26b116e1d2ab81b": {
     "model_module": "@jupyter-widgets/controls",
     "model_name": "DescriptionStyleModel",
     "model_module_version": "1.5.0",
     "state": {
      "_model_module": "@jupyter-widgets/controls",
      "_model_module_version": "1.5.0",
      "_model_name": "DescriptionStyleModel",
      "_view_count": null,
      "_view_module": "@jupyter-widgets/base",
      "_view_module_version": "1.2.0",
      "_view_name": "StyleView",
      "description_width": ""
     }
    },
    "9f22a60ad71047938495cbfa9d8774b5": {
     "model_module": "@jupyter-widgets/base",
     "model_name": "LayoutModel",
     "model_module_version": "1.2.0",
     "state": {
      "_model_module": "@jupyter-widgets/base",
      "_model_module_version": "1.2.0",
      "_model_name": "LayoutModel",
      "_view_count": null,
      "_view_module": "@jupyter-widgets/base",
      "_view_module_version": "1.2.0",
      "_view_name": "LayoutView",
      "align_content": null,
      "align_items": null,
      "align_self": null,
      "border": null,
      "bottom": null,
      "display": null,
      "flex": null,
      "flex_flow": null,
      "grid_area": null,
      "grid_auto_columns": null,
      "grid_auto_flow": null,
      "grid_auto_rows": null,
      "grid_column": null,
      "grid_gap": null,
      "grid_row": null,
      "grid_template_areas": null,
      "grid_template_columns": null,
      "grid_template_rows": null,
      "height": null,
      "justify_content": null,
      "justify_items": null,
      "left": null,
      "margin": null,
      "max_height": null,
      "max_width": null,
      "min_height": null,
      "min_width": null,
      "object_fit": null,
      "object_position": null,
      "order": null,
      "overflow": null,
      "overflow_x": null,
      "overflow_y": null,
      "padding": null,
      "right": null,
      "top": null,
      "visibility": null,
      "width": null
     }
    },
    "16d4ca8d2bae4d4ca74d698da0c060da": {
     "model_module": "@jupyter-widgets/controls",
     "model_name": "ProgressStyleModel",
     "model_module_version": "1.5.0",
     "state": {
      "_model_module": "@jupyter-widgets/controls",
      "_model_module_version": "1.5.0",
      "_model_name": "ProgressStyleModel",
      "_view_count": null,
      "_view_module": "@jupyter-widgets/base",
      "_view_module_version": "1.2.0",
      "_view_name": "StyleView",
      "bar_color": null,
      "description_width": ""
     }
    },
    "46ca0f1d360142a9a1fa9d5b723911e8": {
     "model_module": "@jupyter-widgets/base",
     "model_name": "LayoutModel",
     "model_module_version": "1.2.0",
     "state": {
      "_model_module": "@jupyter-widgets/base",
      "_model_module_version": "1.2.0",
      "_model_name": "LayoutModel",
      "_view_count": null,
      "_view_module": "@jupyter-widgets/base",
      "_view_module_version": "1.2.0",
      "_view_name": "LayoutView",
      "align_content": null,
      "align_items": null,
      "align_self": null,
      "border": null,
      "bottom": null,
      "display": null,
      "flex": null,
      "flex_flow": null,
      "grid_area": null,
      "grid_auto_columns": null,
      "grid_auto_flow": null,
      "grid_auto_rows": null,
      "grid_column": null,
      "grid_gap": null,
      "grid_row": null,
      "grid_template_areas": null,
      "grid_template_columns": null,
      "grid_template_rows": null,
      "height": null,
      "justify_content": null,
      "justify_items": null,
      "left": null,
      "margin": null,
      "max_height": null,
      "max_width": null,
      "min_height": null,
      "min_width": null,
      "object_fit": null,
      "object_position": null,
      "order": null,
      "overflow": null,
      "overflow_x": null,
      "overflow_y": null,
      "padding": null,
      "right": null,
      "top": null,
      "visibility": null,
      "width": null
     }
    },
    "634b8e6fae2b4a80b1bbb035fff74e8e": {
     "model_module": "@jupyter-widgets/controls",
     "model_name": "DescriptionStyleModel",
     "model_module_version": "1.5.0",
     "state": {
      "_model_module": "@jupyter-widgets/controls",
      "_model_module_version": "1.5.0",
      "_model_name": "DescriptionStyleModel",
      "_view_count": null,
      "_view_module": "@jupyter-widgets/base",
      "_view_module_version": "1.2.0",
      "_view_name": "StyleView",
      "description_width": ""
     }
    },
    "84ef110effb74f858ba3bfb952cf2959": {
     "model_module": "@jupyter-widgets/controls",
     "model_name": "HBoxModel",
     "model_module_version": "1.5.0",
     "state": {
      "_dom_classes": [],
      "_model_module": "@jupyter-widgets/controls",
      "_model_module_version": "1.5.0",
      "_model_name": "HBoxModel",
      "_view_count": null,
      "_view_module": "@jupyter-widgets/controls",
      "_view_module_version": "1.5.0",
      "_view_name": "HBoxView",
      "box_style": "",
      "children": [
       "IPY_MODEL_a82003d73e084252a40d440caedbae11",
       "IPY_MODEL_6fe38793e7cb4886aa3cc34964612533",
       "IPY_MODEL_6eb8a58059eb44a9808d30aa2509a170"
      ],
      "layout": "IPY_MODEL_dba72f7b75454ebe95c1e2a0fe4fde39"
     }
    },
    "a82003d73e084252a40d440caedbae11": {
     "model_module": "@jupyter-widgets/controls",
     "model_name": "HTMLModel",
     "model_module_version": "1.5.0",
     "state": {
      "_dom_classes": [],
      "_model_module": "@jupyter-widgets/controls",
      "_model_module_version": "1.5.0",
      "_model_name": "HTMLModel",
      "_view_count": null,
      "_view_module": "@jupyter-widgets/controls",
      "_view_module_version": "1.5.0",
      "_view_name": "HTMLView",
      "description": "",
      "description_tooltip": null,
      "layout": "IPY_MODEL_ed4c9fdfbf03404089914998b4a28f8e",
      "placeholder": "​",
      "style": "IPY_MODEL_df699a6fec3b4686be605ad144f8c9b7",
      "value": "tokenizer_config.json: 100%"
     }
    },
    "6fe38793e7cb4886aa3cc34964612533": {
     "model_module": "@jupyter-widgets/controls",
     "model_name": "FloatProgressModel",
     "model_module_version": "1.5.0",
     "state": {
      "_dom_classes": [],
      "_model_module": "@jupyter-widgets/controls",
      "_model_module_version": "1.5.0",
      "_model_name": "FloatProgressModel",
      "_view_count": null,
      "_view_module": "@jupyter-widgets/controls",
      "_view_module_version": "1.5.0",
      "_view_name": "ProgressView",
      "bar_style": "success",
      "description": "",
      "description_tooltip": null,
      "layout": "IPY_MODEL_6d5cb5f6b33e448c92300915e852e4fb",
      "max": 316,
      "min": 0,
      "orientation": "horizontal",
      "style": "IPY_MODEL_13d0cf7b95ba4f02b501d9e8ee79bbcd",
      "value": 316
     }
    },
    "6eb8a58059eb44a9808d30aa2509a170": {
     "model_module": "@jupyter-widgets/controls",
     "model_name": "HTMLModel",
     "model_module_version": "1.5.0",
     "state": {
      "_dom_classes": [],
      "_model_module": "@jupyter-widgets/controls",
      "_model_module_version": "1.5.0",
      "_model_name": "HTMLModel",
      "_view_count": null,
      "_view_module": "@jupyter-widgets/controls",
      "_view_module_version": "1.5.0",
      "_view_name": "HTMLView",
      "description": "",
      "description_tooltip": null,
      "layout": "IPY_MODEL_b3017acd8da54f6db029328bd13507bc",
      "placeholder": "​",
      "style": "IPY_MODEL_cbccf205aa334497aaca684cf5ab5cfc",
      "value": " 316/316 [00:00&lt;00:00, 29.0kB/s]"
     }
    },
    "dba72f7b75454ebe95c1e2a0fe4fde39": {
     "model_module": "@jupyter-widgets/base",
     "model_name": "LayoutModel",
     "model_module_version": "1.2.0",
     "state": {
      "_model_module": "@jupyter-widgets/base",
      "_model_module_version": "1.2.0",
      "_model_name": "LayoutModel",
      "_view_count": null,
      "_view_module": "@jupyter-widgets/base",
      "_view_module_version": "1.2.0",
      "_view_name": "LayoutView",
      "align_content": null,
      "align_items": null,
      "align_self": null,
      "border": null,
      "bottom": null,
      "display": null,
      "flex": null,
      "flex_flow": null,
      "grid_area": null,
      "grid_auto_columns": null,
      "grid_auto_flow": null,
      "grid_auto_rows": null,
      "grid_column": null,
      "grid_gap": null,
      "grid_row": null,
      "grid_template_areas": null,
      "grid_template_columns": null,
      "grid_template_rows": null,
      "height": null,
      "justify_content": null,
      "justify_items": null,
      "left": null,
      "margin": null,
      "max_height": null,
      "max_width": null,
      "min_height": null,
      "min_width": null,
      "object_fit": null,
      "object_position": null,
      "order": null,
      "overflow": null,
      "overflow_x": null,
      "overflow_y": null,
      "padding": null,
      "right": null,
      "top": null,
      "visibility": null,
      "width": null
     }
    },
    "ed4c9fdfbf03404089914998b4a28f8e": {
     "model_module": "@jupyter-widgets/base",
     "model_name": "LayoutModel",
     "model_module_version": "1.2.0",
     "state": {
      "_model_module": "@jupyter-widgets/base",
      "_model_module_version": "1.2.0",
      "_model_name": "LayoutModel",
      "_view_count": null,
      "_view_module": "@jupyter-widgets/base",
      "_view_module_version": "1.2.0",
      "_view_name": "LayoutView",
      "align_content": null,
      "align_items": null,
      "align_self": null,
      "border": null,
      "bottom": null,
      "display": null,
      "flex": null,
      "flex_flow": null,
      "grid_area": null,
      "grid_auto_columns": null,
      "grid_auto_flow": null,
      "grid_auto_rows": null,
      "grid_column": null,
      "grid_gap": null,
      "grid_row": null,
      "grid_template_areas": null,
      "grid_template_columns": null,
      "grid_template_rows": null,
      "height": null,
      "justify_content": null,
      "justify_items": null,
      "left": null,
      "margin": null,
      "max_height": null,
      "max_width": null,
      "min_height": null,
      "min_width": null,
      "object_fit": null,
      "object_position": null,
      "order": null,
      "overflow": null,
      "overflow_x": null,
      "overflow_y": null,
      "padding": null,
      "right": null,
      "top": null,
      "visibility": null,
      "width": null
     }
    },
    "df699a6fec3b4686be605ad144f8c9b7": {
     "model_module": "@jupyter-widgets/controls",
     "model_name": "DescriptionStyleModel",
     "model_module_version": "1.5.0",
     "state": {
      "_model_module": "@jupyter-widgets/controls",
      "_model_module_version": "1.5.0",
      "_model_name": "DescriptionStyleModel",
      "_view_count": null,
      "_view_module": "@jupyter-widgets/base",
      "_view_module_version": "1.2.0",
      "_view_name": "StyleView",
      "description_width": ""
     }
    },
    "6d5cb5f6b33e448c92300915e852e4fb": {
     "model_module": "@jupyter-widgets/base",
     "model_name": "LayoutModel",
     "model_module_version": "1.2.0",
     "state": {
      "_model_module": "@jupyter-widgets/base",
      "_model_module_version": "1.2.0",
      "_model_name": "LayoutModel",
      "_view_count": null,
      "_view_module": "@jupyter-widgets/base",
      "_view_module_version": "1.2.0",
      "_view_name": "LayoutView",
      "align_content": null,
      "align_items": null,
      "align_self": null,
      "border": null,
      "bottom": null,
      "display": null,
      "flex": null,
      "flex_flow": null,
      "grid_area": null,
      "grid_auto_columns": null,
      "grid_auto_flow": null,
      "grid_auto_rows": null,
      "grid_column": null,
      "grid_gap": null,
      "grid_row": null,
      "grid_template_areas": null,
      "grid_template_columns": null,
      "grid_template_rows": null,
      "height": null,
      "justify_content": null,
      "justify_items": null,
      "left": null,
      "margin": null,
      "max_height": null,
      "max_width": null,
      "min_height": null,
      "min_width": null,
      "object_fit": null,
      "object_position": null,
      "order": null,
      "overflow": null,
      "overflow_x": null,
      "overflow_y": null,
      "padding": null,
      "right": null,
      "top": null,
      "visibility": null,
      "width": null
     }
    },
    "13d0cf7b95ba4f02b501d9e8ee79bbcd": {
     "model_module": "@jupyter-widgets/controls",
     "model_name": "ProgressStyleModel",
     "model_module_version": "1.5.0",
     "state": {
      "_model_module": "@jupyter-widgets/controls",
      "_model_module_version": "1.5.0",
      "_model_name": "ProgressStyleModel",
      "_view_count": null,
      "_view_module": "@jupyter-widgets/base",
      "_view_module_version": "1.2.0",
      "_view_name": "StyleView",
      "bar_color": null,
      "description_width": ""
     }
    },
    "b3017acd8da54f6db029328bd13507bc": {
     "model_module": "@jupyter-widgets/base",
     "model_name": "LayoutModel",
     "model_module_version": "1.2.0",
     "state": {
      "_model_module": "@jupyter-widgets/base",
      "_model_module_version": "1.2.0",
      "_model_name": "LayoutModel",
      "_view_count": null,
      "_view_module": "@jupyter-widgets/base",
      "_view_module_version": "1.2.0",
      "_view_name": "LayoutView",
      "align_content": null,
      "align_items": null,
      "align_self": null,
      "border": null,
      "bottom": null,
      "display": null,
      "flex": null,
      "flex_flow": null,
      "grid_area": null,
      "grid_auto_columns": null,
      "grid_auto_flow": null,
      "grid_auto_rows": null,
      "grid_column": null,
      "grid_gap": null,
      "grid_row": null,
      "grid_template_areas": null,
      "grid_template_columns": null,
      "grid_template_rows": null,
      "height": null,
      "justify_content": null,
      "justify_items": null,
      "left": null,
      "margin": null,
      "max_height": null,
      "max_width": null,
      "min_height": null,
      "min_width": null,
      "object_fit": null,
      "object_position": null,
      "order": null,
      "overflow": null,
      "overflow_x": null,
      "overflow_y": null,
      "padding": null,
      "right": null,
      "top": null,
      "visibility": null,
      "width": null
     }
    },
    "cbccf205aa334497aaca684cf5ab5cfc": {
     "model_module": "@jupyter-widgets/controls",
     "model_name": "DescriptionStyleModel",
     "model_module_version": "1.5.0",
     "state": {
      "_model_module": "@jupyter-widgets/controls",
      "_model_module_version": "1.5.0",
      "_model_name": "DescriptionStyleModel",
      "_view_count": null,
      "_view_module": "@jupyter-widgets/base",
      "_view_module_version": "1.2.0",
      "_view_name": "StyleView",
      "description_width": ""
     }
    },
    "cd62d298cffe47d4901d6bd0e214c9db": {
     "model_module": "@jupyter-widgets/controls",
     "model_name": "HBoxModel",
     "model_module_version": "1.5.0",
     "state": {
      "_dom_classes": [],
      "_model_module": "@jupyter-widgets/controls",
      "_model_module_version": "1.5.0",
      "_model_name": "HBoxModel",
      "_view_count": null,
      "_view_module": "@jupyter-widgets/controls",
      "_view_module_version": "1.5.0",
      "_view_name": "HBoxView",
      "box_style": "",
      "children": [
       "IPY_MODEL_8c8dfb6dc9594ad58b0b4d235266ce88",
       "IPY_MODEL_e8acc4e908754cd5be877101f175a5a3",
       "IPY_MODEL_9581e17b2e644b269037f0233cf9bf66"
      ],
      "layout": "IPY_MODEL_ffecf6c85a894c63898a998f3b62bb56"
     }
    },
    "8c8dfb6dc9594ad58b0b4d235266ce88": {
     "model_module": "@jupyter-widgets/controls",
     "model_name": "HTMLModel",
     "model_module_version": "1.5.0",
     "state": {
      "_dom_classes": [],
      "_model_module": "@jupyter-widgets/controls",
      "_model_module_version": "1.5.0",
      "_model_name": "HTMLModel",
      "_view_count": null,
      "_view_module": "@jupyter-widgets/controls",
      "_view_module_version": "1.5.0",
      "_view_name": "HTMLView",
      "description": "",
      "description_tooltip": null,
      "layout": "IPY_MODEL_e7386ee24577421d9a69128f703e580e",
      "placeholder": "​",
      "style": "IPY_MODEL_0aeb3bff4b9342b5bb4e7b35f5e7c0a8",
      "value": "vocab.txt: 100%"
     }
    },
    "e8acc4e908754cd5be877101f175a5a3": {
     "model_module": "@jupyter-widgets/controls",
     "model_name": "FloatProgressModel",
     "model_module_version": "1.5.0",
     "state": {
      "_dom_classes": [],
      "_model_module": "@jupyter-widgets/controls",
      "_model_module_version": "1.5.0",
      "_model_name": "FloatProgressModel",
      "_view_count": null,
      "_view_module": "@jupyter-widgets/controls",
      "_view_module_version": "1.5.0",
      "_view_name": "ProgressView",
      "bar_style": "success",
      "description": "",
      "description_tooltip": null,
      "layout": "IPY_MODEL_07de9725c26f410fa07cc40b8375ea66",
      "max": 231508,
      "min": 0,
      "orientation": "horizontal",
      "style": "IPY_MODEL_1c2092d6e24a49909a3b4a2a22c45b61",
      "value": 231508
     }
    },
    "9581e17b2e644b269037f0233cf9bf66": {
     "model_module": "@jupyter-widgets/controls",
     "model_name": "HTMLModel",
     "model_module_version": "1.5.0",
     "state": {
      "_dom_classes": [],
      "_model_module": "@jupyter-widgets/controls",
      "_model_module_version": "1.5.0",
      "_model_name": "HTMLModel",
      "_view_count": null,
      "_view_module": "@jupyter-widgets/controls",
      "_view_module_version": "1.5.0",
      "_view_name": "HTMLView",
      "description": "",
      "description_tooltip": null,
      "layout": "IPY_MODEL_7a0c4b694edb466aa2ee25915c32d175",
      "placeholder": "​",
      "style": "IPY_MODEL_3b1a41f20bb046c1b3724a173e1e0dbe",
      "value": " 232k/232k [00:00&lt;00:00, 18.0MB/s]"
     }
    },
    "ffecf6c85a894c63898a998f3b62bb56": {
     "model_module": "@jupyter-widgets/base",
     "model_name": "LayoutModel",
     "model_module_version": "1.2.0",
     "state": {
      "_model_module": "@jupyter-widgets/base",
      "_model_module_version": "1.2.0",
      "_model_name": "LayoutModel",
      "_view_count": null,
      "_view_module": "@jupyter-widgets/base",
      "_view_module_version": "1.2.0",
      "_view_name": "LayoutView",
      "align_content": null,
      "align_items": null,
      "align_self": null,
      "border": null,
      "bottom": null,
      "display": null,
      "flex": null,
      "flex_flow": null,
      "grid_area": null,
      "grid_auto_columns": null,
      "grid_auto_flow": null,
      "grid_auto_rows": null,
      "grid_column": null,
      "grid_gap": null,
      "grid_row": null,
      "grid_template_areas": null,
      "grid_template_columns": null,
      "grid_template_rows": null,
      "height": null,
      "justify_content": null,
      "justify_items": null,
      "left": null,
      "margin": null,
      "max_height": null,
      "max_width": null,
      "min_height": null,
      "min_width": null,
      "object_fit": null,
      "object_position": null,
      "order": null,
      "overflow": null,
      "overflow_x": null,
      "overflow_y": null,
      "padding": null,
      "right": null,
      "top": null,
      "visibility": null,
      "width": null
     }
    },
    "e7386ee24577421d9a69128f703e580e": {
     "model_module": "@jupyter-widgets/base",
     "model_name": "LayoutModel",
     "model_module_version": "1.2.0",
     "state": {
      "_model_module": "@jupyter-widgets/base",
      "_model_module_version": "1.2.0",
      "_model_name": "LayoutModel",
      "_view_count": null,
      "_view_module": "@jupyter-widgets/base",
      "_view_module_version": "1.2.0",
      "_view_name": "LayoutView",
      "align_content": null,
      "align_items": null,
      "align_self": null,
      "border": null,
      "bottom": null,
      "display": null,
      "flex": null,
      "flex_flow": null,
      "grid_area": null,
      "grid_auto_columns": null,
      "grid_auto_flow": null,
      "grid_auto_rows": null,
      "grid_column": null,
      "grid_gap": null,
      "grid_row": null,
      "grid_template_areas": null,
      "grid_template_columns": null,
      "grid_template_rows": null,
      "height": null,
      "justify_content": null,
      "justify_items": null,
      "left": null,
      "margin": null,
      "max_height": null,
      "max_width": null,
      "min_height": null,
      "min_width": null,
      "object_fit": null,
      "object_position": null,
      "order": null,
      "overflow": null,
      "overflow_x": null,
      "overflow_y": null,
      "padding": null,
      "right": null,
      "top": null,
      "visibility": null,
      "width": null
     }
    },
    "0aeb3bff4b9342b5bb4e7b35f5e7c0a8": {
     "model_module": "@jupyter-widgets/controls",
     "model_name": "DescriptionStyleModel",
     "model_module_version": "1.5.0",
     "state": {
      "_model_module": "@jupyter-widgets/controls",
      "_model_module_version": "1.5.0",
      "_model_name": "DescriptionStyleModel",
      "_view_count": null,
      "_view_module": "@jupyter-widgets/base",
      "_view_module_version": "1.2.0",
      "_view_name": "StyleView",
      "description_width": ""
     }
    },
    "07de9725c26f410fa07cc40b8375ea66": {
     "model_module": "@jupyter-widgets/base",
     "model_name": "LayoutModel",
     "model_module_version": "1.2.0",
     "state": {
      "_model_module": "@jupyter-widgets/base",
      "_model_module_version": "1.2.0",
      "_model_name": "LayoutModel",
      "_view_count": null,
      "_view_module": "@jupyter-widgets/base",
      "_view_module_version": "1.2.0",
      "_view_name": "LayoutView",
      "align_content": null,
      "align_items": null,
      "align_self": null,
      "border": null,
      "bottom": null,
      "display": null,
      "flex": null,
      "flex_flow": null,
      "grid_area": null,
      "grid_auto_columns": null,
      "grid_auto_flow": null,
      "grid_auto_rows": null,
      "grid_column": null,
      "grid_gap": null,
      "grid_row": null,
      "grid_template_areas": null,
      "grid_template_columns": null,
      "grid_template_rows": null,
      "height": null,
      "justify_content": null,
      "justify_items": null,
      "left": null,
      "margin": null,
      "max_height": null,
      "max_width": null,
      "min_height": null,
      "min_width": null,
      "object_fit": null,
      "object_position": null,
      "order": null,
      "overflow": null,
      "overflow_x": null,
      "overflow_y": null,
      "padding": null,
      "right": null,
      "top": null,
      "visibility": null,
      "width": null
     }
    },
    "1c2092d6e24a49909a3b4a2a22c45b61": {
     "model_module": "@jupyter-widgets/controls",
     "model_name": "ProgressStyleModel",
     "model_module_version": "1.5.0",
     "state": {
      "_model_module": "@jupyter-widgets/controls",
      "_model_module_version": "1.5.0",
      "_model_name": "ProgressStyleModel",
      "_view_count": null,
      "_view_module": "@jupyter-widgets/base",
      "_view_module_version": "1.2.0",
      "_view_name": "StyleView",
      "bar_color": null,
      "description_width": ""
     }
    },
    "7a0c4b694edb466aa2ee25915c32d175": {
     "model_module": "@jupyter-widgets/base",
     "model_name": "LayoutModel",
     "model_module_version": "1.2.0",
     "state": {
      "_model_module": "@jupyter-widgets/base",
      "_model_module_version": "1.2.0",
      "_model_name": "LayoutModel",
      "_view_count": null,
      "_view_module": "@jupyter-widgets/base",
      "_view_module_version": "1.2.0",
      "_view_name": "LayoutView",
      "align_content": null,
      "align_items": null,
      "align_self": null,
      "border": null,
      "bottom": null,
      "display": null,
      "flex": null,
      "flex_flow": null,
      "grid_area": null,
      "grid_auto_columns": null,
      "grid_auto_flow": null,
      "grid_auto_rows": null,
      "grid_column": null,
      "grid_gap": null,
      "grid_row": null,
      "grid_template_areas": null,
      "grid_template_columns": null,
      "grid_template_rows": null,
      "height": null,
      "justify_content": null,
      "justify_items": null,
      "left": null,
      "margin": null,
      "max_height": null,
      "max_width": null,
      "min_height": null,
      "min_width": null,
      "object_fit": null,
      "object_position": null,
      "order": null,
      "overflow": null,
      "overflow_x": null,
      "overflow_y": null,
      "padding": null,
      "right": null,
      "top": null,
      "visibility": null,
      "width": null
     }
    },
    "3b1a41f20bb046c1b3724a173e1e0dbe": {
     "model_module": "@jupyter-widgets/controls",
     "model_name": "DescriptionStyleModel",
     "model_module_version": "1.5.0",
     "state": {
      "_model_module": "@jupyter-widgets/controls",
      "_model_module_version": "1.5.0",
      "_model_name": "DescriptionStyleModel",
      "_view_count": null,
      "_view_module": "@jupyter-widgets/base",
      "_view_module_version": "1.2.0",
      "_view_name": "StyleView",
      "description_width": ""
     }
    },
    "387a49609e60436e95e8adb98615f928": {
     "model_module": "@jupyter-widgets/controls",
     "model_name": "HBoxModel",
     "model_module_version": "1.5.0",
     "state": {
      "_dom_classes": [],
      "_model_module": "@jupyter-widgets/controls",
      "_model_module_version": "1.5.0",
      "_model_name": "HBoxModel",
      "_view_count": null,
      "_view_module": "@jupyter-widgets/controls",
      "_view_module_version": "1.5.0",
      "_view_name": "HBoxView",
      "box_style": "",
      "children": [
       "IPY_MODEL_35c5ae9c238c437d904cefe90aeb5a7f",
       "IPY_MODEL_24744a4a6d1646f39fc78a5e9485d18d",
       "IPY_MODEL_4e03b69593714557b543287c915b0e74"
      ],
      "layout": "IPY_MODEL_5dd7793718bf40728d00b641e17b6a91"
     }
    },
    "35c5ae9c238c437d904cefe90aeb5a7f": {
     "model_module": "@jupyter-widgets/controls",
     "model_name": "HTMLModel",
     "model_module_version": "1.5.0",
     "state": {
      "_dom_classes": [],
      "_model_module": "@jupyter-widgets/controls",
      "_model_module_version": "1.5.0",
      "_model_name": "HTMLModel",
      "_view_count": null,
      "_view_module": "@jupyter-widgets/controls",
      "_view_module_version": "1.5.0",
      "_view_name": "HTMLView",
      "description": "",
      "description_tooltip": null,
      "layout": "IPY_MODEL_c0d7f6f928d44cbc9a253f690280372c",
      "placeholder": "​",
      "style": "IPY_MODEL_ba06d65c62b0436c9ea6bc8cf0af0d4e",
      "value": "special_tokens_map.json: 100%"
     }
    },
    "24744a4a6d1646f39fc78a5e9485d18d": {
     "model_module": "@jupyter-widgets/controls",
     "model_name": "FloatProgressModel",
     "model_module_version": "1.5.0",
     "state": {
      "_dom_classes": [],
      "_model_module": "@jupyter-widgets/controls",
      "_model_module_version": "1.5.0",
      "_model_name": "FloatProgressModel",
      "_view_count": null,
      "_view_module": "@jupyter-widgets/controls",
      "_view_module_version": "1.5.0",
      "_view_name": "ProgressView",
      "bar_style": "success",
      "description": "",
      "description_tooltip": null,
      "layout": "IPY_MODEL_fdc1117051644740a9c1cf20a72cc10e",
      "max": 112,
      "min": 0,
      "orientation": "horizontal",
      "style": "IPY_MODEL_cae9bad14ecb4d50aa2c72fb802f9c11",
      "value": 112
     }
    },
    "4e03b69593714557b543287c915b0e74": {
     "model_module": "@jupyter-widgets/controls",
     "model_name": "HTMLModel",
     "model_module_version": "1.5.0",
     "state": {
      "_dom_classes": [],
      "_model_module": "@jupyter-widgets/controls",
      "_model_module_version": "1.5.0",
      "_model_name": "HTMLModel",
      "_view_count": null,
      "_view_module": "@jupyter-widgets/controls",
      "_view_module_version": "1.5.0",
      "_view_name": "HTMLView",
      "description": "",
      "description_tooltip": null,
      "layout": "IPY_MODEL_5487265a3b914c6dac16096959c4dd11",
      "placeholder": "​",
      "style": "IPY_MODEL_41f8566c468e4c64ae269821eaaf7a41",
      "value": " 112/112 [00:00&lt;00:00, 10.2kB/s]"
     }
    },
    "5dd7793718bf40728d00b641e17b6a91": {
     "model_module": "@jupyter-widgets/base",
     "model_name": "LayoutModel",
     "model_module_version": "1.2.0",
     "state": {
      "_model_module": "@jupyter-widgets/base",
      "_model_module_version": "1.2.0",
      "_model_name": "LayoutModel",
      "_view_count": null,
      "_view_module": "@jupyter-widgets/base",
      "_view_module_version": "1.2.0",
      "_view_name": "LayoutView",
      "align_content": null,
      "align_items": null,
      "align_self": null,
      "border": null,
      "bottom": null,
      "display": null,
      "flex": null,
      "flex_flow": null,
      "grid_area": null,
      "grid_auto_columns": null,
      "grid_auto_flow": null,
      "grid_auto_rows": null,
      "grid_column": null,
      "grid_gap": null,
      "grid_row": null,
      "grid_template_areas": null,
      "grid_template_columns": null,
      "grid_template_rows": null,
      "height": null,
      "justify_content": null,
      "justify_items": null,
      "left": null,
      "margin": null,
      "max_height": null,
      "max_width": null,
      "min_height": null,
      "min_width": null,
      "object_fit": null,
      "object_position": null,
      "order": null,
      "overflow": null,
      "overflow_x": null,
      "overflow_y": null,
      "padding": null,
      "right": null,
      "top": null,
      "visibility": null,
      "width": null
     }
    },
    "c0d7f6f928d44cbc9a253f690280372c": {
     "model_module": "@jupyter-widgets/base",
     "model_name": "LayoutModel",
     "model_module_version": "1.2.0",
     "state": {
      "_model_module": "@jupyter-widgets/base",
      "_model_module_version": "1.2.0",
      "_model_name": "LayoutModel",
      "_view_count": null,
      "_view_module": "@jupyter-widgets/base",
      "_view_module_version": "1.2.0",
      "_view_name": "LayoutView",
      "align_content": null,
      "align_items": null,
      "align_self": null,
      "border": null,
      "bottom": null,
      "display": null,
      "flex": null,
      "flex_flow": null,
      "grid_area": null,
      "grid_auto_columns": null,
      "grid_auto_flow": null,
      "grid_auto_rows": null,
      "grid_column": null,
      "grid_gap": null,
      "grid_row": null,
      "grid_template_areas": null,
      "grid_template_columns": null,
      "grid_template_rows": null,
      "height": null,
      "justify_content": null,
      "justify_items": null,
      "left": null,
      "margin": null,
      "max_height": null,
      "max_width": null,
      "min_height": null,
      "min_width": null,
      "object_fit": null,
      "object_position": null,
      "order": null,
      "overflow": null,
      "overflow_x": null,
      "overflow_y": null,
      "padding": null,
      "right": null,
      "top": null,
      "visibility": null,
      "width": null
     }
    },
    "ba06d65c62b0436c9ea6bc8cf0af0d4e": {
     "model_module": "@jupyter-widgets/controls",
     "model_name": "DescriptionStyleModel",
     "model_module_version": "1.5.0",
     "state": {
      "_model_module": "@jupyter-widgets/controls",
      "_model_module_version": "1.5.0",
      "_model_name": "DescriptionStyleModel",
      "_view_count": null,
      "_view_module": "@jupyter-widgets/base",
      "_view_module_version": "1.2.0",
      "_view_name": "StyleView",
      "description_width": ""
     }
    },
    "fdc1117051644740a9c1cf20a72cc10e": {
     "model_module": "@jupyter-widgets/base",
     "model_name": "LayoutModel",
     "model_module_version": "1.2.0",
     "state": {
      "_model_module": "@jupyter-widgets/base",
      "_model_module_version": "1.2.0",
      "_model_name": "LayoutModel",
      "_view_count": null,
      "_view_module": "@jupyter-widgets/base",
      "_view_module_version": "1.2.0",
      "_view_name": "LayoutView",
      "align_content": null,
      "align_items": null,
      "align_self": null,
      "border": null,
      "bottom": null,
      "display": null,
      "flex": null,
      "flex_flow": null,
      "grid_area": null,
      "grid_auto_columns": null,
      "grid_auto_flow": null,
      "grid_auto_rows": null,
      "grid_column": null,
      "grid_gap": null,
      "grid_row": null,
      "grid_template_areas": null,
      "grid_template_columns": null,
      "grid_template_rows": null,
      "height": null,
      "justify_content": null,
      "justify_items": null,
      "left": null,
      "margin": null,
      "max_height": null,
      "max_width": null,
      "min_height": null,
      "min_width": null,
      "object_fit": null,
      "object_position": null,
      "order": null,
      "overflow": null,
      "overflow_x": null,
      "overflow_y": null,
      "padding": null,
      "right": null,
      "top": null,
      "visibility": null,
      "width": null
     }
    },
    "cae9bad14ecb4d50aa2c72fb802f9c11": {
     "model_module": "@jupyter-widgets/controls",
     "model_name": "ProgressStyleModel",
     "model_module_version": "1.5.0",
     "state": {
      "_model_module": "@jupyter-widgets/controls",
      "_model_module_version": "1.5.0",
      "_model_name": "ProgressStyleModel",
      "_view_count": null,
      "_view_module": "@jupyter-widgets/base",
      "_view_module_version": "1.2.0",
      "_view_name": "StyleView",
      "bar_color": null,
      "description_width": ""
     }
    },
    "5487265a3b914c6dac16096959c4dd11": {
     "model_module": "@jupyter-widgets/base",
     "model_name": "LayoutModel",
     "model_module_version": "1.2.0",
     "state": {
      "_model_module": "@jupyter-widgets/base",
      "_model_module_version": "1.2.0",
      "_model_name": "LayoutModel",
      "_view_count": null,
      "_view_module": "@jupyter-widgets/base",
      "_view_module_version": "1.2.0",
      "_view_name": "LayoutView",
      "align_content": null,
      "align_items": null,
      "align_self": null,
      "border": null,
      "bottom": null,
      "display": null,
      "flex": null,
      "flex_flow": null,
      "grid_area": null,
      "grid_auto_columns": null,
      "grid_auto_flow": null,
      "grid_auto_rows": null,
      "grid_column": null,
      "grid_gap": null,
      "grid_row": null,
      "grid_template_areas": null,
      "grid_template_columns": null,
      "grid_template_rows": null,
      "height": null,
      "justify_content": null,
      "justify_items": null,
      "left": null,
      "margin": null,
      "max_height": null,
      "max_width": null,
      "min_height": null,
      "min_width": null,
      "object_fit": null,
      "object_position": null,
      "order": null,
      "overflow": null,
      "overflow_x": null,
      "overflow_y": null,
      "padding": null,
      "right": null,
      "top": null,
      "visibility": null,
      "width": null
     }
    },
    "41f8566c468e4c64ae269821eaaf7a41": {
     "model_module": "@jupyter-widgets/controls",
     "model_name": "DescriptionStyleModel",
     "model_module_version": "1.5.0",
     "state": {
      "_model_module": "@jupyter-widgets/controls",
      "_model_module_version": "1.5.0",
      "_model_name": "DescriptionStyleModel",
      "_view_count": null,
      "_view_module": "@jupyter-widgets/base",
      "_view_module_version": "1.2.0",
      "_view_name": "StyleView",
      "description_width": ""
     }
    }
   }
  }
 },
 "nbformat": 4,
 "nbformat_minor": 0
}
