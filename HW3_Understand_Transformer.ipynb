{
 "cells": [
  {
   "cell_type": "markdown",
   "metadata": {
    "id": "QkELbiG6ogiG"
   },
   "source": [
    "# Understanding LLM / Transformers (You cannot run the code without saving a copy)"
   ]
  },
  {
   "cell_type": "markdown",
   "metadata": {
    "id": "EvlATdaN45U8"
   },
   "source": [
    "## Check the status of your GPU"
   ]
  },
  {
   "cell_type": "code",
   "execution_count": 1,
   "metadata": {
    "colab": {
     "base_uri": "https://localhost:8080/"
    },
    "id": "Wu01corp_E0h",
    "outputId": "a1d6aa23-0ce6-4aa1-f665-c83416b23c32"
   },
   "outputs": [
    {
     "output_type": "stream",
     "name": "stdout",
     "text": [
      "Sun Apr  6 16:44:08 2025       \n",
      "+-----------------------------------------------------------------------------------------+\n",
      "| NVIDIA-SMI 550.54.15              Driver Version: 550.54.15      CUDA Version: 12.4     |\n",
      "|-----------------------------------------+------------------------+----------------------+\n",
      "| GPU  Name                 Persistence-M | Bus-Id          Disp.A | Volatile Uncorr. ECC |\n",
      "| Fan  Temp   Perf          Pwr:Usage/Cap |           Memory-Usage | GPU-Util  Compute M. |\n",
      "|                                         |                        |               MIG M. |\n",
      "|=========================================+========================+======================|\n",
      "|   0  Tesla T4                       Off |   00000000:00:04.0 Off |                    0 |\n",
      "| N/A   45C    P8              9W /   70W |       0MiB /  15360MiB |      0%      Default |\n",
      "|                                         |                        |                  N/A |\n",
      "+-----------------------------------------+------------------------+----------------------+\n",
      "                                                                                         \n",
      "+-----------------------------------------------------------------------------------------+\n",
      "| Processes:                                                                              |\n",
      "|  GPU   GI   CI        PID   Type   Process name                              GPU Memory |\n",
      "|        ID   ID                                                               Usage      |\n",
      "|=========================================================================================|\n",
      "|  No running processes found                                                             |\n",
      "+-----------------------------------------------------------------------------------------+\n"
     ]
    }
   ],
   "source": [
    "!nvidia-smi"
   ]
  },
  {
   "cell_type": "markdown",
   "metadata": {
    "id": "FISzjhfg4vo6"
   },
   "source": [
    "## Installing **transformers** for further usage (please do not alter the version for stable usage of model)"
   ]
  },
  {
   "cell_type": "code",
   "execution_count": 2,
   "metadata": {
    "colab": {
     "base_uri": "https://localhost:8080/"
    },
    "id": "N95opJpM_E0k",
    "outputId": "0ae39e03-c2fc-453b-9197-4418fbaebc66"
   },
   "outputs": [
    {
     "output_type": "stream",
     "name": "stdout",
     "text": [
      "Collecting transformers==4.47.0\n",
      "  Downloading transformers-4.47.0-py3-none-any.whl.metadata (43 kB)\n",
      "\u001B[2K     \u001B[90m━━━━━━━━━━━━━━━━━━━━━━━━━━━━━━━━━━━━━━━━\u001B[0m \u001B[32m43.5/43.5 kB\u001B[0m \u001B[31m1.8 MB/s\u001B[0m eta \u001B[36m0:00:00\u001B[0m\n",
      "\u001B[?25hRequirement already satisfied: filelock in /usr/local/lib/python3.11/dist-packages (from transformers==4.47.0) (3.18.0)\n",
      "Requirement already satisfied: huggingface-hub<1.0,>=0.24.0 in /usr/local/lib/python3.11/dist-packages (from transformers==4.47.0) (0.30.1)\n",
      "Requirement already satisfied: numpy>=1.17 in /usr/local/lib/python3.11/dist-packages (from transformers==4.47.0) (2.0.2)\n",
      "Requirement already satisfied: packaging>=20.0 in /usr/local/lib/python3.11/dist-packages (from transformers==4.47.0) (24.2)\n",
      "Requirement already satisfied: pyyaml>=5.1 in /usr/local/lib/python3.11/dist-packages (from transformers==4.47.0) (6.0.2)\n",
      "Requirement already satisfied: regex!=2019.12.17 in /usr/local/lib/python3.11/dist-packages (from transformers==4.47.0) (2024.11.6)\n",
      "Requirement already satisfied: requests in /usr/local/lib/python3.11/dist-packages (from transformers==4.47.0) (2.32.3)\n",
      "Requirement already satisfied: tokenizers<0.22,>=0.21 in /usr/local/lib/python3.11/dist-packages (from transformers==4.47.0) (0.21.1)\n",
      "Requirement already satisfied: safetensors>=0.4.1 in /usr/local/lib/python3.11/dist-packages (from transformers==4.47.0) (0.5.3)\n",
      "Requirement already satisfied: tqdm>=4.27 in /usr/local/lib/python3.11/dist-packages (from transformers==4.47.0) (4.67.1)\n",
      "Requirement already satisfied: fsspec>=2023.5.0 in /usr/local/lib/python3.11/dist-packages (from huggingface-hub<1.0,>=0.24.0->transformers==4.47.0) (2025.3.2)\n",
      "Requirement already satisfied: typing-extensions>=3.7.4.3 in /usr/local/lib/python3.11/dist-packages (from huggingface-hub<1.0,>=0.24.0->transformers==4.47.0) (4.13.0)\n",
      "Requirement already satisfied: charset-normalizer<4,>=2 in /usr/local/lib/python3.11/dist-packages (from requests->transformers==4.47.0) (3.4.1)\n",
      "Requirement already satisfied: idna<4,>=2.5 in /usr/local/lib/python3.11/dist-packages (from requests->transformers==4.47.0) (3.10)\n",
      "Requirement already satisfied: urllib3<3,>=1.21.1 in /usr/local/lib/python3.11/dist-packages (from requests->transformers==4.47.0) (2.3.0)\n",
      "Requirement already satisfied: certifi>=2017.4.17 in /usr/local/lib/python3.11/dist-packages (from requests->transformers==4.47.0) (2025.1.31)\n",
      "Downloading transformers-4.47.0-py3-none-any.whl (10.1 MB)\n",
      "\u001B[2K   \u001B[90m━━━━━━━━━━━━━━━━━━━━━━━━━━━━━━━━━━━━━━━━\u001B[0m \u001B[32m10.1/10.1 MB\u001B[0m \u001B[31m72.7 MB/s\u001B[0m eta \u001B[36m0:00:00\u001B[0m\n",
      "\u001B[?25hInstalling collected packages: transformers\n",
      "  Attempting uninstall: transformers\n",
      "    Found existing installation: transformers 4.50.3\n",
      "    Uninstalling transformers-4.50.3:\n",
      "      Successfully uninstalled transformers-4.50.3\n",
      "Successfully installed transformers-4.47.0\n"
     ]
    }
   ],
   "source": [
    "!pip install transformers==4.47.0"
   ]
  },
  {
   "cell_type": "markdown",
   "metadata": {
    "id": "DLvm_l4g4O9U"
   },
   "source": [
    "## Huggingface login\n",
    "\n",
    "### You need the huggingface token (hf_token) to login to huggingface and install the gemma model. Therefore make sure you create your huggingface token. (Described in the Google slides)"
   ]
  },
  {
   "cell_type": "code",
   "execution_count": 3,
   "metadata": {
    "id": "sGNxSV2r_E0l"
   },
   "outputs": [],
   "source": [
    "######################## TODO (Pre-requisites) ########################\n",
    "# replace `your_hf_token` with your huggingface token\n",
    "\n",
    "from huggingface_hub import login\n",
    "login(\"token\")\n",
    "#######################################################################"
   ]
  },
  {
   "cell_type": "markdown",
   "metadata": {
    "id": "HY1e8Urn-qy8"
   },
   "source": [
    "## Download the model"
   ]
  },
  {
   "cell_type": "markdown",
   "metadata": {
    "id": "VefzNrAk_E0m"
   },
   "source": [
    "### Gemma Model: https://huggingface.co/google/gemma-2-2b-it\n",
    "### Please accept the lincense to download the gemma model (As described on Google Slides)\n"
   ]
  },
  {
   "cell_type": "code",
   "execution_count": 2,
   "metadata": {
    "colab": {
     "base_uri": "https://localhost:8080/",
     "height": 139,
     "referenced_widgets": [
      "68bce918585e40e39b1d63f85eb04392"
     ]
    },
    "id": "rd__h5Gr_E0q",
    "outputId": "9413a1fb-9b4d-457d-ddb6-0138c59397d3"
   },
   "outputs": [
    {
     "metadata": {
      "tags": null
     },
     "name": "stderr",
     "output_type": "stream",
     "text": [
      "/usr/local/lib/python3.11/dist-packages/huggingface_hub/utils/_auth.py:104: UserWarning: \n",
      "Error while fetching `HF_TOKEN` secret value from your vault: 'Requesting secret HF_TOKEN timed out. Secrets can only be fetched when running from the Colab UI.'.\n",
      "You are not authenticated with the Hugging Face Hub in this notebook.\n",
      "If the error persists, please let us know by opening an issue on GitHub (https://github.com/huggingface/huggingface_hub/issues/new).\n",
      "  warnings.warn(\n"
     ]
    },
    {
     "data": {
      "application/vnd.jupyter.widget-view+json": {
       "model_id": "68bce918585e40e39b1d63f85eb04392",
       "version_major": 2,
       "version_minor": 0
      },
      "text/plain": [
       "Loading checkpoint shards:   0%|          | 0/2 [00:00<?, ?it/s]"
      ]
     },
     "metadata": {},
     "output_type": "display_data"
    }
   ],
   "source": [
    "import torch\n",
    "from transformers import AutoTokenizer, AutoModelForCausalLM\n",
    "\n",
    "model_id = \"google/gemma-2-2b-it\"\n",
    "dtype = torch.float16\n",
    "\n",
    "# Load tokenizer and model\n",
    "tokenizer = AutoTokenizer.from_pretrained(model_id)\n",
    "model = AutoModelForCausalLM.from_pretrained(\n",
    "    model_id,\n",
    "    device_map=\"cuda\",\n",
    "    torch_dtype=dtype,\n",
    ")"
   ]
  },
  {
   "cell_type": "markdown",
   "metadata": {
    "id": "P4cI-w4lEqvz"
   },
   "source": [
    "## Q1: Chat template Comparison"
   ]
  },
  {
   "cell_type": "markdown",
   "metadata": {
    "id": "iBlbhVN4BHVG"
   },
   "source": [
    "### Evaluation Model: https://huggingface.co/cross-encoder/ms-marco-MiniLM-L-6-v2\n"
   ]
  },
  {
   "cell_type": "code",
   "execution_count": 5,
   "metadata": {
    "colab": {
     "base_uri": "https://localhost:8080/",
     "height": 177,
     "referenced_widgets": [
      "36aa56b141e3481aae05f28c23a8050a",
      "8fac2c9c4e2a472b8236031802f2218d",
      "3b47f86f28684f4d844f4c8f6a8c1840",
      "7e5c74952e6a43b4b46138b5b923d79b",
      "204c366993e447859498fd12be791b1c",
      "0c8417db65f64928b0eafb4a920b6854",
      "1b8782da686f4ba6a9ea114842ba710a",
      "522d94c2b0534e5685215a6dc1186aff",
      "1976456eb9b94d03a7409e17d16352d9",
      "f4160dedf0864f97a62b5fe34ed62bf6",
      "ea85968ac68d40fb81db272fdb09f82a",
      "fe4bcf78454644139bdd1859eecaad57",
      "d18c6ca62715442693ee0d8f48b2ef44",
      "5632a0bb5db0475d8002e0959c68dcff",
      "f78fcd610fe34b949aca60cfc5110232",
      "3856fa26828541158e5482715315d03c",
      "415c4b954ea44e5cb865f05fe77e9793",
      "a6e981399bb04e8787e1ac53a259f4b5",
      "1dc63ecea4c7432683f027217b52b015",
      "0c165d8f30f74eb6be0f55fa4fffa463",
      "3ed628a11cd14341b59cd2647cbb16cb",
      "29ced8883bed4a189a266adc148bd4ce",
      "a616789835ac492d9e972da0b08f9fc6",
      "779f551ac47e4263ba3e57f17c46af75",
      "aded73ddb72d421d8e41bd284d733b29",
      "f09cf03862a747d38b5aa28bd77c1b0f",
      "5f16d9f6c34441ce9f593084d5014d5b",
      "13ebda78f15b4f25b3661d45df94adec",
      "0372cb36f45844aba40cf938c0f251a6",
      "c095678135c14cf2925fff178c8d98c8",
      "6cc6d70f480440588cacfbb9dd768a8a",
      "2a5f45234ec24245adfb20a5d321b281",
      "c4d16ec15a2c4223b772d2c15002a5e3",
      "92b4fa6bd01b4f31a44c86ab3e7e8d32",
      "9362d0852e474d0098dfe1f32ee13913",
      "16e9e69712904094b8168d195568d5f2",
      "6f73fdf2c53744cc81a48aa6ca408aea",
      "b0816d66cc36453ab6aa66c096e9bdd2",
      "996d3d9b49dd4ce2942f6f22aab80b27",
      "afc92038254848c792034fa4f1dd9451",
      "1de79e83531342839f21917dd5b9962f",
      "0b48fe7964e7413bb1cde1fc73ad9075",
      "53ec13b8d5d844298a13916eeafacef7",
      "a1e38eb62c0c4c6caf0ae2f36b11c873",
      "7789745ee6534ce6a122fa0c1b50e058",
      "c89abe6242674d02bf6d1adb5d32b860",
      "cb0cad112e894d84977eb97d4efb3159",
      "d3b67308c975424d8178f15b5bf860af",
      "80e7cb526d804899ae0a0822303ae738",
      "6b44757be8404bf1b8b803dde508c941",
      "574c3c72506746f791c6044750d07c36",
      "5177709ab43d43aca033036ec62fa0b5",
      "0077d825ff3347ecb41fe06155beda00",
      "d5fd17a42b324ee89b37a3131cbdca0d",
      "91c2d87b17c048aa803945c27e85a83c"
     ]
    },
    "id": "YB-nrZ-k_E0r",
    "outputId": "6268a544-06be-4c57-eb6c-bda077ced5fa"
   },
   "outputs": [
    {
     "output_type": "display_data",
     "data": {
      "text/plain": [
       "config.json:   0%|          | 0.00/794 [00:00<?, ?B/s]"
      ],
      "application/vnd.jupyter.widget-view+json": {
       "version_major": 2,
       "version_minor": 0,
       "model_id": "36aa56b141e3481aae05f28c23a8050a"
      }
     },
     "metadata": {}
    },
    {
     "output_type": "display_data",
     "data": {
      "text/plain": [
       "model.safetensors:   0%|          | 0.00/90.9M [00:00<?, ?B/s]"
      ],
      "application/vnd.jupyter.widget-view+json": {
       "version_major": 2,
       "version_minor": 0,
       "model_id": "fe4bcf78454644139bdd1859eecaad57"
      }
     },
     "metadata": {}
    },
    {
     "output_type": "display_data",
     "data": {
      "text/plain": [
       "tokenizer_config.json:   0%|          | 0.00/316 [00:00<?, ?B/s]"
      ],
      "application/vnd.jupyter.widget-view+json": {
       "version_major": 2,
       "version_minor": 0,
       "model_id": "a616789835ac492d9e972da0b08f9fc6"
      }
     },
     "metadata": {}
    },
    {
     "output_type": "display_data",
     "data": {
      "text/plain": [
       "vocab.txt:   0%|          | 0.00/232k [00:00<?, ?B/s]"
      ],
      "application/vnd.jupyter.widget-view+json": {
       "version_major": 2,
       "version_minor": 0,
       "model_id": "92b4fa6bd01b4f31a44c86ab3e7e8d32"
      }
     },
     "metadata": {}
    },
    {
     "output_type": "display_data",
     "data": {
      "text/plain": [
       "special_tokens_map.json:   0%|          | 0.00/112 [00:00<?, ?B/s]"
      ],
      "application/vnd.jupyter.widget-view+json": {
       "version_major": 2,
       "version_minor": 0,
       "model_id": "7789745ee6534ce6a122fa0c1b50e058"
      }
     },
     "metadata": {}
    }
   ],
   "source": [
    "from transformers import AutoTokenizer, AutoModelForSequenceClassification\n",
    "import torch\n",
    "\n",
    "SCORING_MODEL = AutoModelForSequenceClassification.from_pretrained('cross-encoder/ms-marco-MiniLM-L-6-v2')\n",
    "SCORING_TOKENIZER = AutoTokenizer.from_pretrained('cross-encoder/ms-marco-MiniLM-L-6-v2')\n",
    "\n",
    "\n",
    "def calculate_coherence(question, answer, scoring_model=SCORING_MODEL, tokenizer=SCORING_TOKENIZER):\n",
    "  features = tokenizer([question], [answer], padding=True, truncation=True, return_tensors=\"pt\")\n",
    "  scoring_model.eval()\n",
    "  with torch.no_grad():\n",
    "      scores = scoring_model(**features).logits.squeeze().item()\n",
    "  return scores"
   ]
  },
  {
   "cell_type": "markdown",
   "metadata": {
    "id": "9JFRJMWdMrHU"
   },
   "source": [
    "### Observe whether the chat template affects the model's output results."
   ]
  },
  {
   "cell_type": "code",
   "execution_count": 6,
   "metadata": {
    "id": "o6uC-9nL_E0t"
   },
   "outputs": [],
   "source": [
    "def generate_text_from_prompt(prompt, tokenizer, model):\n",
    "  \"\"\"\n",
    "  generate the output from the prompt.\n",
    "  param:\n",
    "    prompt (str): the prompt inputted to the model\n",
    "    tokenizer   : the tokenizer that is used to encode / decode the input / output\n",
    "    model       : the model that is used to generate the output\n",
    "\n",
    "  return:\n",
    "    the response of the model\n",
    "  \"\"\"\n",
    "  print(\"========== Prompt inputted to the model ==========\\n\", prompt)\n",
    "\n",
    "  # Tokenize the prompt\n",
    "  input_ids = tokenizer(prompt, return_tensors=\"pt\").input_ids.to(\"cuda\")\n",
    "\n",
    "  ######################## TODO (Q1.1 ~ 1.4) ########################\n",
    "  ### You can refer to https://huggingface.co/google/gemma-2-2b-it for basic usage\n",
    "  ### Make sure to use 'do_sample=False' to get a deterministic response\n",
    "  ### Otherwise the coherence score may be different from the sample answer\n",
    "\n",
    "  # Generate response\n",
    "  output_ids =model.generate(input_ids = input_ids,do_sample=False,max_new_tokens=1000)\n",
    "  ###################################################################\n",
    "  if output_ids is not None and len(output_ids) > 0:\n",
    "    return tokenizer.decode(output_ids[0], skip_special_tokens=True)\n",
    "  else:\n",
    "    return \"Empty Response\""
   ]
  },
  {
   "cell_type": "code",
   "execution_count": 7,
   "metadata": {
    "colab": {
     "base_uri": "https://localhost:8080/"
    },
    "id": "eq-UV9qA_E0u",
    "outputId": "cf1cecf0-ab62-47f0-e13d-37b2eb36c611"
   },
   "outputs": [
    {
     "output_type": "stream",
     "name": "stdout",
     "text": [
      "========== Prompt inputted to the model ==========\n",
      " <bos><start_of_turn>user\n",
      "Please tell me about the key differences between supervised learning and unsupervised learning. Answer in 200 words.<end_of_turn>\n",
      "<start_of_turn>model\n",
      "\n"
     ]
    },
    {
     "output_type": "stream",
     "name": "stderr",
     "text": [
      "The 'batch_size' attribute of HybridCache is deprecated and will be removed in v4.49. Use the more precisely named 'self.max_batch_size' attribute instead.\n"
     ]
    },
    {
     "output_type": "stream",
     "name": "stdout",
     "text": [
      "========== Output ==========\n",
      " Supervised and unsupervised learning are two fundamental types of machine learning. \n",
      "\n",
      "**Supervised learning** involves training a model on labeled data, where each input has a corresponding output. The model learns to map inputs to outputs, making predictions on new, unseen data. Think of it like teaching a child with labeled examples: you show them pictures of cats and dogs, and they learn to distinguish between them. \n",
      "\n",
      "**Unsupervised learning**, on the other hand, uses unlabeled data. The model learns patterns and structures within the data without explicit guidance. It's like letting a child explore a room full of toys and discover patterns on their own. Examples include clustering similar items or finding hidden relationships in data.\n",
      "\n",
      "**Key differences:**\n",
      "\n",
      "* **Labeling:** Supervised uses labeled data, unsupervised doesn't.\n",
      "* **Goal:** Supervised aims to predict outputs, unsupervised aims to discover patterns.\n",
      "* **Applications:** Supervised: classification, regression, supervised tasks; Unsupervised: clustering, anomaly detection, dimensionality reduction. \n",
      "\n",
      "\n",
      "Both types are powerful tools with their own strengths and weaknesses, and the choice depends on the specific problem and available data.\n",
      "========== Coherence Score : 6.0734  ==========\n"
     ]
    }
   ],
   "source": [
    "# With chat template\n",
    "question = \"Please tell me about the key differences between supervised learning and unsupervised learning. Answer in 200 words.\"\n",
    "chat = [\n",
    "    {\"role\": \"user\", \"content\": question},\n",
    "]\n",
    "prompt_with_template = tokenizer.apply_chat_template(chat, tokenize=False, add_generation_prompt=True)\n",
    "response_with_template = generate_text_from_prompt(prompt_with_template, tokenizer, model)\n",
    "\n",
    "# extract the real output from the model\n",
    "response_with_template = response_with_template.split('model\\n')[-1].strip('\\n').strip()\n",
    "\n",
    "print(\"========== Output ==========\\n\", response_with_template)\n",
    "score = calculate_coherence(question, response_with_template)\n",
    "print(f\"========== Coherence Score : {score:.4f}  ==========\")"
   ]
  },
  {
   "cell_type": "code",
   "execution_count": 8,
   "metadata": {
    "colab": {
     "base_uri": "https://localhost:8080/"
    },
    "id": "RBIhYg1D_E0v",
    "outputId": "5f9c6c5d-eebd-4929-90ea-eb00ee98c46b"
   },
   "outputs": [
    {
     "output_type": "stream",
     "name": "stdout",
     "text": [
      "========== Prompt inputted to the model ==========\n",
      " Please tell me about the key differences between supervised learning and unsupervised learning. Answer in 200 words.\n",
      "========== Output ==========\n",
      " **Supervised Learning:**\n",
      "\n",
      "* **Labeled data:** Uses data with known outputs (labels) to train models.\n",
      "* **Goal:** Predict the output for new, unseen data.\n",
      "* **Examples:** Image classification, spam detection, predicting house prices.\n",
      "\n",
      "**Unsupervised Learning:**\n",
      "\n",
      "* **Unlabeled data:** Uses data without known outputs to discover patterns.\n",
      "* **Goal:** Explore data, identify clusters, or reduce dimensionality.\n",
      "* **Examples:** Customer segmentation, anomaly detection, dimensionality reduction.\n",
      "\n",
      "\n",
      "In essence, supervised learning learns from labeled examples to make predictions, while unsupervised learning explores unlabeled data to uncover hidden structures and relationships.\n",
      "========== Coherence Score : 4.2210  ==========\n"
     ]
    }
   ],
   "source": [
    "# Without chat template (directly using plain text)\n",
    "response_without_template = generate_text_from_prompt(question, tokenizer, model)\n",
    "\n",
    "# extract the real output from the model\n",
    "response_without_template = response_without_template.split(question.split(' ')[-1])[-1].strip('\\n').strip()\n",
    "print(\"========== Output ==========\\n\", response_without_template)\n",
    "score = calculate_coherence(question, response_without_template)\n",
    "print(f\"========== Coherence Score : {score:.4f}  ==========\")"
   ]
  },
  {
   "cell_type": "markdown",
   "metadata": {
    "id": "9YT8amEJSP-E"
   },
   "source": [
    "## Q2: Multi-turn conversations"
   ]
  },
  {
   "cell_type": "code",
   "execution_count": 9,
   "metadata": {
    "colab": {
     "base_uri": "https://localhost:8080/",
     "height": 1000
    },
    "id": "hSO8qFw9_E0w",
    "outputId": "18bdeca2-fe95-4eef-b547-b8ff1da59243"
   },
   "outputs": [
    {
     "metadata": {
      "tags": null
     },
     "name": "stdout",
     "output_type": "stream",
     "text": [
      "Chatbot: Hello! How can I assist you today? (Type 'exit' to quit)\n"
     ]
    },
    {
     "metadata": {
      "tags": null
     },
     "name": "stderr",
     "output_type": "stream",
     "text": [
      "The 'batch_size' argument of HybridCache is deprecated and will be removed in v4.49. Use the more precisely named 'max_batch_size' argument instead.\n"
     ]
    },
    {
     "metadata": {
      "tags": null
     },
     "name": "stdout",
     "output_type": "stream",
     "text": [
      "=== Prompt with chat template format inputted to the model on round 1 ===\n",
      "<bos><start_of_turn>user\n",
      "Do you know AI?<end_of_turn>\n",
      "<start_of_turn>model\n",
      "\n",
      "===============================================\n"
     ]
    },
    {
     "metadata": {
      "tags": null
     },
     "name": "stderr",
     "output_type": "stream",
     "text": [
      "<ipython-input-9-262378176447>:44: FutureWarning: \n",
      "\n",
      "Passing `palette` without assigning `hue` is deprecated and will be removed in v0.14.0. Assign the `y` variable to `hue` and set `legend=False` for the same effect.\n",
      "\n",
      "  sns.barplot(x=top_probs, y=top_tokens, palette=\"coolwarm\")\n"
     ]
    },
    {
     "data": {
      "image/png": "[encoded data removed]",
      "text/plain": [
       "<Figure size 1000x500 with 1 Axes>"
      ]
     },
     "metadata": {},
     "output_type": "display_data"
    },
    {
     "output_type": "stream",
     "name": "stdout",
     "text": [
      "Chatbot: Yes, I know about AI!  \n",
      "\n",
      "I am a large language model, trained by Google.  \n",
      "\n",
      "**What would you like to know about AI?** \n",
      "\n",
      "Here are some things I can tell you about:\n",
      "\n",
      "* **What AI is:**  I can explain the basics of artificial intelligence, including different types like machine learning, deep learning, and natural language processing.\n",
      "* **How AI works:** I can describe the processes involved in training AI models and how they learn from data.\n",
      "* **Applications of AI:** I can discuss the many ways AI is being used in various industries, such as healthcare, finance, transportation, and entertainment.\n",
      "* **The future of AI:** I can share my knowledge about the potential benefits and challenges of AI, and its impact on society.\n",
      "* **Specific AI concepts:** I can explain specific AI concepts like neural networks, algorithms, and deep learning architectures.\n",
      "\n",
      "\n",
      "Just ask me anything! 😊 \n",
      "\n",
      "You: exit\n",
      "Chatbot: Goodbye!\n"
     ]
    }
   ],
   "source": [
    "import matplotlib.pyplot as plt\n",
    "import seaborn as sns\n",
    "chat_history = []\n",
    "round = 0\n",
    "print(\"Chatbot: Hello! How can I assist you today? (Type 'exit' to quit)\")\n",
    "\n",
    "while True:\n",
    "    user_input = input(\"You: \")\n",
    "    if user_input.lower() == \"exit\":\n",
    "        print(\"Chatbot: Goodbye!\")\n",
    "        break\n",
    "\n",
    "    round += 1\n",
    "    chat_history.append({\"role\": \"user\", \"content\": user_input})\n",
    "    chat_template_format_prompt = tokenizer.apply_chat_template(chat_history, tokenize=False, add_generation_prompt=True)\n",
    "    ######################## (Q2.1 ~ 2.3) ########################\n",
    "    # Observe the prompt with chat template format that was inputted to the model in the current round to answer Q2.1 ~ Q2.3.\n",
    "    print(f\"=== Prompt with chat template format inputted to the model on round {round} ===\\n{chat_template_format_prompt}\")\n",
    "    print(f\"===============================================\")\n",
    "    ###################################################################\n",
    "\n",
    "    inputs = tokenizer(chat_template_format_prompt, return_tensors=\"pt\").to(\"cuda\")\n",
    "    # Get logits instead of directly generating\n",
    "    with torch.no_grad():\n",
    "        outputs_p = model(**inputs)\n",
    "\n",
    "    logits = outputs_p.logits  # Logits of the model (raw scores before softmax)\n",
    "    last_token_logits = logits[:, -1, :]  # Take the logits of the last generated token\n",
    "\n",
    "    # Apply softmax to get probabilities\n",
    "    probs = torch.nn.functional.softmax(last_token_logits, dim=-1)\n",
    "\n",
    "    # Get top-k tokens (e.g., 10)\n",
    "    top_k = 10\n",
    "    top_probs, top_indices = torch.topk(probs, top_k)\n",
    "\n",
    "    # Convert to numpy for plotting\n",
    "    top_probs = top_probs.cpu().squeeze().numpy()\n",
    "    top_indices = top_indices.cpu().squeeze().numpy()\n",
    "    top_tokens = [tokenizer.decode([idx]) for idx in top_indices]\n",
    "\n",
    "    # Plot probability distribution\n",
    "    plt.figure(figsize=(10, 5))\n",
    "    sns.barplot(x=top_probs, y=top_tokens, palette=\"coolwarm\")\n",
    "    plt.xlabel(\"Probability\")\n",
    "    plt.ylabel(\"Token\")\n",
    "    plt.title(\"Top Token Probabilities for Next Word\")\n",
    "    plt.show()\n",
    "\n",
    "    # Generate response\n",
    "    outputs = model.generate(**inputs, max_new_tokens=200, pad_token_id=tokenizer.eos_token_id, do_sample=False)\n",
    "    response = tokenizer.decode(outputs[0][inputs.input_ids.shape[1]:], skip_special_tokens=True)\n",
    "\n",
    "    print(f\"Chatbot: {response}\")\n",
    "    chat_history.append({\"role\": \"assistant\", \"content\": response})"
   ]
  },
  {
   "cell_type": "markdown",
   "metadata": {
    "id": "Oo7JKIgp0Txd"
   },
   "source": [
    "## Q3: Tokenization of Sentence"
   ]
  },
  {
   "cell_type": "code",
   "execution_count": 10,
   "metadata": {
    "colab": {
     "base_uri": "https://localhost:8080/"
    },
    "id": "oiBONKSS_E0x",
    "outputId": "6a21f9f8-cd53-44db-fab2-e73658f1096d"
   },
   "outputs": [
    {
     "metadata": {
      "tags": null
     },
     "name": "stdout",
     "output_type": "stream",
     "text": [
      "Token: 你好, token index: 87139\n",
      "Token: ，, token index: 235365\n",
      "Token: 我的, token index: 15409\n",
      "Token: 名字, token index: 39742\n",
      "Token: 是, token index: 235427\n",
      "Token: Jason, token index: 28864\n",
      "Token: ，, token index: 235365\n",
      "Token: 你, token index: 235608\n",
      "Token: 呢, token index: 236512\n",
      "Token: ？, token index: 235544\n"
     ]
    }
   ],
   "source": [
    "sentence = \"你好，我的名字是Jason，你呢？\" #@param {type:\"string\"}\n",
    "\n",
    "######################## TODO (Q3.1 ~ 3.4) ########################\n",
    "### You can refer to https://huggingface.co/learn/nlp-course/en/chapter2/4?fw=pt for basic tokenizer usage\n",
    "### and https://huggingface.co/docs/transformers/en/main_classes/tokenizer for full tokenizer usage\n",
    "\n",
    "\n",
    "# Encode the sentence into token IDs without adding special tokens\n",
    "token_ids = tokenizer.encode(sentence, add_special_tokens=False)\n",
    "\n",
    "# Convert the token IDs back to their corresponding tokens (words or subwords)\n",
    "tokens = tokenizer.convert_ids_to_tokens(token_ids)\n",
    "###################################################################\n",
    "\n",
    "# Iterate through the tokens and their corresponding token IDs\n",
    "for t, t_id in zip(tokens, token_ids):\n",
    "    # Print the token and its index (ID)\n",
    "    print(f\"Token: {t}, token index: {t_id}\")"
   ]
  },
  {
   "cell_type": "markdown",
   "metadata": {
    "id": "O1ocRPtU0Txe"
   },
   "source": [
    "## Q4: Auto-regressive generation"
   ]
  },
  {
   "cell_type": "code",
   "execution_count": 11,
   "metadata": {
    "colab": {
     "base_uri": "https://localhost:8080/"
    },
    "id": "5tMF2hEH_E0y",
    "outputId": "a911892b-349f-4326-c510-a6a4cb0f2c20"
   },
   "outputs": [
    {
     "output_type": "stream",
     "name": "stderr",
     "text": [
      "100%|██████████| 20/20 [00:31<00:00,  1.56s/it]\n",
      "100%|██████████| 20/20 [00:27<00:00,  1.37s/it]"
     ]
    },
    {
     "output_type": "stream",
     "name": "stdout",
     "text": [
      "===== Top-K Sampling Output =====\n",
      "\n",
      "0. Lee, a renowned expert in machine learning, consistently provides high-quality education and guidance to his students.\n",
      "1. Lee's expertise in machine learning has earned him recognition as one of the top instructors of this field.\n",
      "2. Professor Lee is highly regarded as a skilled and influential teacher in the field of machine learning.\n",
      "3. Professor Lee is highly regarded as an expert and influential figure in the field of machine learning, recognized for his teaching excellence.\n",
      "4. Professor Hung-yi Lee is a renowned expert in machine learning education.\n",
      "5. Professor Lee's expertise in machine learning has earned him a reputation as a highly skilled and sought-after educator.\n",
      "6. Professor Lee is renowned within the field of machine learning for his exceptional teaching skills.\n",
      "7. He is highly regarded as one of the leading experts in machine learning education.\n",
      "8. Professor Hung-yi Lee is highly regarded as an expert in the field of machine learning and is known for his exceptional teaching skills.\n",
      "9. Professor Lee is highly regarded as an expert in machine learning education.\n",
      "10. Professor Lee is highly regarded for his expertise in machine learning, consistently delivering excellent instruction to his students.\n",
      "11. Lee is an esteemed teacher in the field of machine learning due to his expertise.\n",
      "12. **Professor Hung-yi Lee is highly regarded as a skilled and knowledgeable educator in the field of machine learning.**\n",
      "13. Professor Lee excels in teaching and is widely regarded as a top expert in machine learning.\n",
      "14. Professor Lee's expertise and dedication to machine learning education are highly regarded.\n",
      "15. Professor Lee's expertise in machine learning has earned him recognition as a top teacher in the field.\n",
      "16. His expertise in machine learning has earned him a reputation as one of the leading figures in the field.\n",
      "17. Professor Lee is widely recognised as a leading expert in machine learning pedagogy, consistently delivering high-quality learning experiences for his students.\n",
      "18. Dr. Lee is highly regarded as an outstanding instructor within the field of artificial intelligence, particularly renowned for his expertise in machine learning.\n",
      "19. Lee, a renowned expert in machine learning and one of the most influential individuals in the field, is highly regarded for his teaching abilities.\n",
      "\n",
      "===== Top-P Sampling Output =====\n",
      "\n",
      "0. Professor Lee is highly regarded as a leading expert in machine learning education.\n",
      "1. Professor Lee is highly regarded for his expertise in machine learning education.\n",
      "2. Professor Lee is highly regarded as a top-tier expert in machine learning education.\n",
      "3. Professor Lee is highly regarded for his expertise in machine learning and is considered one of the leading educators in the field.\n",
      "4. Professor Lee is highly regarded as a leading expert in machine learning education.\n",
      "5. Professor Lee is highly regarded for his expertise in machine learning and is known for his exceptional teaching abilities.\n",
      "6. He is highly regarded as a leading expert in machine learning education.\n",
      "7. Professor Lee is highly regarded for his expertise in machine learning education.\n",
      "8. Professor Lee is highly regarded as a leading expert in machine learning education.\n",
      "9. Professor Lee is highly regarded for his expertise in machine learning and is considered one of the leading educators in the field.\n",
      "10. Professor Lee is highly regarded for his expertise in machine learning, making him a top teacher in the field.\n",
      "11. Professor Lee is highly regarded as a leading expert in machine learning education.\n",
      "12. Professor Lee is highly regarded as a leading expert in machine learning education.\n",
      "13. Professor Lee is highly regarded as a leading expert in machine learning education.\n",
      "14. Professor Lee is highly regarded for his expertise in machine learning and is considered one of the leading educators in the field.\n",
      "15. Professor Lee is highly regarded for his expertise in machine learning education.\n",
      "16. Professor Lee is highly regarded as a leading expert in machine learning education.\n",
      "17. Professor Lee is highly regarded as a leading expert in machine learning education.\n",
      "18. Professor Lee is highly regarded as a top expert in machine learning education.\n",
      "19. Professor Lee is highly regarded for his expertise in machine learning, making him a top teacher in the field.\n",
      "\n"
     ]
    },
    {
     "output_type": "stream",
     "name": "stderr",
     "text": [
      "\n"
     ]
    }
   ],
   "source": [
    "from tqdm import trange\n",
    "\n",
    "max_generation_tokens = 30\n",
    "\n",
    "######################## TODO (Q4.3 ~ 4.6) ########################\n",
    "# Modify the value of k and p accordingly\n",
    "\n",
    "top_k = 10  # Set K for top-k sampling\n",
    "top_p = 0.6  # Set P for nucleus sampling\n",
    "###################################################################\n",
    "\n",
    "# Input prompt\n",
    "prompt = f\"Generate a paraphrase of the sentence 'Professor Hung-yi Lee is one of the best teachers in the domain of machine learning'. Just response with one sentence.\"\n",
    "input_ids = tokenizer(prompt, return_tensors=\"pt\")\n",
    "\n",
    "next_token_id = input_ids.input_ids.to(\"cuda\")\n",
    "attention_mask = input_ids.attention_mask.to(\"cuda\")\n",
    "cache_position = torch.arange(attention_mask.shape[1], device=\"cuda\")\n",
    "\n",
    "generated_sentences_top_k = []\n",
    "generated_sentences_top_p = []\n",
    "\n",
    "\n",
    "\n",
    "# Define the generation parameters\n",
    "generation_params = {\n",
    "    \"do_sample\": True,  # Enable sampling\n",
    "    \"max_length\": max_generation_tokens + len(input_ids.input_ids[0]),  # Total length including prompt\n",
    "    \"pad_token_id\": tokenizer.pad_token_id,  # Ensure padding token is set\n",
    "    \"eos_token_id\": tokenizer.eos_token_id,  # Ensure EOS token is set\n",
    "    \"bos_token_id\": tokenizer.bos_token_id,  # Ensure BOS token is set\n",
    "    \"attention_mask\": input_ids.attention_mask.to(\"cuda\"),  # Move attention mask to GPU\n",
    "    \"use_cache\": True,  # Enable caching\n",
    "    \"return_dict_in_generate\": True,  # Return generation outputs\n",
    "    \"output_scores\": False,  # Disable outputting scores\n",
    "}\n",
    "\n",
    "\n",
    "for method in [\"top-k\", \"top-p\"]:\n",
    "    for _ in trange(20):\n",
    "      if method == \"top-k\":\n",
    "        # Generate text using the model with top_k\n",
    "        generated_output = model.generate(\n",
    "            input_ids=input_ids.input_ids.to(\"cuda\"),\n",
    "            top_k=top_k,\n",
    "            **generation_params\n",
    "        )\n",
    "      elif method == \"top-p\":\n",
    "        # Generate text using the model with top_p\n",
    "        ######################## TODO (Q4.3 ~ 4.6) ########################\n",
    "        # Generate output from the model based on the input_ids and specified generation parameters\n",
    "        # You can refer to this documentation: https://huggingface.co/docs/transformers/en/main_classes/text_generation\n",
    "        # Hint: You can check how we generate the text with top_k\n",
    "\n",
    "        generated_output = model.generate(\n",
    "            input_ids=input_ids.input_ids.to(\"cuda\"),\n",
    "            top_p=top_p,\n",
    "            **generation_params\n",
    "        )\n",
    "        ###################################################################\n",
    "      else:\n",
    "        raise NotImplementedError()\n",
    "      # Decode the generated tokens\n",
    "      generated_tokens = generated_output.sequences[0, len(input_ids.input_ids[0]):]\n",
    "      decoded_text = tokenizer.decode(generated_tokens, skip_special_tokens=True)\n",
    "\n",
    "      # Combine the prompt with the generated text\n",
    "      sentence = decoded_text.replace(\" ,\", \",\").replace(\" 's\", \"'s\").replace(\" .\", \".\").strip()\n",
    "\n",
    "      # Append the generated sentence to the appropriate list\n",
    "      if method == \"top-k\":\n",
    "          generated_sentences_top_k.append(sentence)\n",
    "      else:\n",
    "          generated_sentences_top_p.append(sentence)\n",
    "\n",
    "# Print results\n",
    "print(\"===== Top-K Sampling Output =====\")\n",
    "print()\n",
    "for idx,sentence in enumerate(generated_sentences_top_k):\n",
    "    print(f\"{idx}. {sentence}\")\n",
    "print()\n",
    "print(\"===== Top-P Sampling Output =====\")\n",
    "print()\n",
    "for idx,sentence in enumerate(generated_sentences_top_p):\n",
    "    print(f\"{idx}. {sentence}\")\n",
    "print()"
   ]
  },
  {
   "cell_type": "code",
   "execution_count": 12,
   "metadata": {
    "colab": {
     "base_uri": "https://localhost:8080/"
    },
    "id": "j8RtIELr_E00",
    "outputId": "65b43c24-e148-47b0-9efd-356474423e6c"
   },
   "outputs": [
    {
     "output_type": "stream",
     "name": "stdout",
     "text": [
      "self-BLEU Score for top_k (k=10): 0.0778\n",
      "self-BLEU Score for top_p (p=0.6): 0.5167\n"
     ]
    },
    {
     "output_type": "stream",
     "name": "stderr",
     "text": [
      "/usr/local/lib/python3.11/dist-packages/nltk/translate/bleu_score.py:577: UserWarning: \n",
      "The hypothesis contains 0 counts of 3-gram overlaps.\n",
      "Therefore the BLEU score evaluates to 0, independently of\n",
      "how many N-gram overlaps of lower order it contains.\n",
      "Consider using lower n-gram order or use SmoothingFunction()\n",
      "  warnings.warn(_msg)\n",
      "/usr/local/lib/python3.11/dist-packages/nltk/translate/bleu_score.py:577: UserWarning: \n",
      "The hypothesis contains 0 counts of 4-gram overlaps.\n",
      "Therefore the BLEU score evaluates to 0, independently of\n",
      "how many N-gram overlaps of lower order it contains.\n",
      "Consider using lower n-gram order or use SmoothingFunction()\n",
      "  warnings.warn(_msg)\n",
      "/usr/local/lib/python3.11/dist-packages/nltk/translate/bleu_score.py:577: UserWarning: \n",
      "The hypothesis contains 0 counts of 2-gram overlaps.\n",
      "Therefore the BLEU score evaluates to 0, independently of\n",
      "how many N-gram overlaps of lower order it contains.\n",
      "Consider using lower n-gram order or use SmoothingFunction()\n",
      "  warnings.warn(_msg)\n"
     ]
    }
   ],
   "source": [
    "from nltk.translate.bleu_score import sentence_bleu\n",
    "\n",
    "def compute_self_bleu(generated_sentences):\n",
    "    total_bleu_score = 0\n",
    "    num_sentences = len(generated_sentences)\n",
    "\n",
    "    for i, hypothesis in enumerate(generated_sentences):\n",
    "        references = [generated_sentences[j] for j in range(num_sentences) if j != i]\n",
    "        bleu_scores = [sentence_bleu([ref.split()], hypothesis.split()) for ref in references]\n",
    "        total_bleu_score += sum(bleu_scores) / len(bleu_scores)\n",
    "\n",
    "    return total_bleu_score / num_sentences\n",
    "\n",
    "# Calculate BLEU score\n",
    "bleu_score = compute_self_bleu(generated_sentences_top_k)\n",
    "print(f\"self-BLEU Score for top_k (k={top_k}): {bleu_score:.4f}\")\n",
    "\n",
    "# Calculate BLEU score\n",
    "bleu_score = compute_self_bleu(generated_sentences_top_p)\n",
    "print(f\"self-BLEU Score for top_p (p={top_p}): {bleu_score:.4f}\")\n"
   ]
  },
  {
   "cell_type": "markdown",
   "metadata": {
    "id": "RvI2LvarYe-M"
   },
   "source": [
    "## Q5: t-SNE"
   ]
  },
  {
   "cell_type": "code",
   "execution_count": 13,
   "metadata": {
    "colab": {
     "base_uri": "https://localhost:8080/",
     "height": 581
    },
    "id": "ANghhPVM_E02",
    "outputId": "8b424feb-d96a-455d-a3d0-4dab2fc13a48"
   },
   "outputs": [
    {
     "output_type": "stream",
     "name": "stderr",
     "text": [
      "Asking to truncate to max_length but no maximum length is provided and the model has no predefined maximum length. Default to no truncation.\n"
     ]
    },
    {
     "output_type": "display_data",
     "data": {
      "text/plain": [
       "<Figure size 800x600 with 1 Axes>"
      ],
      "image/png": "[encoded data removed]"
     },
     "metadata": {}
    }
   ],
   "source": [
    "from transformers import AutoModelForCausalLM, AutoTokenizer\n",
    "import torch\n",
    "from sklearn.manifold import TSNE\n",
    "import matplotlib.pyplot as plt\n",
    "\n",
    "device = \"cuda\" if torch.cuda.is_available() else \"cpu\"\n",
    "model.to(device)\n",
    "\n",
    "######################## (Q5.2 ~ 5.3) ########################\n",
    "# Sentences with different meanings of words\n",
    "sentences = [\n",
    "    \"I ate a fresh apple.\",  # Apple (fruit)\n",
    "    \"Apple released the new iPhone.\",  # Apple (company)\n",
    "    \"I peeled an orange and ate it.\",  # Orange (fruit)\n",
    "    \"The Orange network has great coverage.\",  # Orange (telecom)\n",
    "    \"Microsoft announced a new update.\",  # Microsoft (company)\n",
    "    \"Banana is my favorite fruit.\",  # Banana (fruit)\n",
    "]\n",
    "\n",
    "# Tokenize and move to device\n",
    "inputs = tokenizer(sentences, return_tensors=\"pt\", padding=True, truncation=True)\n",
    "inputs = inputs.to(device)\n",
    "\n",
    "# Get hidden states\n",
    "with torch.no_grad():\n",
    "    outputs = model(**inputs, output_hidden_states=True)\n",
    "\n",
    "hidden_states = outputs.hidden_states[-1]  # Extract last layer embeddings\n",
    "\n",
    "# Compute sentence-level embeddings (mean pooling)\n",
    "sentence_embeddings = hidden_states.mean(dim=1).cpu().numpy()\n",
    "\n",
    "# Words to visualize\n",
    "word_labels = [\n",
    "    \"Apple (fruit)\", \"Apple (company)\",\n",
    "    \"Orange (fruit)\", \"Orange (telecom)\",\n",
    "    \"Microsoft (company)\", \"Banana (fruit)\"\n",
    "]\n",
    "\n",
    "# Reduce to 2D using t-SNE\n",
    "tsne = TSNE(n_components=2, perplexity=2, random_state=42)\n",
    "embeddings_2d = tsne.fit_transform(sentence_embeddings)\n",
    "\n",
    "# Plot the embeddings\n",
    "plt.figure(figsize=(8, 6))\n",
    "colors = [\"red\", \"blue\", \"orange\", \"purple\", \"green\", \"brown\"]\n",
    "for i, label in enumerate(word_labels):\n",
    "    plt.scatter(embeddings_2d[i, 0], embeddings_2d[i, 1], color=colors[i], s=100)\n",
    "    plt.text(embeddings_2d[i, 0] + 0.1, embeddings_2d[i, 1] + 0.1, label, fontsize=12, color=colors[i])\n",
    "\n",
    "plt.xlabel(\"t-SNE Dim 1\")\n",
    "plt.ylabel(\"t-SNE Dim 2\")\n",
    "plt.title(\"t-SNE Visualization of Word Embeddings\")\n",
    "plt.show()\n",
    "##################################################"
   ]
  },
  {
   "cell_type": "markdown",
   "metadata": {
    "id": "EYDqomF2YWyX"
   },
   "source": [
    "## Q6: Observe the Attention Weight"
   ]
  },
  {
   "cell_type": "code",
   "execution_count": 14,
   "metadata": {
    "colab": {
     "base_uri": "https://localhost:8080/",
     "height": 767
    },
    "id": "cmqWxTNM_E03",
    "outputId": "bc0436b6-454a-4e08-aee9-371a01bc399f"
   },
   "outputs": [
    {
     "output_type": "display_data",
     "data": {
      "text/plain": [
       "<Figure size 1000x800 with 2 Axes>"
      ],
      "image/png": "[encoded data removed]"
     },
     "metadata": {}
    }
   ],
   "source": [
    "# Import necessary libraries\n",
    "import torch\n",
    "import seaborn as sns\n",
    "import matplotlib.pyplot as plt\n",
    "import numpy as np\n",
    "from transformers import AutoModelForCausalLM, AutoTokenizer\n",
    "from tqdm import trange\n",
    "from sklearn.decomposition import PCA\n",
    "\n",
    "# Input prompt for text generation\n",
    "prompt = \"Google is\"\n",
    "input_ids = tokenizer(prompt, return_tensors=\"pt\")  # Tokenize the input prompt\n",
    "next_token_id = input_ids.input_ids.to(\"cuda\")  # Move input token ids to GPU\n",
    "attention_mask = input_ids.attention_mask.to(\"cuda\")  # Move attention mask to GPU\n",
    "cache_position = torch.arange(attention_mask.shape[1], device=\"cuda\")  # Position for the KV cache\n",
    "\n",
    "# Set the number of tokens to generate and other parameters\n",
    "generation_tokens = 15  # Limit for visualization (number of tokens to generate)\n",
    "total_tokens = generation_tokens + next_token_id.size(1) - 1  # Total tokens to handle\n",
    "layer_idx = 10  # Specify the layer index for attention visualization\n",
    "head_idx = 7  # Specify the attention head index to visualize\n",
    "\n",
    "# KV cache setup for caching key/values across time steps\n",
    "from transformers.cache_utils import HybridCache\n",
    "kv_cache = HybridCache(config=model.config, max_batch_size=1, max_cache_len=total_tokens, device=\"cuda\", dtype=torch.float16)\n",
    "\n",
    "generated_tokens = []  # List to store generated tokens\n",
    "attentions = None  # Placeholder to store attention weights\n",
    "\n",
    "num_new_tokens = 0  # Counter for the number of new tokens generated\n",
    "model.eval()  # Set the model to evaluation mode\n",
    "\n",
    "# Generate tokens and collect attention weights for visualization\n",
    "for num_new_tokens in range(generation_tokens):\n",
    "    with torch.no_grad():  # Disable gradients during inference for efficiency\n",
    "        # Pass the input through the model to get the next token prediction and attention weights\n",
    "        outputs = model(\n",
    "            next_token_id,\n",
    "            attention_mask=attention_mask,\n",
    "            cache_position=cache_position,\n",
    "            use_cache=True,  # Use the KV cache for efficiency\n",
    "            past_key_values=kv_cache,  # Provide the cached key-value pairs for fast inference\n",
    "            output_attentions=True  # Enable the extraction of attention weights\n",
    "        )\n",
    "    ######################## TODO (Q6.1 ~ 6.4) ########################\n",
    "    ### You can refer to https://huggingface.co/docs/transformers/en/main_classes/output#transformers.modeling_outputs.BaseModelOutput.attentions to see the structure of model output attentions\n",
    "    # Get the logits for the last generated token from outputs\n",
    "    logits = outputs.logits[:, -1, :]\n",
    "    # Extract the attention scores from the model's outputs\n",
    "    attention_scores = outputs.attentions\n",
    "    ###################################################################\n",
    "\n",
    "    # Extract attention weights for the specified layer and head\n",
    "    last_layer_attention = attention_scores[layer_idx][0][head_idx].detach().cpu().numpy()\n",
    "\n",
    "    # If it's the first generated token, initialize the attentions array\n",
    "    if num_new_tokens == 0:\n",
    "        attentions = last_layer_attention\n",
    "    else:\n",
    "        # Append the current attention weights to the existing array\n",
    "        attentions = np.append(attentions, last_layer_attention, axis=0)\n",
    "\n",
    "    # Choose the next token to generate based on the highest probability (logits)\n",
    "    next_token_id = logits.argmax(dim=-1)\n",
    "    generated_tokens.append(next_token_id.item())  # Add the token ID to the generated tokens list\n",
    "\n",
    "    # Update the attention mask and next token ID for the next iteration\n",
    "    attention_mask = torch.cat([attention_mask, torch.ones(1, 1, device=\"cuda\")], dim=-1)  # Add a new attention mask for the generated token\n",
    "    next_token_id = next_token_id.unsqueeze(0)  # Convert the token ID to the required shape\n",
    "\n",
    "    # Update the KV cache with the new past key-values\n",
    "    kv_cache = outputs.past_key_values\n",
    "    cache_position = cache_position[-1:] + 1  # Update the cache position for the next iteration\n",
    "\n",
    "# Decode the generated tokens into human-readable text\n",
    "generated_text = tokenizer.decode(generated_tokens, skip_special_tokens=True)\n",
    "full_text = prompt + generated_text  # Combine the prompt with the generated text\n",
    "\n",
    "# Tokenize all the generated text (prompt + generated)\n",
    "tokens = tokenizer.tokenize(full_text)\n",
    "\n",
    "# Function to plot a heatmap of attention weights\n",
    "def plot_attention(attn_matrix, tokens, title=\"Attention Heatmap\"):\n",
    "    plt.figure(figsize=(10, 8))  # Set the figure size\n",
    "    sns.heatmap(attn_matrix, xticklabels=tokens, yticklabels=tokens, cmap=\"viridis\", annot=False)  # Plot the attention matrix as a heatmap\n",
    "    plt.xlabel(\"Key Tokens\")\n",
    "    plt.ylabel(\"Query Tokens\")\n",
    "    plt.title(title)\n",
    "    plt.xticks(rotation=45)  # Rotate x-axis labels for better visibility\n",
    "    plt.yticks(rotation=0)  # Rotate y-axis labels\n",
    "    plt.show()\n",
    "\n",
    "# Plot the attention heatmap for the last generated token\n",
    "plot_attention(attentions, tokens, title=f\"Attention Weights for Generated Token of Layer {layer_idx}\")"
   ]
  },
  {
   "cell_type": "markdown",
   "metadata": {
    "id": "zz2z5Q4TYlyE"
   },
   "source": [
    "## Q7: Observe the Activation Scores"
   ]
  },
  {
   "cell_type": "markdown",
   "metadata": {
    "id": "Q2li0_FBwbit"
   },
   "source": [
    "The following code is referred from official Gemma tutorials: [Gemma Tutorial From Scratch](https://colab.research.google.com/drive/17dQFYUYnuKnP6OwQPH9v_GSYUW5aj-Rp#scrollTo=2-i7YRVLgKoT) and [SAELens](https://github.com/jbloomAus/SAELens/blob/main/tutorials/tutorial_2_0.ipynb)"
   ]
  },
  {
   "cell_type": "code",
   "execution_count": null,
   "metadata": {
    "id": "7pzghoK7_E06"
   },
   "outputs": [],
   "source": [
    "!pip install sae-lens"
   ]
  },
  {
   "cell_type": "code",
   "execution_count": 4,
   "metadata": {
    "colab": {
     "base_uri": "https://localhost:8080/"
    },
    "id": "R-fFoznQ_E07",
    "outputId": "6563cae5-68ee-4546-ff09-436258de0203"
   },
   "outputs": [
    {
     "output_type": "stream",
     "name": "stdout",
     "text": [
      "SAE(\n",
      "  (activation_fn): ReLU()\n",
      "  (hook_sae_input): HookPoint()\n",
      "  (hook_sae_acts_pre): HookPoint()\n",
      "  (hook_sae_acts_post): HookPoint()\n",
      "  (hook_sae_output): HookPoint()\n",
      "  (hook_sae_recons): HookPoint()\n",
      "  (hook_sae_error): HookPoint()\n",
      ") {'architecture': 'jumprelu', 'd_in': 2304, 'd_sae': 16384, 'dtype': 'float32', 'model_name': 'gemma-2-2b', 'hook_name': 'blocks.20.hook_resid_post', 'hook_layer': 20, 'hook_head_index': None, 'activation_fn_str': 'relu', 'finetuning_scaling_factor': False, 'sae_lens_training_version': None, 'prepend_bos': True, 'dataset_path': 'monology/pile-uncopyrighted', 'context_size': 1024, 'dataset_trust_remote_code': True, 'apply_b_dec_to_input': False, 'normalize_activations': None, 'device': 'cpu', 'neuronpedia_id': 'gemma-2-2b/20-gemmascope-res-16k'} None\n"
     ]
    }
   ],
   "source": [
    "from sae_lens import SAE\n",
    "\n",
    "sae, cfg_dict, sparsity = SAE.from_pretrained(\n",
    "    release = \"gemma-scope-2b-pt-res-canonical\",\n",
    "    sae_id = \"layer_20/width_16k/canonical\",\n",
    ")\n",
    "\n",
    "print(sae, cfg_dict, sparsity)"
   ]
  },
  {
   "cell_type": "code",
   "execution_count": 17,
   "metadata": {
    "colab": {
     "base_uri": "https://localhost:8080/",
     "height": 621
    },
    "id": "Lr7fEFGb_E07",
    "outputId": "3f80785e-aed6-486e-b538-1e4ba4c2e476"
   },
   "outputs": [
    {
     "output_type": "execute_result",
     "data": {
      "text/plain": [
       "<IPython.lib.display.IFrame at 0x7ed6cc90de50>"
      ],
      "text/html": [
       "\n",
       "        <iframe\n",
       "            width=\"1200\"\n",
       "            height=\"600\"\n",
       "            src=\"https://neuronpedia.org/gemma-2-2b/20-gemmascope-res-16k/10004?embed=true&embedexplanation=true&embedplots=true&embedtest=true&height=300\"\n",
       "            frameborder=\"0\"\n",
       "            allowfullscreen\n",
       "            \n",
       "        ></iframe>\n",
       "        "
      ]
     },
     "metadata": {},
     "execution_count": 17
    }
   ],
   "source": [
    "from IPython.display import IFrame\n",
    "html_template = \"https://neuronpedia.org/{}/{}/{}?embed=true&embedexplanation=true&embedplots=true&embedtest=true&height=300\"\n",
    "\n",
    "def get_dashboard_html(sae_release = \"gemma-2-2b\", sae_id=\"20-gemmascope-res-16k\", feature_idx=0):\n",
    "    return html_template.format(sae_release, sae_id, feature_idx)\n",
    "\n",
    "########################## TODO (Q7.1) ############################\n",
    "html = get_dashboard_html(sae_release = \"gemma-2-2b\", sae_id=\"20-gemmascope-res-16k\", feature_idx=10004)\n",
    "IFrame(html, width=1200, height=600)\n",
    "###################################################################"
   ]
  },
  {
   "cell_type": "markdown",
   "metadata": {
    "id": "51VLXHjtGRLN"
   },
   "source": [
    "## Q7.2~7.3: Maximum activations comparison"
   ]
  },
  {
   "cell_type": "code",
   "execution_count": 18,
   "metadata": {
    "colab": {
     "base_uri": "https://localhost:8080/",
     "height": 983
    },
    "id": "UVtTuMOS_E09",
    "outputId": "a0440e22-b300-4242-9216-881b85fe7797"
   },
   "outputs": [
    {
     "output_type": "display_data",
     "data": {
      "text/plain": [
       "<Figure size 800x500 with 1 Axes>"
      ],
      "image/png": "[encoded data removed]"
     },
     "metadata": {}
    },
    {
     "output_type": "display_data",
     "data": {
      "text/plain": [
       "<Figure size 800x500 with 1 Axes>"
      ],
      "image/png": "[encoded data removed]"
     },
     "metadata": {}
    },
    {
     "output_type": "stream",
     "name": "stdout",
     "text": [
      "max_activation for prompt_a: 58.03689193725586\n",
      "max_activation for prompt_b: 31.76049041748047\n"
     ]
    }
   ],
   "source": [
    "######################## (Q7.2 ~ 7.3) ########################\n",
    "\n",
    "def get_max_activation(model, tokenizer, sae, prompt, feature_idx=10004):\n",
    "    \"\"\"\n",
    "    Computes the maximum activation of a specific feature in a Sparse Autoencoder (SAE)\n",
    "    for a given prompt.\n",
    "\n",
    "    Args:\n",
    "        model: The Transformer model used for generating hidden states.\n",
    "        tokenizer: The tokenizer for encoding the prompt.\n",
    "        sae: The Sparse Autoencoder for encoding hidden states.\n",
    "        prompt (str): The input text prompt.\n",
    "        feature_idx (int, optional): The index of the feature in SAE. Defaults to 10004.\n",
    "\n",
    "    Returns:\n",
    "        float: The maximum activation value for the specified feature index.\n",
    "    \"\"\"\n",
    "    device = \"cuda\" if torch.cuda.is_available() else \"cpu\"\n",
    "    sae.to(device)\n",
    "\n",
    "    # Tokenize the input prompt and get model outputs\n",
    "    tokens = tokenizer.encode(prompt, return_tensors=\"pt\").to(model.device)\n",
    "    outputs = model(tokens, output_hidden_states=True)\n",
    "\n",
    "    # Extract hidden states from the specified layer\n",
    "    hidden_states = outputs.hidden_states[sae.cfg.hook_layer]\n",
    "\n",
    "    # Encode hidden states using SAE\n",
    "    sae_in = hidden_states\n",
    "    feature_acts = sae.encode(sae_in).squeeze()  # Shape: (batch_size * seq_len, num_features)\n",
    "    feature_acts = feature_acts.reshape(-1, feature_acts.shape[-1])\n",
    "\n",
    "    # Compute max activation for the specified feature index\n",
    "    max_activation = -float(\"inf\")\n",
    "    batch_max_activation = feature_acts[:, feature_idx].max().item()\n",
    "    max_activation = max(max_activation, batch_max_activation)\n",
    "\n",
    "    # Plot activation distribution\n",
    "    plt.figure(figsize=(8, 5))\n",
    "    plt.hist(feature_acts[:, feature_idx].cpu().detach().numpy(), bins=50, alpha=0.75, color='blue', edgecolor='black')\n",
    "    plt.xlabel(f\"Activation values (Feature {feature_idx})\")\n",
    "    plt.ylabel(\"Frequency\")\n",
    "    plt.title(f\"Activation Distribution for Feature {feature_idx} - Prompt: '{prompt}'\")\n",
    "    plt.grid(True)\n",
    "    plt.show()\n",
    "\n",
    "    return max_activation\n",
    "\n",
    "feature_idx = 10004\n",
    "# Define the prompts\n",
    "prompt_a = \"Time travel offers me the opportunity to correct past errors, but it comes with its own set of risks.\"\n",
    "prompt_b = \"I accept that my decisions shape my future, and though mistakes are inevitable, they define who I become.\"\n",
    "\n",
    "# Calculate the maximum activations for each prompt using the feature index\n",
    "max_activation_a = get_max_activation(model, tokenizer, sae, prompt_a, feature_idx=feature_idx)\n",
    "max_activation_b = get_max_activation(model, tokenizer, sae, prompt_b, feature_idx=feature_idx)\n",
    "\n",
    "# Print the comparison\n",
    "print(f\"max_activation for prompt_a: {max_activation_a}\")\n",
    "print(f\"max_activation for prompt_b: {max_activation_b}\")\n",
    "###########################################################"
   ]
  },
  {
   "cell_type": "markdown",
   "metadata": {
    "id": "gFg9hOKzGW8y"
   },
   "source": [
    "## Q7.4~7.6: Activation distribution for specific layer"
   ]
  },
  {
   "cell_type": "code",
   "execution_count": null,
   "metadata": {
    "id": "YpzyjeYo_E0-"
   },
   "outputs": [],
   "source": [
    "import numpy as np\n",
    "import matplotlib.pyplot as plt\n",
    "\n",
    "def plot_token_activations(model, tokenizer, sae, prompt, feature_idx=10004, layer_idx=0):\n",
    "    \"\"\"\n",
    "    Plots activations for each token in a specific layer.\n",
    "\n",
    "    Args:\n",
    "        model: The transformer model.\n",
    "        tokenizer: Tokenizer for encoding input text.\n",
    "        sae: Sparse Autoencoder model.\n",
    "        prompt: Input text string.\n",
    "        feature_idx: Index of the feature to analyze.\n",
    "        layer_idx: Layer to analyze (None uses sae.cfg.hook_layer).\n",
    "    \"\"\"\n",
    "    device = \"cuda\" if torch.cuda.is_available() else \"cpu\"\n",
    "    sae.to(device)\n",
    "\n",
    "    # Tokenize input and get model output\n",
    "    tokens = tokenizer(prompt, return_tensors=\"pt\")\n",
    "    token_ids = tokens[\"input_ids\"].to(device)\n",
    "    token_list = tokenizer.convert_ids_to_tokens(token_ids.squeeze().tolist())\n",
    "\n",
    "    outputs = model(token_ids, output_hidden_states=True)\n",
    "\n",
    "    # Choose layer\n",
    "    layer_idx = layer_idx if layer_idx is not None else sae.cfg.hook_layer\n",
    "    hidden_states = outputs.hidden_states[layer_idx]\n",
    "\n",
    "    # Pass through SAE\n",
    "    sae_in = hidden_states\n",
    "    feature_acts = sae.encode(sae_in).squeeze()  # (batch_size, seq_len, num_features)\n",
    "    print(f\"feature_acts shape: {feature_acts.shape}\")\n",
    "\n",
    "    # Extract activations for the chosen feature\n",
    "    activations = feature_acts[:, feature_idx].squeeze().cpu().detach().numpy()\n",
    "\n",
    "    # Plot\n",
    "    plt.figure(figsize=(10, 5))\n",
    "    plt.bar(range(len(token_list)), activations, color='blue', alpha=0.7)\n",
    "    plt.xticks(range(len(token_list)), token_list, rotation=45)\n",
    "    plt.xlabel(\"Tokens\")\n",
    "    plt.ylabel(f\"Activation Value (Feature {feature_idx})\")\n",
    "    plt.title(f\"Token-wise Activations for Layer {layer_idx}\")\n",
    "    plt.grid(True)\n",
    "    plt.show()\n",
    "\n",
    "######################## (Q7.4 ~ 7.6) ########################\n",
    "# Simply observe the figure\n",
    "layer_idx = 24\n",
    "prompt = \"Time travel will become a reality as technology continues to advance.\"\n",
    "plot_token_activations(model, tokenizer, sae, prompt_a, feature_idx, layer_idx)\n",
    "###################################################################"
   ]
  },
  {
   "cell_type": "markdown",
   "metadata": {
    "id": "EwLP2sXZGcrb"
   },
   "source": [
    "## Q7.7~7.9: Activation distribution for specific token"
   ]
  },
  {
   "cell_type": "code",
   "execution_count": null,
   "metadata": {
    "id": "gTyWXsOx_E1A"
   },
   "outputs": [],
   "source": [
    "def plot_layer_activations(model, tokenizer, sae, prompt, token_idx=0, feature_idx=10004):\n",
    "    \"\"\"\n",
    "    Plots activations of a specific token across all layers.\n",
    "\n",
    "    Args:\n",
    "        model: The transformer model.\n",
    "        tokenizer: Tokenizer for encoding input text.\n",
    "        sae: Sparse Autoencoder model.\n",
    "        prompt: Input text string.\n",
    "        token_idx: Index of the token to analyze.\n",
    "        feature_idx: Index of the feature to analyze.\n",
    "    \"\"\"\n",
    "    device = \"cuda\" if torch.cuda.is_available() else \"cpu\"\n",
    "    sae.to(device)\n",
    "\n",
    "    # Tokenize input and get model output\n",
    "    tokens = tokenizer(prompt, return_tensors=\"pt\")\n",
    "    token_ids = tokens[\"input_ids\"].to(device)\n",
    "    token_list = tokenizer.convert_ids_to_tokens(token_ids.squeeze().tolist())\n",
    "\n",
    "    outputs = model(token_ids, output_hidden_states=True)\n",
    "\n",
    "    # Collect activations across all layers\n",
    "    num_layers = len(outputs.hidden_states)\n",
    "    activations = []\n",
    "\n",
    "    for layer_idx in range(num_layers):\n",
    "        hidden_states = outputs.hidden_states[layer_idx]\n",
    "        sae_in = hidden_states\n",
    "        feature_acts = sae.encode(sae_in).squeeze()  # (batch_size, seq_len, num_features)\n",
    "        # print(f\"feature_acts shape: {feature_acts.shape}\")\n",
    "        activations.append(feature_acts[token_idx, feature_idx].item())\n",
    "\n",
    "    # Plot\n",
    "    plt.figure(figsize=(8, 5))\n",
    "    plt.plot(range(num_layers), activations, marker=\"o\", linestyle=\"-\", color=\"blue\")\n",
    "    plt.xlabel(\"Layer\")\n",
    "    plt.ylabel(f\"Activation Value (Feature {feature_idx})\")\n",
    "    plt.title(f\"Activation Across Layers for Token '{token_list[token_idx]}'\")\n",
    "    plt.xticks(range(num_layers))\n",
    "    plt.grid(True)\n",
    "    plt.show()\n",
    "\n",
    "######################## (Q7.7 ~ 7.9) ########################\n",
    "# Alter the token index to observe the figure\n",
    "token_idx = 1\n",
    "prompt = \"Time travel will become a reality as technology continues to advance.\"\n",
    "plot_layer_activations(model, tokenizer, sae, prompt, token_idx)\n",
    "###################################################################"
   ]
  }
 ],
 "metadata": {
  "accelerator": "GPU",
  "colab": {
   "gpuType": "T4",
   "provenance": []
  },
  "kaggle": {
   "accelerator": "gpu",
   "dataSources": [],
   "dockerImageVersionId": 30840,
   "isGpuEnabled": true,
   "isInternetEnabled": true,
   "language": "python",
   "sourceType": "notebook"
  },
  "kernelspec": {
   "display_name": "Python 3 (ipykernel)",
   "language": "python",
   "name": "python3"
  },
  "language_info": {
   "codemirror_mode": {
    "name": "ipython",
    "version": 3
   },
   "file_extension": ".py",
   "mimetype": "text/x-python",
   "name": "python",
   "nbconvert_exporter": "python",
   "pygments_lexer": "ipython3",
   "version": "3.9.6"
  },
  "widgets": {
   "application/vnd.jupyter.widget-state+json": {
    "36aa56b141e3481aae05f28c23a8050a": {
     "model_module": "@jupyter-widgets/controls",
     "model_name": "HBoxModel",
     "model_module_version": "1.5.0",
     "state": {
      "_dom_classes": [],
      "_model_module": "@jupyter-widgets/controls",
      "_model_module_version": "1.5.0",
      "_model_name": "HBoxModel",
      "_view_count": null,
      "_view_module": "@jupyter-widgets/controls",
      "_view_module_version": "1.5.0",
      "_view_name": "HBoxView",
      "box_style": "",
      "children": [
       "IPY_MODEL_8fac2c9c4e2a472b8236031802f2218d",
       "IPY_MODEL_3b47f86f28684f4d844f4c8f6a8c1840",
       "IPY_MODEL_7e5c74952e6a43b4b46138b5b923d79b"
      ],
      "layout": "IPY_MODEL_204c366993e447859498fd12be791b1c"
     }
    },
    "8fac2c9c4e2a472b8236031802f2218d": {
     "model_module": "@jupyter-widgets/controls",
     "model_name": "HTMLModel",
     "model_module_version": "1.5.0",
     "state": {
      "_dom_classes": [],
      "_model_module": "@jupyter-widgets/controls",
      "_model_module_version": "1.5.0",
      "_model_name": "HTMLModel",
      "_view_count": null,
      "_view_module": "@jupyter-widgets/controls",
      "_view_module_version": "1.5.0",
      "_view_name": "HTMLView",
      "description": "",
      "description_tooltip": null,
      "layout": "IPY_MODEL_0c8417db65f64928b0eafb4a920b6854",
      "placeholder": "​",
      "style": "IPY_MODEL_1b8782da686f4ba6a9ea114842ba710a",
      "value": "config.json: 100%"
     }
    },
    "3b47f86f28684f4d844f4c8f6a8c1840": {
     "model_module": "@jupyter-widgets/controls",
     "model_name": "FloatProgressModel",
     "model_module_version": "1.5.0",
     "state": {
      "_dom_classes": [],
      "_model_module": "@jupyter-widgets/controls",
      "_model_module_version": "1.5.0",
      "_model_name": "FloatProgressModel",
      "_view_count": null,
      "_view_module": "@jupyter-widgets/controls",
      "_view_module_version": "1.5.0",
      "_view_name": "ProgressView",
      "bar_style": "success",
      "description": "",
      "description_tooltip": null,
      "layout": "IPY_MODEL_522d94c2b0534e5685215a6dc1186aff",
      "max": 794,
      "min": 0,
      "orientation": "horizontal",
      "style": "IPY_MODEL_1976456eb9b94d03a7409e17d16352d9",
      "value": 794
     }
    },
    "7e5c74952e6a43b4b46138b5b923d79b": {
     "model_module": "@jupyter-widgets/controls",
     "model_name": "HTMLModel",
     "model_module_version": "1.5.0",
     "state": {
      "_dom_classes": [],
      "_model_module": "@jupyter-widgets/controls",
      "_model_module_version": "1.5.0",
      "_model_name": "HTMLModel",
      "_view_count": null,
      "_view_module": "@jupyter-widgets/controls",
      "_view_module_version": "1.5.0",
      "_view_name": "HTMLView",
      "description": "",
      "description_tooltip": null,
      "layout": "IPY_MODEL_f4160dedf0864f97a62b5fe34ed62bf6",
      "placeholder": "​",
      "style": "IPY_MODEL_ea85968ac68d40fb81db272fdb09f82a",
      "value": " 794/794 [00:00&lt;00:00, 55.6kB/s]"
     }
    },
    "204c366993e447859498fd12be791b1c": {
     "model_module": "@jupyter-widgets/base",
     "model_name": "LayoutModel",
     "model_module_version": "1.2.0",
     "state": {
      "_model_module": "@jupyter-widgets/base",
      "_model_module_version": "1.2.0",
      "_model_name": "LayoutModel",
      "_view_count": null,
      "_view_module": "@jupyter-widgets/base",
      "_view_module_version": "1.2.0",
      "_view_name": "LayoutView",
      "align_content": null,
      "align_items": null,
      "align_self": null,
      "border": null,
      "bottom": null,
      "display": null,
      "flex": null,
      "flex_flow": null,
      "grid_area": null,
      "grid_auto_columns": null,
      "grid_auto_flow": null,
      "grid_auto_rows": null,
      "grid_column": null,
      "grid_gap": null,
      "grid_row": null,
      "grid_template_areas": null,
      "grid_template_columns": null,
      "grid_template_rows": null,
      "height": null,
      "justify_content": null,
      "justify_items": null,
      "left": null,
      "margin": null,
      "max_height": null,
      "max_width": null,
      "min_height": null,
      "min_width": null,
      "object_fit": null,
      "object_position": null,
      "order": null,
      "overflow": null,
      "overflow_x": null,
      "overflow_y": null,
      "padding": null,
      "right": null,
      "top": null,
      "visibility": null,
      "width": null
     }
    },
    "0c8417db65f64928b0eafb4a920b6854": {
     "model_module": "@jupyter-widgets/base",
     "model_name": "LayoutModel",
     "model_module_version": "1.2.0",
     "state": {
      "_model_module": "@jupyter-widgets/base",
      "_model_module_version": "1.2.0",
      "_model_name": "LayoutModel",
      "_view_count": null,
      "_view_module": "@jupyter-widgets/base",
      "_view_module_version": "1.2.0",
      "_view_name": "LayoutView",
      "align_content": null,
      "align_items": null,
      "align_self": null,
      "border": null,
      "bottom": null,
      "display": null,
      "flex": null,
      "flex_flow": null,
      "grid_area": null,
      "grid_auto_columns": null,
      "grid_auto_flow": null,
      "grid_auto_rows": null,
      "grid_column": null,
      "grid_gap": null,
      "grid_row": null,
      "grid_template_areas": null,
      "grid_template_columns": null,
      "grid_template_rows": null,
      "height": null,
      "justify_content": null,
      "justify_items": null,
      "left": null,
      "margin": null,
      "max_height": null,
      "max_width": null,
      "min_height": null,
      "min_width": null,
      "object_fit": null,
      "object_position": null,
      "order": null,
      "overflow": null,
      "overflow_x": null,
      "overflow_y": null,
      "padding": null,
      "right": null,
      "top": null,
      "visibility": null,
      "width": null
     }
    },
    "1b8782da686f4ba6a9ea114842ba710a": {
     "model_module": "@jupyter-widgets/controls",
     "model_name": "DescriptionStyleModel",
     "model_module_version": "1.5.0",
     "state": {
      "_model_module": "@jupyter-widgets/controls",
      "_model_module_version": "1.5.0",
      "_model_name": "DescriptionStyleModel",
      "_view_count": null,
      "_view_module": "@jupyter-widgets/base",
      "_view_module_version": "1.2.0",
      "_view_name": "StyleView",
      "description_width": ""
     }
    },
    "522d94c2b0534e5685215a6dc1186aff": {
     "model_module": "@jupyter-widgets/base",
     "model_name": "LayoutModel",
     "model_module_version": "1.2.0",
     "state": {
      "_model_module": "@jupyter-widgets/base",
      "_model_module_version": "1.2.0",
      "_model_name": "LayoutModel",
      "_view_count": null,
      "_view_module": "@jupyter-widgets/base",
      "_view_module_version": "1.2.0",
      "_view_name": "LayoutView",
      "align_content": null,
      "align_items": null,
      "align_self": null,
      "border": null,
      "bottom": null,
      "display": null,
      "flex": null,
      "flex_flow": null,
      "grid_area": null,
      "grid_auto_columns": null,
      "grid_auto_flow": null,
      "grid_auto_rows": null,
      "grid_column": null,
      "grid_gap": null,
      "grid_row": null,
      "grid_template_areas": null,
      "grid_template_columns": null,
      "grid_template_rows": null,
      "height": null,
      "justify_content": null,
      "justify_items": null,
      "left": null,
      "margin": null,
      "max_height": null,
      "max_width": null,
      "min_height": null,
      "min_width": null,
      "object_fit": null,
      "object_position": null,
      "order": null,
      "overflow": null,
      "overflow_x": null,
      "overflow_y": null,
      "padding": null,
      "right": null,
      "top": null,
      "visibility": null,
      "width": null
     }
    },
    "1976456eb9b94d03a7409e17d16352d9": {
     "model_module": "@jupyter-widgets/controls",
     "model_name": "ProgressStyleModel",
     "model_module_version": "1.5.0",
     "state": {
      "_model_module": "@jupyter-widgets/controls",
      "_model_module_version": "1.5.0",
      "_model_name": "ProgressStyleModel",
      "_view_count": null,
      "_view_module": "@jupyter-widgets/base",
      "_view_module_version": "1.2.0",
      "_view_name": "StyleView",
      "bar_color": null,
      "description_width": ""
     }
    },
    "f4160dedf0864f97a62b5fe34ed62bf6": {
     "model_module": "@jupyter-widgets/base",
     "model_name": "LayoutModel",
     "model_module_version": "1.2.0",
     "state": {
      "_model_module": "@jupyter-widgets/base",
      "_model_module_version": "1.2.0",
      "_model_name": "LayoutModel",
      "_view_count": null,
      "_view_module": "@jupyter-widgets/base",
      "_view_module_version": "1.2.0",
      "_view_name": "LayoutView",
      "align_content": null,
      "align_items": null,
      "align_self": null,
      "border": null,
      "bottom": null,
      "display": null,
      "flex": null,
      "flex_flow": null,
      "grid_area": null,
      "grid_auto_columns": null,
      "grid_auto_flow": null,
      "grid_auto_rows": null,
      "grid_column": null,
      "grid_gap": null,
      "grid_row": null,
      "grid_template_areas": null,
      "grid_template_columns": null,
      "grid_template_rows": null,
      "height": null,
      "justify_content": null,
      "justify_items": null,
      "left": null,
      "margin": null,
      "max_height": null,
      "max_width": null,
      "min_height": null,
      "min_width": null,
      "object_fit": null,
      "object_position": null,
      "order": null,
      "overflow": null,
      "overflow_x": null,
      "overflow_y": null,
      "padding": null,
      "right": null,
      "top": null,
      "visibility": null,
      "width": null
     }
    },
    "ea85968ac68d40fb81db272fdb09f82a": {
     "model_module": "@jupyter-widgets/controls",
     "model_name": "DescriptionStyleModel",
     "model_module_version": "1.5.0",
     "state": {
      "_model_module": "@jupyter-widgets/controls",
      "_model_module_version": "1.5.0",
      "_model_name": "DescriptionStyleModel",
      "_view_count": null,
      "_view_module": "@jupyter-widgets/base",
      "_view_module_version": "1.2.0",
      "_view_name": "StyleView",
      "description_width": ""
     }
    },
    "fe4bcf78454644139bdd1859eecaad57": {
     "model_module": "@jupyter-widgets/controls",
     "model_name": "HBoxModel",
     "model_module_version": "1.5.0",
     "state": {
      "_dom_classes": [],
      "_model_module": "@jupyter-widgets/controls",
      "_model_module_version": "1.5.0",
      "_model_name": "HBoxModel",
      "_view_count": null,
      "_view_module": "@jupyter-widgets/controls",
      "_view_module_version": "1.5.0",
      "_view_name": "HBoxView",
      "box_style": "",
      "children": [
       "IPY_MODEL_d18c6ca62715442693ee0d8f48b2ef44",
       "IPY_MODEL_5632a0bb5db0475d8002e0959c68dcff",
       "IPY_MODEL_f78fcd610fe34b949aca60cfc5110232"
      ],
      "layout": "IPY_MODEL_3856fa26828541158e5482715315d03c"
     }
    },
    "d18c6ca62715442693ee0d8f48b2ef44": {
     "model_module": "@jupyter-widgets/controls",
     "model_name": "HTMLModel",
     "model_module_version": "1.5.0",
     "state": {
      "_dom_classes": [],
      "_model_module": "@jupyter-widgets/controls",
      "_model_module_version": "1.5.0",
      "_model_name": "HTMLModel",
      "_view_count": null,
      "_view_module": "@jupyter-widgets/controls",
      "_view_module_version": "1.5.0",
      "_view_name": "HTMLView",
      "description": "",
      "description_tooltip": null,
      "layout": "IPY_MODEL_415c4b954ea44e5cb865f05fe77e9793",
      "placeholder": "​",
      "style": "IPY_MODEL_a6e981399bb04e8787e1ac53a259f4b5",
      "value": "model.safetensors: 100%"
     }
    },
    "5632a0bb5db0475d8002e0959c68dcff": {
     "model_module": "@jupyter-widgets/controls",
     "model_name": "FloatProgressModel",
     "model_module_version": "1.5.0",
     "state": {
      "_dom_classes": [],
      "_model_module": "@jupyter-widgets/controls",
      "_model_module_version": "1.5.0",
      "_model_name": "FloatProgressModel",
      "_view_count": null,
      "_view_module": "@jupyter-widgets/controls",
      "_view_module_version": "1.5.0",
      "_view_name": "ProgressView",
      "bar_style": "success",
      "description": "",
      "description_tooltip": null,
      "layout": "IPY_MODEL_1dc63ecea4c7432683f027217b52b015",
      "max": 90870598,
      "min": 0,
      "orientation": "horizontal",
      "style": "IPY_MODEL_0c165d8f30f74eb6be0f55fa4fffa463",
      "value": 90870598
     }
    },
    "f78fcd610fe34b949aca60cfc5110232": {
     "model_module": "@jupyter-widgets/controls",
     "model_name": "HTMLModel",
     "model_module_version": "1.5.0",
     "state": {
      "_dom_classes": [],
      "_model_module": "@jupyter-widgets/controls",
      "_model_module_version": "1.5.0",
      "_model_name": "HTMLModel",
      "_view_count": null,
      "_view_module": "@jupyter-widgets/controls",
      "_view_module_version": "1.5.0",
      "_view_name": "HTMLView",
      "description": "",
      "description_tooltip": null,
      "layout": "IPY_MODEL_3ed628a11cd14341b59cd2647cbb16cb",
      "placeholder": "​",
      "style": "IPY_MODEL_29ced8883bed4a189a266adc148bd4ce",
      "value": " 90.9M/90.9M [00:00&lt;00:00, 186MB/s]"
     }
    },
    "3856fa26828541158e5482715315d03c": {
     "model_module": "@jupyter-widgets/base",
     "model_name": "LayoutModel",
     "model_module_version": "1.2.0",
     "state": {
      "_model_module": "@jupyter-widgets/base",
      "_model_module_version": "1.2.0",
      "_model_name": "LayoutModel",
      "_view_count": null,
      "_view_module": "@jupyter-widgets/base",
      "_view_module_version": "1.2.0",
      "_view_name": "LayoutView",
      "align_content": null,
      "align_items": null,
      "align_self": null,
      "border": null,
      "bottom": null,
      "display": null,
      "flex": null,
      "flex_flow": null,
      "grid_area": null,
      "grid_auto_columns": null,
      "grid_auto_flow": null,
      "grid_auto_rows": null,
      "grid_column": null,
      "grid_gap": null,
      "grid_row": null,
      "grid_template_areas": null,
      "grid_template_columns": null,
      "grid_template_rows": null,
      "height": null,
      "justify_content": null,
      "justify_items": null,
      "left": null,
      "margin": null,
      "max_height": null,
      "max_width": null,
      "min_height": null,
      "min_width": null,
      "object_fit": null,
      "object_position": null,
      "order": null,
      "overflow": null,
      "overflow_x": null,
      "overflow_y": null,
      "padding": null,
      "right": null,
      "top": null,
      "visibility": null,
      "width": null
     }
    },
    "415c4b954ea44e5cb865f05fe77e9793": {
     "model_module": "@jupyter-widgets/base",
     "model_name": "LayoutModel",
     "model_module_version": "1.2.0",
     "state": {
      "_model_module": "@jupyter-widgets/base",
      "_model_module_version": "1.2.0",
      "_model_name": "LayoutModel",
      "_view_count": null,
      "_view_module": "@jupyter-widgets/base",
      "_view_module_version": "1.2.0",
      "_view_name": "LayoutView",
      "align_content": null,
      "align_items": null,
      "align_self": null,
      "border": null,
      "bottom": null,
      "display": null,
      "flex": null,
      "flex_flow": null,
      "grid_area": null,
      "grid_auto_columns": null,
      "grid_auto_flow": null,
      "grid_auto_rows": null,
      "grid_column": null,
      "grid_gap": null,
      "grid_row": null,
      "grid_template_areas": null,
      "grid_template_columns": null,
      "grid_template_rows": null,
      "height": null,
      "justify_content": null,
      "justify_items": null,
      "left": null,
      "margin": null,
      "max_height": null,
      "max_width": null,
      "min_height": null,
      "min_width": null,
      "object_fit": null,
      "object_position": null,
      "order": null,
      "overflow": null,
      "overflow_x": null,
      "overflow_y": null,
      "padding": null,
      "right": null,
      "top": null,
      "visibility": null,
      "width": null
     }
    },
    "a6e981399bb04e8787e1ac53a259f4b5": {
     "model_module": "@jupyter-widgets/controls",
     "model_name": "DescriptionStyleModel",
     "model_module_version": "1.5.0",
     "state": {
      "_model_module": "@jupyter-widgets/controls",
      "_model_module_version": "1.5.0",
      "_model_name": "DescriptionStyleModel",
      "_view_count": null,
      "_view_module": "@jupyter-widgets/base",
      "_view_module_version": "1.2.0",
      "_view_name": "StyleView",
      "description_width": ""
     }
    },
    "1dc63ecea4c7432683f027217b52b015": {
     "model_module": "@jupyter-widgets/base",
     "model_name": "LayoutModel",
     "model_module_version": "1.2.0",
     "state": {
      "_model_module": "@jupyter-widgets/base",
      "_model_module_version": "1.2.0",
      "_model_name": "LayoutModel",
      "_view_count": null,
      "_view_module": "@jupyter-widgets/base",
      "_view_module_version": "1.2.0",
      "_view_name": "LayoutView",
      "align_content": null,
      "align_items": null,
      "align_self": null,
      "border": null,
      "bottom": null,
      "display": null,
      "flex": null,
      "flex_flow": null,
      "grid_area": null,
      "grid_auto_columns": null,
      "grid_auto_flow": null,
      "grid_auto_rows": null,
      "grid_column": null,
      "grid_gap": null,
      "grid_row": null,
      "grid_template_areas": null,
      "grid_template_columns": null,
      "grid_template_rows": null,
      "height": null,
      "justify_content": null,
      "justify_items": null,
      "left": null,
      "margin": null,
      "max_height": null,
      "max_width": null,
      "min_height": null,
      "min_width": null,
      "object_fit": null,
      "object_position": null,
      "order": null,
      "overflow": null,
      "overflow_x": null,
      "overflow_y": null,
      "padding": null,
      "right": null,
      "top": null,
      "visibility": null,
      "width": null
     }
    },
    "0c165d8f30f74eb6be0f55fa4fffa463": {
     "model_module": "@jupyter-widgets/controls",
     "model_name": "ProgressStyleModel",
     "model_module_version": "1.5.0",
     "state": {
      "_model_module": "@jupyter-widgets/controls",
      "_model_module_version": "1.5.0",
      "_model_name": "ProgressStyleModel",
      "_view_count": null,
      "_view_module": "@jupyter-widgets/base",
      "_view_module_version": "1.2.0",
      "_view_name": "StyleView",
      "bar_color": null,
      "description_width": ""
     }
    },
    "3ed628a11cd14341b59cd2647cbb16cb": {
     "model_module": "@jupyter-widgets/base",
     "model_name": "LayoutModel",
     "model_module_version": "1.2.0",
     "state": {
      "_model_module": "@jupyter-widgets/base",
      "_model_module_version": "1.2.0",
      "_model_name": "LayoutModel",
      "_view_count": null,
      "_view_module": "@jupyter-widgets/base",
      "_view_module_version": "1.2.0",
      "_view_name": "LayoutView",
      "align_content": null,
      "align_items": null,
      "align_self": null,
      "border": null,
      "bottom": null,
      "display": null,
      "flex": null,
      "flex_flow": null,
      "grid_area": null,
      "grid_auto_columns": null,
      "grid_auto_flow": null,
      "grid_auto_rows": null,
      "grid_column": null,
      "grid_gap": null,
      "grid_row": null,
      "grid_template_areas": null,
      "grid_template_columns": null,
      "grid_template_rows": null,
      "height": null,
      "justify_content": null,
      "justify_items": null,
      "left": null,
      "margin": null,
      "max_height": null,
      "max_width": null,
      "min_height": null,
      "min_width": null,
      "object_fit": null,
      "object_position": null,
      "order": null,
      "overflow": null,
      "overflow_x": null,
      "overflow_y": null,
      "padding": null,
      "right": null,
      "top": null,
      "visibility": null,
      "width": null
     }
    },
    "29ced8883bed4a189a266adc148bd4ce": {
     "model_module": "@jupyter-widgets/controls",
     "model_name": "DescriptionStyleModel",
     "model_module_version": "1.5.0",
     "state": {
      "_model_module": "@jupyter-widgets/controls",
      "_model_module_version": "1.5.0",
      "_model_name": "DescriptionStyleModel",
      "_view_count": null,
      "_view_module": "@jupyter-widgets/base",
      "_view_module_version": "1.2.0",
      "_view_name": "StyleView",
      "description_width": ""
     }
    },
    "a616789835ac492d9e972da0b08f9fc6": {
     "model_module": "@jupyter-widgets/controls",
     "model_name": "HBoxModel",
     "model_module_version": "1.5.0",
     "state": {
      "_dom_classes": [],
      "_model_module": "@jupyter-widgets/controls",
      "_model_module_version": "1.5.0",
      "_model_name": "HBoxModel",
      "_view_count": null,
      "_view_module": "@jupyter-widgets/controls",
      "_view_module_version": "1.5.0",
      "_view_name": "HBoxView",
      "box_style": "",
      "children": [
       "IPY_MODEL_779f551ac47e4263ba3e57f17c46af75",
       "IPY_MODEL_aded73ddb72d421d8e41bd284d733b29",
       "IPY_MODEL_f09cf03862a747d38b5aa28bd77c1b0f"
      ],
      "layout": "IPY_MODEL_5f16d9f6c34441ce9f593084d5014d5b"
     }
    },
    "779f551ac47e4263ba3e57f17c46af75": {
     "model_module": "@jupyter-widgets/controls",
     "model_name": "HTMLModel",
     "model_module_version": "1.5.0",
     "state": {
      "_dom_classes": [],
      "_model_module": "@jupyter-widgets/controls",
      "_model_module_version": "1.5.0",
      "_model_name": "HTMLModel",
      "_view_count": null,
      "_view_module": "@jupyter-widgets/controls",
      "_view_module_version": "1.5.0",
      "_view_name": "HTMLView",
      "description": "",
      "description_tooltip": null,
      "layout": "IPY_MODEL_13ebda78f15b4f25b3661d45df94adec",
      "placeholder": "​",
      "style": "IPY_MODEL_0372cb36f45844aba40cf938c0f251a6",
      "value": "tokenizer_config.json: 100%"
     }
    },
    "aded73ddb72d421d8e41bd284d733b29": {
     "model_module": "@jupyter-widgets/controls",
     "model_name": "FloatProgressModel",
     "model_module_version": "1.5.0",
     "state": {
      "_dom_classes": [],
      "_model_module": "@jupyter-widgets/controls",
      "_model_module_version": "1.5.0",
      "_model_name": "FloatProgressModel",
      "_view_count": null,
      "_view_module": "@jupyter-widgets/controls",
      "_view_module_version": "1.5.0",
      "_view_name": "ProgressView",
      "bar_style": "success",
      "description": "",
      "description_tooltip": null,
      "layout": "IPY_MODEL_c095678135c14cf2925fff178c8d98c8",
      "max": 316,
      "min": 0,
      "orientation": "horizontal",
      "style": "IPY_MODEL_6cc6d70f480440588cacfbb9dd768a8a",
      "value": 316
     }
    },
    "f09cf03862a747d38b5aa28bd77c1b0f": {
     "model_module": "@jupyter-widgets/controls",
     "model_name": "HTMLModel",
     "model_module_version": "1.5.0",
     "state": {
      "_dom_classes": [],
      "_model_module": "@jupyter-widgets/controls",
      "_model_module_version": "1.5.0",
      "_model_name": "HTMLModel",
      "_view_count": null,
      "_view_module": "@jupyter-widgets/controls",
      "_view_module_version": "1.5.0",
      "_view_name": "HTMLView",
      "description": "",
      "description_tooltip": null,
      "layout": "IPY_MODEL_2a5f45234ec24245adfb20a5d321b281",
      "placeholder": "​",
      "style": "IPY_MODEL_c4d16ec15a2c4223b772d2c15002a5e3",
      "value": " 316/316 [00:00&lt;00:00, 19.5kB/s]"
     }
    },
    "5f16d9f6c34441ce9f593084d5014d5b": {
     "model_module": "@jupyter-widgets/base",
     "model_name": "LayoutModel",
     "model_module_version": "1.2.0",
     "state": {
      "_model_module": "@jupyter-widgets/base",
      "_model_module_version": "1.2.0",
      "_model_name": "LayoutModel",
      "_view_count": null,
      "_view_module": "@jupyter-widgets/base",
      "_view_module_version": "1.2.0",
      "_view_name": "LayoutView",
      "align_content": null,
      "align_items": null,
      "align_self": null,
      "border": null,
      "bottom": null,
      "display": null,
      "flex": null,
      "flex_flow": null,
      "grid_area": null,
      "grid_auto_columns": null,
      "grid_auto_flow": null,
      "grid_auto_rows": null,
      "grid_column": null,
      "grid_gap": null,
      "grid_row": null,
      "grid_template_areas": null,
      "grid_template_columns": null,
      "grid_template_rows": null,
      "height": null,
      "justify_content": null,
      "justify_items": null,
      "left": null,
      "margin": null,
      "max_height": null,
      "max_width": null,
      "min_height": null,
      "min_width": null,
      "object_fit": null,
      "object_position": null,
      "order": null,
      "overflow": null,
      "overflow_x": null,
      "overflow_y": null,
      "padding": null,
      "right": null,
      "top": null,
      "visibility": null,
      "width": null
     }
    },
    "13ebda78f15b4f25b3661d45df94adec": {
     "model_module": "@jupyter-widgets/base",
     "model_name": "LayoutModel",
     "model_module_version": "1.2.0",
     "state": {
      "_model_module": "@jupyter-widgets/base",
      "_model_module_version": "1.2.0",
      "_model_name": "LayoutModel",
      "_view_count": null,
      "_view_module": "@jupyter-widgets/base",
      "_view_module_version": "1.2.0",
      "_view_name": "LayoutView",
      "align_content": null,
      "align_items": null,
      "align_self": null,
      "border": null,
      "bottom": null,
      "display": null,
      "flex": null,
      "flex_flow": null,
      "grid_area": null,
      "grid_auto_columns": null,
      "grid_auto_flow": null,
      "grid_auto_rows": null,
      "grid_column": null,
      "grid_gap": null,
      "grid_row": null,
      "grid_template_areas": null,
      "grid_template_columns": null,
      "grid_template_rows": null,
      "height": null,
      "justify_content": null,
      "justify_items": null,
      "left": null,
      "margin": null,
      "max_height": null,
      "max_width": null,
      "min_height": null,
      "min_width": null,
      "object_fit": null,
      "object_position": null,
      "order": null,
      "overflow": null,
      "overflow_x": null,
      "overflow_y": null,
      "padding": null,
      "right": null,
      "top": null,
      "visibility": null,
      "width": null
     }
    },
    "0372cb36f45844aba40cf938c0f251a6": {
     "model_module": "@jupyter-widgets/controls",
     "model_name": "DescriptionStyleModel",
     "model_module_version": "1.5.0",
     "state": {
      "_model_module": "@jupyter-widgets/controls",
      "_model_module_version": "1.5.0",
      "_model_name": "DescriptionStyleModel",
      "_view_count": null,
      "_view_module": "@jupyter-widgets/base",
      "_view_module_version": "1.2.0",
      "_view_name": "StyleView",
      "description_width": ""
     }
    },
    "c095678135c14cf2925fff178c8d98c8": {
     "model_module": "@jupyter-widgets/base",
     "model_name": "LayoutModel",
     "model_module_version": "1.2.0",
     "state": {
      "_model_module": "@jupyter-widgets/base",
      "_model_module_version": "1.2.0",
      "_model_name": "LayoutModel",
      "_view_count": null,
      "_view_module": "@jupyter-widgets/base",
      "_view_module_version": "1.2.0",
      "_view_name": "LayoutView",
      "align_content": null,
      "align_items": null,
      "align_self": null,
      "border": null,
      "bottom": null,
      "display": null,
      "flex": null,
      "flex_flow": null,
      "grid_area": null,
      "grid_auto_columns": null,
      "grid_auto_flow": null,
      "grid_auto_rows": null,
      "grid_column": null,
      "grid_gap": null,
      "grid_row": null,
      "grid_template_areas": null,
      "grid_template_columns": null,
      "grid_template_rows": null,
      "height": null,
      "justify_content": null,
      "justify_items": null,
      "left": null,
      "margin": null,
      "max_height": null,
      "max_width": null,
      "min_height": null,
      "min_width": null,
      "object_fit": null,
      "object_position": null,
      "order": null,
      "overflow": null,
      "overflow_x": null,
      "overflow_y": null,
      "padding": null,
      "right": null,
      "top": null,
      "visibility": null,
      "width": null
     }
    },
    "6cc6d70f480440588cacfbb9dd768a8a": {
     "model_module": "@jupyter-widgets/controls",
     "model_name": "ProgressStyleModel",
     "model_module_version": "1.5.0",
     "state": {
      "_model_module": "@jupyter-widgets/controls",
      "_model_module_version": "1.5.0",
      "_model_name": "ProgressStyleModel",
      "_view_count": null,
      "_view_module": "@jupyter-widgets/base",
      "_view_module_version": "1.2.0",
      "_view_name": "StyleView",
      "bar_color": null,
      "description_width": ""
     }
    },
    "2a5f45234ec24245adfb20a5d321b281": {
     "model_module": "@jupyter-widgets/base",
     "model_name": "LayoutModel",
     "model_module_version": "1.2.0",
     "state": {
      "_model_module": "@jupyter-widgets/base",
      "_model_module_version": "1.2.0",
      "_model_name": "LayoutModel",
      "_view_count": null,
      "_view_module": "@jupyter-widgets/base",
      "_view_module_version": "1.2.0",
      "_view_name": "LayoutView",
      "align_content": null,
      "align_items": null,
      "align_self": null,
      "border": null,
      "bottom": null,
      "display": null,
      "flex": null,
      "flex_flow": null,
      "grid_area": null,
      "grid_auto_columns": null,
      "grid_auto_flow": null,
      "grid_auto_rows": null,
      "grid_column": null,
      "grid_gap": null,
      "grid_row": null,
      "grid_template_areas": null,
      "grid_template_columns": null,
      "grid_template_rows": null,
      "height": null,
      "justify_content": null,
      "justify_items": null,
      "left": null,
      "margin": null,
      "max_height": null,
      "max_width": null,
      "min_height": null,
      "min_width": null,
      "object_fit": null,
      "object_position": null,
      "order": null,
      "overflow": null,
      "overflow_x": null,
      "overflow_y": null,
      "padding": null,
      "right": null,
      "top": null,
      "visibility": null,
      "width": null
     }
    },
    "c4d16ec15a2c4223b772d2c15002a5e3": {
     "model_module": "@jupyter-widgets/controls",
     "model_name": "DescriptionStyleModel",
     "model_module_version": "1.5.0",
     "state": {
      "_model_module": "@jupyter-widgets/controls",
      "_model_module_version": "1.5.0",
      "_model_name": "DescriptionStyleModel",
      "_view_count": null,
      "_view_module": "@jupyter-widgets/base",
      "_view_module_version": "1.2.0",
      "_view_name": "StyleView",
      "description_width": ""
     }
    },
    "92b4fa6bd01b4f31a44c86ab3e7e8d32": {
     "model_module": "@jupyter-widgets/controls",
     "model_name": "HBoxModel",
     "model_module_version": "1.5.0",
     "state": {
      "_dom_classes": [],
      "_model_module": "@jupyter-widgets/controls",
      "_model_module_version": "1.5.0",
      "_model_name": "HBoxModel",
      "_view_count": null,
      "_view_module": "@jupyter-widgets/controls",
      "_view_module_version": "1.5.0",
      "_view_name": "HBoxView",
      "box_style": "",
      "children": [
       "IPY_MODEL_9362d0852e474d0098dfe1f32ee13913",
       "IPY_MODEL_16e9e69712904094b8168d195568d5f2",
       "IPY_MODEL_6f73fdf2c53744cc81a48aa6ca408aea"
      ],
      "layout": "IPY_MODEL_b0816d66cc36453ab6aa66c096e9bdd2"
     }
    },
    "9362d0852e474d0098dfe1f32ee13913": {
     "model_module": "@jupyter-widgets/controls",
     "model_name": "HTMLModel",
     "model_module_version": "1.5.0",
     "state": {
      "_dom_classes": [],
      "_model_module": "@jupyter-widgets/controls",
      "_model_module_version": "1.5.0",
      "_model_name": "HTMLModel",
      "_view_count": null,
      "_view_module": "@jupyter-widgets/controls",
      "_view_module_version": "1.5.0",
      "_view_name": "HTMLView",
      "description": "",
      "description_tooltip": null,
      "layout": "IPY_MODEL_996d3d9b49dd4ce2942f6f22aab80b27",
      "placeholder": "​",
      "style": "IPY_MODEL_afc92038254848c792034fa4f1dd9451",
      "value": "vocab.txt: 100%"
     }
    },
    "16e9e69712904094b8168d195568d5f2": {
     "model_module": "@jupyter-widgets/controls",
     "model_name": "FloatProgressModel",
     "model_module_version": "1.5.0",
     "state": {
      "_dom_classes": [],
      "_model_module": "@jupyter-widgets/controls",
      "_model_module_version": "1.5.0",
      "_model_name": "FloatProgressModel",
      "_view_count": null,
      "_view_module": "@jupyter-widgets/controls",
      "_view_module_version": "1.5.0",
      "_view_name": "ProgressView",
      "bar_style": "success",
      "description": "",
      "description_tooltip": null,
      "layout": "IPY_MODEL_1de79e83531342839f21917dd5b9962f",
      "max": 231508,
      "min": 0,
      "orientation": "horizontal",
      "style": "IPY_MODEL_0b48fe7964e7413bb1cde1fc73ad9075",
      "value": 231508
     }
    },
    "6f73fdf2c53744cc81a48aa6ca408aea": {
     "model_module": "@jupyter-widgets/controls",
     "model_name": "HTMLModel",
     "model_module_version": "1.5.0",
     "state": {
      "_dom_classes": [],
      "_model_module": "@jupyter-widgets/controls",
      "_model_module_version": "1.5.0",
      "_model_name": "HTMLModel",
      "_view_count": null,
      "_view_module": "@jupyter-widgets/controls",
      "_view_module_version": "1.5.0",
      "_view_name": "HTMLView",
      "description": "",
      "description_tooltip": null,
      "layout": "IPY_MODEL_53ec13b8d5d844298a13916eeafacef7",
      "placeholder": "​",
      "style": "IPY_MODEL_a1e38eb62c0c4c6caf0ae2f36b11c873",
      "value": " 232k/232k [00:00&lt;00:00, 7.76MB/s]"
     }
    },
    "b0816d66cc36453ab6aa66c096e9bdd2": {
     "model_module": "@jupyter-widgets/base",
     "model_name": "LayoutModel",
     "model_module_version": "1.2.0",
     "state": {
      "_model_module": "@jupyter-widgets/base",
      "_model_module_version": "1.2.0",
      "_model_name": "LayoutModel",
      "_view_count": null,
      "_view_module": "@jupyter-widgets/base",
      "_view_module_version": "1.2.0",
      "_view_name": "LayoutView",
      "align_content": null,
      "align_items": null,
      "align_self": null,
      "border": null,
      "bottom": null,
      "display": null,
      "flex": null,
      "flex_flow": null,
      "grid_area": null,
      "grid_auto_columns": null,
      "grid_auto_flow": null,
      "grid_auto_rows": null,
      "grid_column": null,
      "grid_gap": null,
      "grid_row": null,
      "grid_template_areas": null,
      "grid_template_columns": null,
      "grid_template_rows": null,
      "height": null,
      "justify_content": null,
      "justify_items": null,
      "left": null,
      "margin": null,
      "max_height": null,
      "max_width": null,
      "min_height": null,
      "min_width": null,
      "object_fit": null,
      "object_position": null,
      "order": null,
      "overflow": null,
      "overflow_x": null,
      "overflow_y": null,
      "padding": null,
      "right": null,
      "top": null,
      "visibility": null,
      "width": null
     }
    },
    "996d3d9b49dd4ce2942f6f22aab80b27": {
     "model_module": "@jupyter-widgets/base",
     "model_name": "LayoutModel",
     "model_module_version": "1.2.0",
     "state": {
      "_model_module": "@jupyter-widgets/base",
      "_model_module_version": "1.2.0",
      "_model_name": "LayoutModel",
      "_view_count": null,
      "_view_module": "@jupyter-widgets/base",
      "_view_module_version": "1.2.0",
      "_view_name": "LayoutView",
      "align_content": null,
      "align_items": null,
      "align_self": null,
      "border": null,
      "bottom": null,
      "display": null,
      "flex": null,
      "flex_flow": null,
      "grid_area": null,
      "grid_auto_columns": null,
      "grid_auto_flow": null,
      "grid_auto_rows": null,
      "grid_column": null,
      "grid_gap": null,
      "grid_row": null,
      "grid_template_areas": null,
      "grid_template_columns": null,
      "grid_template_rows": null,
      "height": null,
      "justify_content": null,
      "justify_items": null,
      "left": null,
      "margin": null,
      "max_height": null,
      "max_width": null,
      "min_height": null,
      "min_width": null,
      "object_fit": null,
      "object_position": null,
      "order": null,
      "overflow": null,
      "overflow_x": null,
      "overflow_y": null,
      "padding": null,
      "right": null,
      "top": null,
      "visibility": null,
      "width": null
     }
    },
    "afc92038254848c792034fa4f1dd9451": {
     "model_module": "@jupyter-widgets/controls",
     "model_name": "DescriptionStyleModel",
     "model_module_version": "1.5.0",
     "state": {
      "_model_module": "@jupyter-widgets/controls",
      "_model_module_version": "1.5.0",
      "_model_name": "DescriptionStyleModel",
      "_view_count": null,
      "_view_module": "@jupyter-widgets/base",
      "_view_module_version": "1.2.0",
      "_view_name": "StyleView",
      "description_width": ""
     }
    },
    "1de79e83531342839f21917dd5b9962f": {
     "model_module": "@jupyter-widgets/base",
     "model_name": "LayoutModel",
     "model_module_version": "1.2.0",
     "state": {
      "_model_module": "@jupyter-widgets/base",
      "_model_module_version": "1.2.0",
      "_model_name": "LayoutModel",
      "_view_count": null,
      "_view_module": "@jupyter-widgets/base",
      "_view_module_version": "1.2.0",
      "_view_name": "LayoutView",
      "align_content": null,
      "align_items": null,
      "align_self": null,
      "border": null,
      "bottom": null,
      "display": null,
      "flex": null,
      "flex_flow": null,
      "grid_area": null,
      "grid_auto_columns": null,
      "grid_auto_flow": null,
      "grid_auto_rows": null,
      "grid_column": null,
      "grid_gap": null,
      "grid_row": null,
      "grid_template_areas": null,
      "grid_template_columns": null,
      "grid_template_rows": null,
      "height": null,
      "justify_content": null,
      "justify_items": null,
      "left": null,
      "margin": null,
      "max_height": null,
      "max_width": null,
      "min_height": null,
      "min_width": null,
      "object_fit": null,
      "object_position": null,
      "order": null,
      "overflow": null,
      "overflow_x": null,
      "overflow_y": null,
      "padding": null,
      "right": null,
      "top": null,
      "visibility": null,
      "width": null
     }
    },
    "0b48fe7964e7413bb1cde1fc73ad9075": {
     "model_module": "@jupyter-widgets/controls",
     "model_name": "ProgressStyleModel",
     "model_module_version": "1.5.0",
     "state": {
      "_model_module": "@jupyter-widgets/controls",
      "_model_module_version": "1.5.0",
      "_model_name": "ProgressStyleModel",
      "_view_count": null,
      "_view_module": "@jupyter-widgets/base",
      "_view_module_version": "1.2.0",
      "_view_name": "StyleView",
      "bar_color": null,
      "description_width": ""
     }
    },
    "53ec13b8d5d844298a13916eeafacef7": {
     "model_module": "@jupyter-widgets/base",
     "model_name": "LayoutModel",
     "model_module_version": "1.2.0",
     "state": {
      "_model_module": "@jupyter-widgets/base",
      "_model_module_version": "1.2.0",
      "_model_name": "LayoutModel",
      "_view_count": null,
      "_view_module": "@jupyter-widgets/base",
      "_view_module_version": "1.2.0",
      "_view_name": "LayoutView",
      "align_content": null,
      "align_items": null,
      "align_self": null,
      "border": null,
      "bottom": null,
      "display": null,
      "flex": null,
      "flex_flow": null,
      "grid_area": null,
      "grid_auto_columns": null,
      "grid_auto_flow": null,
      "grid_auto_rows": null,
      "grid_column": null,
      "grid_gap": null,
      "grid_row": null,
      "grid_template_areas": null,
      "grid_template_columns": null,
      "grid_template_rows": null,
      "height": null,
      "justify_content": null,
      "justify_items": null,
      "left": null,
      "margin": null,
      "max_height": null,
      "max_width": null,
      "min_height": null,
      "min_width": null,
      "object_fit": null,
      "object_position": null,
      "order": null,
      "overflow": null,
      "overflow_x": null,
      "overflow_y": null,
      "padding": null,
      "right": null,
      "top": null,
      "visibility": null,
      "width": null
     }
    },
    "a1e38eb62c0c4c6caf0ae2f36b11c873": {
     "model_module": "@jupyter-widgets/controls",
     "model_name": "DescriptionStyleModel",
     "model_module_version": "1.5.0",
     "state": {
      "_model_module": "@jupyter-widgets/controls",
      "_model_module_version": "1.5.0",
      "_model_name": "DescriptionStyleModel",
      "_view_count": null,
      "_view_module": "@jupyter-widgets/base",
      "_view_module_version": "1.2.0",
      "_view_name": "StyleView",
      "description_width": ""
     }
    },
    "7789745ee6534ce6a122fa0c1b50e058": {
     "model_module": "@jupyter-widgets/controls",
     "model_name": "HBoxModel",
     "model_module_version": "1.5.0",
     "state": {
      "_dom_classes": [],
      "_model_module": "@jupyter-widgets/controls",
      "_model_module_version": "1.5.0",
      "_model_name": "HBoxModel",
      "_view_count": null,
      "_view_module": "@jupyter-widgets/controls",
      "_view_module_version": "1.5.0",
      "_view_name": "HBoxView",
      "box_style": "",
      "children": [
       "IPY_MODEL_c89abe6242674d02bf6d1adb5d32b860",
       "IPY_MODEL_cb0cad112e894d84977eb97d4efb3159",
       "IPY_MODEL_d3b67308c975424d8178f15b5bf860af"
      ],
      "layout": "IPY_MODEL_80e7cb526d804899ae0a0822303ae738"
     }
    },
    "c89abe6242674d02bf6d1adb5d32b860": {
     "model_module": "@jupyter-widgets/controls",
     "model_name": "HTMLModel",
     "model_module_version": "1.5.0",
     "state": {
      "_dom_classes": [],
      "_model_module": "@jupyter-widgets/controls",
      "_model_module_version": "1.5.0",
      "_model_name": "HTMLModel",
      "_view_count": null,
      "_view_module": "@jupyter-widgets/controls",
      "_view_module_version": "1.5.0",
      "_view_name": "HTMLView",
      "description": "",
      "description_tooltip": null,
      "layout": "IPY_MODEL_6b44757be8404bf1b8b803dde508c941",
      "placeholder": "​",
      "style": "IPY_MODEL_574c3c72506746f791c6044750d07c36",
      "value": "special_tokens_map.json: 100%"
     }
    },
    "cb0cad112e894d84977eb97d4efb3159": {
     "model_module": "@jupyter-widgets/controls",
     "model_name": "FloatProgressModel",
     "model_module_version": "1.5.0",
     "state": {
      "_dom_classes": [],
      "_model_module": "@jupyter-widgets/controls",
      "_model_module_version": "1.5.0",
      "_model_name": "FloatProgressModel",
      "_view_count": null,
      "_view_module": "@jupyter-widgets/controls",
      "_view_module_version": "1.5.0",
      "_view_name": "ProgressView",
      "bar_style": "success",
      "description": "",
      "description_tooltip": null,
      "layout": "IPY_MODEL_5177709ab43d43aca033036ec62fa0b5",
      "max": 112,
      "min": 0,
      "orientation": "horizontal",
      "style": "IPY_MODEL_0077d825ff3347ecb41fe06155beda00",
      "value": 112
     }
    },
    "d3b67308c975424d8178f15b5bf860af": {
     "model_module": "@jupyter-widgets/controls",
     "model_name": "HTMLModel",
     "model_module_version": "1.5.0",
     "state": {
      "_dom_classes": [],
      "_model_module": "@jupyter-widgets/controls",
      "_model_module_version": "1.5.0",
      "_model_name": "HTMLModel",
      "_view_count": null,
      "_view_module": "@jupyter-widgets/controls",
      "_view_module_version": "1.5.0",
      "_view_name": "HTMLView",
      "description": "",
      "description_tooltip": null,
      "layout": "IPY_MODEL_d5fd17a42b324ee89b37a3131cbdca0d",
      "placeholder": "​",
      "style": "IPY_MODEL_91c2d87b17c048aa803945c27e85a83c",
      "value": " 112/112 [00:00&lt;00:00, 11.0kB/s]"
     }
    },
    "80e7cb526d804899ae0a0822303ae738": {
     "model_module": "@jupyter-widgets/base",
     "model_name": "LayoutModel",
     "model_module_version": "1.2.0",
     "state": {
      "_model_module": "@jupyter-widgets/base",
      "_model_module_version": "1.2.0",
      "_model_name": "LayoutModel",
      "_view_count": null,
      "_view_module": "@jupyter-widgets/base",
      "_view_module_version": "1.2.0",
      "_view_name": "LayoutView",
      "align_content": null,
      "align_items": null,
      "align_self": null,
      "border": null,
      "bottom": null,
      "display": null,
      "flex": null,
      "flex_flow": null,
      "grid_area": null,
      "grid_auto_columns": null,
      "grid_auto_flow": null,
      "grid_auto_rows": null,
      "grid_column": null,
      "grid_gap": null,
      "grid_row": null,
      "grid_template_areas": null,
      "grid_template_columns": null,
      "grid_template_rows": null,
      "height": null,
      "justify_content": null,
      "justify_items": null,
      "left": null,
      "margin": null,
      "max_height": null,
      "max_width": null,
      "min_height": null,
      "min_width": null,
      "object_fit": null,
      "object_position": null,
      "order": null,
      "overflow": null,
      "overflow_x": null,
      "overflow_y": null,
      "padding": null,
      "right": null,
      "top": null,
      "visibility": null,
      "width": null
     }
    },
    "6b44757be8404bf1b8b803dde508c941": {
     "model_module": "@jupyter-widgets/base",
     "model_name": "LayoutModel",
     "model_module_version": "1.2.0",
     "state": {
      "_model_module": "@jupyter-widgets/base",
      "_model_module_version": "1.2.0",
      "_model_name": "LayoutModel",
      "_view_count": null,
      "_view_module": "@jupyter-widgets/base",
      "_view_module_version": "1.2.0",
      "_view_name": "LayoutView",
      "align_content": null,
      "align_items": null,
      "align_self": null,
      "border": null,
      "bottom": null,
      "display": null,
      "flex": null,
      "flex_flow": null,
      "grid_area": null,
      "grid_auto_columns": null,
      "grid_auto_flow": null,
      "grid_auto_rows": null,
      "grid_column": null,
      "grid_gap": null,
      "grid_row": null,
      "grid_template_areas": null,
      "grid_template_columns": null,
      "grid_template_rows": null,
      "height": null,
      "justify_content": null,
      "justify_items": null,
      "left": null,
      "margin": null,
      "max_height": null,
      "max_width": null,
      "min_height": null,
      "min_width": null,
      "object_fit": null,
      "object_position": null,
      "order": null,
      "overflow": null,
      "overflow_x": null,
      "overflow_y": null,
      "padding": null,
      "right": null,
      "top": null,
      "visibility": null,
      "width": null
     }
    },
    "574c3c72506746f791c6044750d07c36": {
     "model_module": "@jupyter-widgets/controls",
     "model_name": "DescriptionStyleModel",
     "model_module_version": "1.5.0",
     "state": {
      "_model_module": "@jupyter-widgets/controls",
      "_model_module_version": "1.5.0",
      "_model_name": "DescriptionStyleModel",
      "_view_count": null,
      "_view_module": "@jupyter-widgets/base",
      "_view_module_version": "1.2.0",
      "_view_name": "StyleView",
      "description_width": ""
     }
    },
    "5177709ab43d43aca033036ec62fa0b5": {
     "model_module": "@jupyter-widgets/base",
     "model_name": "LayoutModel",
     "model_module_version": "1.2.0",
     "state": {
      "_model_module": "@jupyter-widgets/base",
      "_model_module_version": "1.2.0",
      "_model_name": "LayoutModel",
      "_view_count": null,
      "_view_module": "@jupyter-widgets/base",
      "_view_module_version": "1.2.0",
      "_view_name": "LayoutView",
      "align_content": null,
      "align_items": null,
      "align_self": null,
      "border": null,
      "bottom": null,
      "display": null,
      "flex": null,
      "flex_flow": null,
      "grid_area": null,
      "grid_auto_columns": null,
      "grid_auto_flow": null,
      "grid_auto_rows": null,
      "grid_column": null,
      "grid_gap": null,
      "grid_row": null,
      "grid_template_areas": null,
      "grid_template_columns": null,
      "grid_template_rows": null,
      "height": null,
      "justify_content": null,
      "justify_items": null,
      "left": null,
      "margin": null,
      "max_height": null,
      "max_width": null,
      "min_height": null,
      "min_width": null,
      "object_fit": null,
      "object_position": null,
      "order": null,
      "overflow": null,
      "overflow_x": null,
      "overflow_y": null,
      "padding": null,
      "right": null,
      "top": null,
      "visibility": null,
      "width": null
     }
    },
    "0077d825ff3347ecb41fe06155beda00": {
     "model_module": "@jupyter-widgets/controls",
     "model_name": "ProgressStyleModel",
     "model_module_version": "1.5.0",
     "state": {
      "_model_module": "@jupyter-widgets/controls",
      "_model_module_version": "1.5.0",
      "_model_name": "ProgressStyleModel",
      "_view_count": null,
      "_view_module": "@jupyter-widgets/base",
      "_view_module_version": "1.2.0",
      "_view_name": "StyleView",
      "bar_color": null,
      "description_width": ""
     }
    },
    "d5fd17a42b324ee89b37a3131cbdca0d": {
     "model_module": "@jupyter-widgets/base",
     "model_name": "LayoutModel",
     "model_module_version": "1.2.0",
     "state": {
      "_model_module": "@jupyter-widgets/base",
      "_model_module_version": "1.2.0",
      "_model_name": "LayoutModel",
      "_view_count": null,
      "_view_module": "@jupyter-widgets/base",
      "_view_module_version": "1.2.0",
      "_view_name": "LayoutView",
      "align_content": null,
      "align_items": null,
      "align_self": null,
      "border": null,
      "bottom": null,
      "display": null,
      "flex": null,
      "flex_flow": null,
      "grid_area": null,
      "grid_auto_columns": null,
      "grid_auto_flow": null,
      "grid_auto_rows": null,
      "grid_column": null,
      "grid_gap": null,
      "grid_row": null,
      "grid_template_areas": null,
      "grid_template_columns": null,
      "grid_template_rows": null,
      "height": null,
      "justify_content": null,
      "justify_items": null,
      "left": null,
      "margin": null,
      "max_height": null,
      "max_width": null,
      "min_height": null,
      "min_width": null,
      "object_fit": null,
      "object_position": null,
      "order": null,
      "overflow": null,
      "overflow_x": null,
      "overflow_y": null,
      "padding": null,
      "right": null,
      "top": null,
      "visibility": null,
      "width": null
     }
    },
    "91c2d87b17c048aa803945c27e85a83c": {
     "model_module": "@jupyter-widgets/controls",
     "model_name": "DescriptionStyleModel",
     "model_module_version": "1.5.0",
     "state": {
      "_model_module": "@jupyter-widgets/controls",
      "_model_module_version": "1.5.0",
      "_model_name": "DescriptionStyleModel",
      "_view_count": null,
      "_view_module": "@jupyter-widgets/base",
      "_view_module_version": "1.2.0",
      "_view_name": "StyleView",
      "description_width": ""
     }
    }
   }
  }
 },
 "nbformat": 4,
 "nbformat_minor": 0
}
